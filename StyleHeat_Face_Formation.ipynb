{
  "nbformat": 4,
  "nbformat_minor": 0,
  "metadata": {
    "colab": {
      "provenance": [],
      "include_colab_link": true
    },
    "kernelspec": {
      "name": "python3",
      "display_name": "Python 3"
    },
    "language_info": {
      "name": "python"
    },
    "accelerator": "GPU",
    "gpuClass": "standard"
  },
  "cells": [
    {
      "cell_type": "markdown",
      "metadata": {
        "id": "view-in-github",
        "colab_type": "text"
      },
      "source": [
        "<a href=\"https://colab.research.google.com/github/SadafShafi/Sadaf-Avatar/blob/main/StyleHeat_Face_Formation.ipynb\" target=\"_parent\"><img src=\"https://colab.research.google.com/assets/colab-badge.svg\" alt=\"Open In Colab\"/></a>"
      ]
    },
    {
      "cell_type": "code",
      "source": [
        "# !apt-get --purge remove cuda nvidia* libnvidia-*\n",
        "# !dpkg -l | grep cuda- | awk '{print $2}' | xargs -n1 dpkg --purge\n",
        "# !apt-get remove cuda-*\n",
        "# !apt autoremove\n",
        "# !apt-get update"
      ],
      "metadata": {
        "id": "rJ8tbN3M35GB"
      },
      "execution_count": null,
      "outputs": []
    },
    {
      "cell_type": "code",
      "source": [
        "# !wget https://developer.download.nvidia.com/compute/cuda/repos/ubuntu2204/sbsa/cuda-ubuntu2204.pin\n",
        "# !sudo mv cuda-ubuntu2204.pin /etc/apt/preferences.d/cuda-repository-pin-600\n",
        "# !wget https://developer.download.nvidia.com/compute/cuda/11.8.0/local_installers/cuda-repo-ubuntu2204-11-8-local_11.8.0-520.61.05-1_arm64.deb\n",
        "# !sudo dpkg -i cuda-repo-ubuntu2204-11-8-local_11.8.0-520.61.05-1_arm64.deb\n",
        "# !sudo cp /var/cuda-repo-ubuntu2204-11-8-local/cuda-*-keyring.gpg /usr/share/keyrings/\n",
        "# !sudo apt-get update\n",
        "# !sudo apt-get -y install cuda"
      ],
      "metadata": {
        "id": "R4wnSBYlPzGf"
      },
      "execution_count": null,
      "outputs": []
    },
    {
      "cell_type": "code",
      "source": [
        "# !sudo cp -P cuda/targets/ppc64le-linux/include/cudnn.h /usr/local/cuda-11.8/include/\n",
        "# !sudo cp -P cuda/targets/ppc64le-linux/lib/libcudnn* /usr/local/cuda-11.8/lib64/\n",
        "# !sudo chmod a+r /usr/local/cuda-11.8/lib64/libcudnn*"
      ],
      "metadata": {
        "id": "DpDLJmlJ35DC"
      },
      "execution_count": null,
      "outputs": []
    },
    {
      "cell_type": "code",
      "source": [
        "# !export PATH=/usr/local/cuda-11.8/bin${PATH:+:${PATH}}\n",
        "# !export LD_LIBRARY_PATH=/usr/local/cuda-11.8/lib64:${LD_LIBRARY_PATH:+:${LD_LIBRARY_PATH}}"
      ],
      "metadata": {
        "id": "_wwF_40ES34_"
      },
      "execution_count": null,
      "outputs": []
    },
    {
      "cell_type": "code",
      "source": [
        "# import torch\n",
        "# torch.cuda.is_available()"
      ],
      "metadata": {
        "id": "zNHZblfcQE6-"
      },
      "execution_count": null,
      "outputs": []
    },
    {
      "cell_type": "code",
      "source": [
        "# import tensorflow as tf\n",
        "# tf.test.gpu_device_name()"
      ],
      "metadata": {
        "id": "Kr5vMxn5QHAM"
      },
      "execution_count": null,
      "outputs": []
    },
    {
      "cell_type": "code",
      "source": [
        "# !nvcc --version"
      ],
      "metadata": {
        "id": "K7I2FRx8QLSW"
      },
      "execution_count": null,
      "outputs": []
    },
    {
      "cell_type": "markdown",
      "source": [
        "**Style HEAT**"
      ],
      "metadata": {
        "id": "ucBdo8logtyG"
      }
    },
    {
      "cell_type": "code",
      "source": [
        "'''\n",
        "download a foulder from Gdrive  done\n",
        "download a shared foulder from Gdrive  done \n",
        "Try mounting gdrive and do the same   done\n",
        "here we are done with it, it is so interesting that i dont like doing it anymore \n",
        "lets code and code \n",
        "'''"
      ],
      "metadata": {
        "id": "lmnqfgdTujVQ"
      },
      "execution_count": null,
      "outputs": []
    },
    {
      "cell_type": "code",
      "source": [
        "# !mv MyStyleHeat StyleHEAT"
      ],
      "metadata": {
        "id": "qeIKZRZIekjB"
      },
      "execution_count": 4,
      "outputs": []
    },
    {
      "cell_type": "code",
      "source": [
        "import torch"
      ],
      "metadata": {
        "id": "edg4B1ss2Z5c"
      },
      "execution_count": 34,
      "outputs": []
    },
    {
      "cell_type": "code",
      "source": [
        "u=torch.tensor([1,2])\n",
        "v=torch.tensor([0,1])"
      ],
      "metadata": {
        "id": "zjGvvs7F2YO6"
      },
      "execution_count": 35,
      "outputs": []
    },
    {
      "cell_type": "code",
      "source": [
        "torch.dot(u, v)"
      ],
      "metadata": {
        "colab": {
          "base_uri": "https://localhost:8080/"
        },
        "id": "88Lz-00n2fcN",
        "outputId": "835991db-02e2-49d5-9b51-73d7d883e054"
      },
      "execution_count": 36,
      "outputs": [
        {
          "output_type": "execute_result",
          "data": {
            "text/plain": [
              "tensor(2)"
            ]
          },
          "metadata": {},
          "execution_count": 36
        }
      ]
    },
    {
      "cell_type": "code",
      "source": [
        "cd StyleHEAT"
      ],
      "metadata": {
        "colab": {
          "base_uri": "https://localhost:8080/"
        },
        "id": "XNsKqgAxy9f7",
        "outputId": "c6960ede-185b-4860-e432-958c5af44cc6"
      },
      "execution_count": 30,
      "outputs": [
        {
          "output_type": "stream",
          "name": "stdout",
          "text": [
            "/content/StyleHEAT\n"
          ]
        }
      ]
    },
    {
      "cell_type": "code",
      "source": [
        "! wget https://repo.anaconda.com/miniconda/Miniconda3-latest-Linux-x86_64.sh\n",
        "! chmod +x Miniconda3-latest-Linux-x86_64.sh\n",
        "! bash ./Miniconda3-latest-Linux-x86_64.sh -b -f -p /usr/local\n",
        "import sys \n",
        "sys.path.append('/usr/local/lib/python3.7/site-packages/')"
      ],
      "metadata": {
        "colab": {
          "base_uri": "https://localhost:8080/"
        },
        "id": "IBauS-5a6UyC",
        "outputId": "a1f70841-a3a5-4160-d504-24852ba89ae4"
      },
      "execution_count": 1,
      "outputs": [
        {
          "output_type": "stream",
          "name": "stdout",
          "text": [
            "--2022-12-05 09:58:57--  https://repo.anaconda.com/miniconda/Miniconda3-latest-Linux-x86_64.sh\n",
            "Resolving repo.anaconda.com (repo.anaconda.com)... 104.16.130.3, 104.16.131.3, 2606:4700::6810:8303, ...\n",
            "Connecting to repo.anaconda.com (repo.anaconda.com)|104.16.130.3|:443... connected.\n",
            "HTTP request sent, awaiting response... 200 OK\n",
            "Length: 76607678 (73M) [application/x-sh]\n",
            "Saving to: ‘Miniconda3-latest-Linux-x86_64.sh’\n",
            "\n",
            "Miniconda3-latest-L 100%[===================>]  73.06M   178MB/s    in 0.4s    \n",
            "\n",
            "2022-12-05 09:58:58 (178 MB/s) - ‘Miniconda3-latest-Linux-x86_64.sh’ saved [76607678/76607678]\n",
            "\n",
            "PREFIX=/usr/local\n",
            "Unpacking payload ...\n",
            "Collecting package metadata (current_repodata.json): - \b\b\\ \b\b| \b\bdone\n",
            "Solving environment: - \b\b\\ \b\bdone\n",
            "\n",
            "## Package Plan ##\n",
            "\n",
            "  environment location: /usr/local\n",
            "\n",
            "  added / updated specs:\n",
            "    - _libgcc_mutex==0.1=main\n",
            "    - _openmp_mutex==4.5=1_gnu\n",
            "    - brotlipy==0.7.0=py39h27cfd23_1003\n",
            "    - ca-certificates==2022.3.29=h06a4308_1\n",
            "    - certifi==2021.10.8=py39h06a4308_2\n",
            "    - cffi==1.15.0=py39hd667e15_1\n",
            "    - charset-normalizer==2.0.4=pyhd3eb1b0_0\n",
            "    - colorama==0.4.4=pyhd3eb1b0_0\n",
            "    - conda-content-trust==0.1.1=pyhd3eb1b0_0\n",
            "    - conda-package-handling==1.8.1=py39h7f8727e_0\n",
            "    - conda==4.12.0=py39h06a4308_0\n",
            "    - cryptography==36.0.0=py39h9ce1e76_0\n",
            "    - idna==3.3=pyhd3eb1b0_0\n",
            "    - ld_impl_linux-64==2.35.1=h7274673_9\n",
            "    - libffi==3.3=he6710b0_2\n",
            "    - libgcc-ng==9.3.0=h5101ec6_17\n",
            "    - libgomp==9.3.0=h5101ec6_17\n",
            "    - libstdcxx-ng==9.3.0=hd4cf53a_17\n",
            "    - ncurses==6.3=h7f8727e_2\n",
            "    - openssl==1.1.1n=h7f8727e_0\n",
            "    - pip==21.2.4=py39h06a4308_0\n",
            "    - pycosat==0.6.3=py39h27cfd23_0\n",
            "    - pycparser==2.21=pyhd3eb1b0_0\n",
            "    - pyopenssl==22.0.0=pyhd3eb1b0_0\n",
            "    - pysocks==1.7.1=py39h06a4308_0\n",
            "    - python==3.9.12=h12debd9_0\n",
            "    - readline==8.1.2=h7f8727e_1\n",
            "    - requests==2.27.1=pyhd3eb1b0_0\n",
            "    - ruamel_yaml==0.15.100=py39h27cfd23_0\n",
            "    - setuptools==61.2.0=py39h06a4308_0\n",
            "    - six==1.16.0=pyhd3eb1b0_1\n",
            "    - sqlite==3.38.2=hc218d9a_0\n",
            "    - tk==8.6.11=h1ccaba5_0\n",
            "    - tqdm==4.63.0=pyhd3eb1b0_0\n",
            "    - tzdata==2022a=hda174b7_0\n",
            "    - urllib3==1.26.8=pyhd3eb1b0_0\n",
            "    - wheel==0.37.1=pyhd3eb1b0_0\n",
            "    - xz==5.2.5=h7b6447c_0\n",
            "    - yaml==0.2.5=h7b6447c_0\n",
            "    - zlib==1.2.12=h7f8727e_1\n",
            "\n",
            "\n",
            "The following NEW packages will be INSTALLED:\n",
            "\n",
            "  _libgcc_mutex      pkgs/main/linux-64::_libgcc_mutex-0.1-main\n",
            "  _openmp_mutex      pkgs/main/linux-64::_openmp_mutex-4.5-1_gnu\n",
            "  brotlipy           pkgs/main/linux-64::brotlipy-0.7.0-py39h27cfd23_1003\n",
            "  ca-certificates    pkgs/main/linux-64::ca-certificates-2022.3.29-h06a4308_1\n",
            "  certifi            pkgs/main/linux-64::certifi-2021.10.8-py39h06a4308_2\n",
            "  cffi               pkgs/main/linux-64::cffi-1.15.0-py39hd667e15_1\n",
            "  charset-normalizer pkgs/main/noarch::charset-normalizer-2.0.4-pyhd3eb1b0_0\n",
            "  colorama           pkgs/main/noarch::colorama-0.4.4-pyhd3eb1b0_0\n",
            "  conda              pkgs/main/linux-64::conda-4.12.0-py39h06a4308_0\n",
            "  conda-content-tru~ pkgs/main/noarch::conda-content-trust-0.1.1-pyhd3eb1b0_0\n",
            "  conda-package-han~ pkgs/main/linux-64::conda-package-handling-1.8.1-py39h7f8727e_0\n",
            "  cryptography       pkgs/main/linux-64::cryptography-36.0.0-py39h9ce1e76_0\n",
            "  idna               pkgs/main/noarch::idna-3.3-pyhd3eb1b0_0\n",
            "  ld_impl_linux-64   pkgs/main/linux-64::ld_impl_linux-64-2.35.1-h7274673_9\n",
            "  libffi             pkgs/main/linux-64::libffi-3.3-he6710b0_2\n",
            "  libgcc-ng          pkgs/main/linux-64::libgcc-ng-9.3.0-h5101ec6_17\n",
            "  libgomp            pkgs/main/linux-64::libgomp-9.3.0-h5101ec6_17\n",
            "  libstdcxx-ng       pkgs/main/linux-64::libstdcxx-ng-9.3.0-hd4cf53a_17\n",
            "  ncurses            pkgs/main/linux-64::ncurses-6.3-h7f8727e_2\n",
            "  openssl            pkgs/main/linux-64::openssl-1.1.1n-h7f8727e_0\n",
            "  pip                pkgs/main/linux-64::pip-21.2.4-py39h06a4308_0\n",
            "  pycosat            pkgs/main/linux-64::pycosat-0.6.3-py39h27cfd23_0\n",
            "  pycparser          pkgs/main/noarch::pycparser-2.21-pyhd3eb1b0_0\n",
            "  pyopenssl          pkgs/main/noarch::pyopenssl-22.0.0-pyhd3eb1b0_0\n",
            "  pysocks            pkgs/main/linux-64::pysocks-1.7.1-py39h06a4308_0\n",
            "  python             pkgs/main/linux-64::python-3.9.12-h12debd9_0\n",
            "  readline           pkgs/main/linux-64::readline-8.1.2-h7f8727e_1\n",
            "  requests           pkgs/main/noarch::requests-2.27.1-pyhd3eb1b0_0\n",
            "  ruamel_yaml        pkgs/main/linux-64::ruamel_yaml-0.15.100-py39h27cfd23_0\n",
            "  setuptools         pkgs/main/linux-64::setuptools-61.2.0-py39h06a4308_0\n",
            "  six                pkgs/main/noarch::six-1.16.0-pyhd3eb1b0_1\n",
            "  sqlite             pkgs/main/linux-64::sqlite-3.38.2-hc218d9a_0\n",
            "  tk                 pkgs/main/linux-64::tk-8.6.11-h1ccaba5_0\n",
            "  tqdm               pkgs/main/noarch::tqdm-4.63.0-pyhd3eb1b0_0\n",
            "  tzdata             pkgs/main/noarch::tzdata-2022a-hda174b7_0\n",
            "  urllib3            pkgs/main/noarch::urllib3-1.26.8-pyhd3eb1b0_0\n",
            "  wheel              pkgs/main/noarch::wheel-0.37.1-pyhd3eb1b0_0\n",
            "  xz                 pkgs/main/linux-64::xz-5.2.5-h7b6447c_0\n",
            "  yaml               pkgs/main/linux-64::yaml-0.2.5-h7b6447c_0\n",
            "  zlib               pkgs/main/linux-64::zlib-1.2.12-h7f8727e_1\n",
            "\n",
            "\n",
            "Preparing transaction: / \b\b- \b\b\\ \b\bdone\n",
            "Executing transaction: / \b\b- \b\b\\ \b\b| \b\b/ \b\b- \b\b\\ \b\b| \b\b/ \b\b- \b\b\\ \b\b| \b\b/ \b\b- \b\b\\ \b\bdone\n",
            "installation finished.\n",
            "WARNING:\n",
            "    You currently have a PYTHONPATH environment variable set. This may cause\n",
            "    unexpected behavior when running the Python interpreter in Miniconda3.\n",
            "    For best results, please verify that your PYTHONPATH only points to\n",
            "    directories of packages that are compatible with the Python interpreter\n",
            "    in Miniconda3: /usr/local\n"
          ]
        }
      ]
    },
    {
      "cell_type": "code",
      "source": [
        "# %pip install conda"
      ],
      "metadata": {
        "id": "ObuYkB9Ky647"
      },
      "execution_count": 2,
      "outputs": []
    },
    {
      "cell_type": "code",
      "source": [
        "# !conda"
      ],
      "metadata": {
        "id": "FXKYeTfg6F0F"
      },
      "execution_count": 3,
      "outputs": []
    },
    {
      "cell_type": "code",
      "source": [
        "# %git clone https://github.com/SadafShafi/MyStyleHeat.git\n",
        "# %mv MyStyleHeat StyleHEAT\n",
        "!git clone https://github.com/FeiiYin/StyleHEAT.git\n",
        "%cd StyleHEAT\n",
        "!conda create -n StyleHEAT python=3.7\n",
        "# !conda activate StyleHEAT \n",
        "# %pip install torch==1.7.1+cu110 torchvision==0.8.2+cu110 -f https://download.pytorch.org/whl/torch_stable.html\n",
        "# %pip install -r requirements.txt"
      ],
      "metadata": {
        "id": "oxuhGLfDfdMa",
        "colab": {
          "base_uri": "https://localhost:8080/"
        },
        "outputId": "d3ce19d0-5fd3-426b-8bc4-bb46b4d35aba"
      },
      "execution_count": 4,
      "outputs": [
        {
          "output_type": "stream",
          "name": "stdout",
          "text": [
            "Cloning into 'StyleHEAT'...\n",
            "remote: Enumerating objects: 310, done.\u001b[K\n",
            "remote: Counting objects: 100% (275/275), done.\u001b[K\n",
            "remote: Compressing objects: 100% (218/218), done.\u001b[K\n",
            "remote: Total 310 (delta 57), reused 262 (delta 50), pack-reused 35\u001b[K\n",
            "Receiving objects: 100% (310/310), 44.46 MiB | 41.23 MiB/s, done.\n",
            "Resolving deltas: 100% (57/57), done.\n",
            "/content/StyleHEAT\n",
            "Collecting package metadata (current_repodata.json): - \b\b\\ \b\b| \b\b/ \b\b- \b\b\\ \b\b| \b\b/ \b\b- \b\b\\ \b\b| \b\b/ \b\b- \b\b\\ \b\b| \b\b/ \b\b- \b\b\\ \b\b| \b\b/ \b\b- \b\b\\ \b\b| \b\bdone\n",
            "Solving environment: - \b\bdone\n",
            "\n",
            "\n",
            "==> WARNING: A newer version of conda exists. <==\n",
            "  current version: 4.12.0\n",
            "  latest version: 22.11.0\n",
            "\n",
            "Please update conda by running\n",
            "\n",
            "    $ conda update -n base -c defaults conda\n",
            "\n",
            "\n",
            "\n",
            "## Package Plan ##\n",
            "\n",
            "  environment location: /usr/local/envs/StyleHEAT\n",
            "\n",
            "  added / updated specs:\n",
            "    - python=3.7\n",
            "\n",
            "\n",
            "The following packages will be downloaded:\n",
            "\n",
            "    package                    |            build\n",
            "    ---------------------------|-----------------\n",
            "    _openmp_mutex-5.1          |            1_gnu          21 KB\n",
            "    ca-certificates-2022.10.11 |       h06a4308_0         124 KB\n",
            "    certifi-2022.9.24          |   py37h06a4308_0         154 KB\n",
            "    ld_impl_linux-64-2.38      |       h1181459_1         654 KB\n",
            "    libffi-3.4.2               |       h6a678d5_6         136 KB\n",
            "    libgcc-ng-11.2.0           |       h1234567_1         5.3 MB\n",
            "    libgomp-11.2.0             |       h1234567_1         474 KB\n",
            "    libstdcxx-ng-11.2.0        |       h1234567_1         4.7 MB\n",
            "    ncurses-6.3                |       h5eee18b_3         781 KB\n",
            "    openssl-1.1.1s             |       h7f8727e_0         3.6 MB\n",
            "    pip-22.2.2                 |   py37h06a4308_0         2.3 MB\n",
            "    python-3.7.15              |       h7a1cb2a_1        40.7 MB\n",
            "    readline-8.2               |       h5eee18b_0         357 KB\n",
            "    setuptools-65.5.0          |   py37h06a4308_0         1.1 MB\n",
            "    sqlite-3.40.0              |       h5082296_0         1.2 MB\n",
            "    tk-8.6.12                  |       h1ccaba5_0         3.0 MB\n",
            "    xz-5.2.8                   |       h5eee18b_0         429 KB\n",
            "    zlib-1.2.13                |       h5eee18b_0         103 KB\n",
            "    ------------------------------------------------------------\n",
            "                                           Total:        65.1 MB\n",
            "\n",
            "The following NEW packages will be INSTALLED:\n",
            "\n",
            "  _libgcc_mutex      pkgs/main/linux-64::_libgcc_mutex-0.1-main\n",
            "  _openmp_mutex      pkgs/main/linux-64::_openmp_mutex-5.1-1_gnu\n",
            "  ca-certificates    pkgs/main/linux-64::ca-certificates-2022.10.11-h06a4308_0\n",
            "  certifi            pkgs/main/linux-64::certifi-2022.9.24-py37h06a4308_0\n",
            "  ld_impl_linux-64   pkgs/main/linux-64::ld_impl_linux-64-2.38-h1181459_1\n",
            "  libffi             pkgs/main/linux-64::libffi-3.4.2-h6a678d5_6\n",
            "  libgcc-ng          pkgs/main/linux-64::libgcc-ng-11.2.0-h1234567_1\n",
            "  libgomp            pkgs/main/linux-64::libgomp-11.2.0-h1234567_1\n",
            "  libstdcxx-ng       pkgs/main/linux-64::libstdcxx-ng-11.2.0-h1234567_1\n",
            "  ncurses            pkgs/main/linux-64::ncurses-6.3-h5eee18b_3\n",
            "  openssl            pkgs/main/linux-64::openssl-1.1.1s-h7f8727e_0\n",
            "  pip                pkgs/main/linux-64::pip-22.2.2-py37h06a4308_0\n",
            "  python             pkgs/main/linux-64::python-3.7.15-h7a1cb2a_1\n",
            "  readline           pkgs/main/linux-64::readline-8.2-h5eee18b_0\n",
            "  setuptools         pkgs/main/linux-64::setuptools-65.5.0-py37h06a4308_0\n",
            "  sqlite             pkgs/main/linux-64::sqlite-3.40.0-h5082296_0\n",
            "  tk                 pkgs/main/linux-64::tk-8.6.12-h1ccaba5_0\n",
            "  wheel              pkgs/main/noarch::wheel-0.37.1-pyhd3eb1b0_0\n",
            "  xz                 pkgs/main/linux-64::xz-5.2.8-h5eee18b_0\n",
            "  zlib               pkgs/main/linux-64::zlib-1.2.13-h5eee18b_0\n",
            "\n",
            "\n",
            "Proceed ([y]/n)? y\n",
            "\n",
            "\n",
            "Downloading and Extracting Packages\n",
            "tk-8.6.12            | 3.0 MB    | : 100% 1.0/1 [00:00<00:00,  4.92it/s]\n",
            "zlib-1.2.13          | 103 KB    | : 100% 1.0/1 [00:00<00:00, 21.65it/s]\n",
            "ld_impl_linux-64-2.3 | 654 KB    | : 100% 1.0/1 [00:00<00:00, 17.44it/s]\n",
            "libstdcxx-ng-11.2.0  | 4.7 MB    | : 100% 1.0/1 [00:00<00:00,  7.23it/s]\n",
            "xz-5.2.8             | 429 KB    | : 100% 1.0/1 [00:00<00:00, 14.02it/s]\n",
            "_openmp_mutex-5.1    | 21 KB     | : 100% 1.0/1 [00:00<00:00, 21.80it/s]\n",
            "certifi-2022.9.24    | 154 KB    | : 100% 1.0/1 [00:00<00:00, 18.47it/s]\n",
            "ca-certificates-2022 | 124 KB    | : 100% 1.0/1 [00:00<00:00, 24.54it/s]\n",
            "readline-8.2         | 357 KB    | : 100% 1.0/1 [00:00<00:00, 17.38it/s]\n",
            "libgcc-ng-11.2.0     | 5.3 MB    | : 100% 1.0/1 [00:00<00:00,  6.50it/s]\n",
            "libgomp-11.2.0       | 474 KB    | : 100% 1.0/1 [00:00<00:00, 20.02it/s]\n",
            "pip-22.2.2           | 2.3 MB    | : 100% 1.0/1 [00:00<00:00,  5.89it/s]\n",
            "openssl-1.1.1s       | 3.6 MB    | : 100% 1.0/1 [00:00<00:00,  9.27it/s]\n",
            "sqlite-3.40.0        | 1.2 MB    | : 100% 1.0/1 [00:00<00:00, 15.53it/s]\n",
            "libffi-3.4.2         | 136 KB    | : 100% 1.0/1 [00:00<00:00, 18.71it/s]\n",
            "python-3.7.15        | 40.7 MB   | : 100% 1.0/1 [00:00<00:00,  1.10it/s]              \n",
            "ncurses-6.3          | 781 KB    | : 100% 1.0/1 [00:00<00:00,  4.20it/s]\n",
            "setuptools-65.5.0    | 1.1 MB    | : 100% 1.0/1 [00:00<00:00,  9.78it/s]\n",
            "Preparing transaction: | \b\b/ \b\b- \b\bdone\n",
            "Verifying transaction: | \b\b/ \b\b- \b\b\\ \b\b| \b\b/ \b\b- \b\b\\ \b\b| \b\bdone\n",
            "Executing transaction: - \b\b\\ \b\b| \b\b/ \b\b- \b\b\\ \b\b| \b\b/ \b\b- \b\b\\ \b\b| \b\b/ \b\b- \b\bdone\n",
            "#\n",
            "# To activate this environment, use\n",
            "#\n",
            "#     $ conda activate StyleHEAT\n",
            "#\n",
            "# To deactivate an active environment, use\n",
            "#\n",
            "#     $ conda deactivate\n",
            "\n"
          ]
        }
      ]
    },
    {
      "cell_type": "code",
      "source": [
        "%%bash\n",
        "source activate StyleHEAT \n",
        "conda env list \n",
        "pip install torch==1.7.1+cu110 torchvision==0.8.2+cu110 -f https://download.pytorch.org/whl/torch_stable.html\n",
        "pip install -r requirements.txt"
      ],
      "metadata": {
        "colab": {
          "base_uri": "https://localhost:8080/"
        },
        "id": "Og5ZR7wJMLXO",
        "outputId": "18dd13eb-6720-42cf-d594-9f103956f8d6"
      },
      "execution_count": 5,
      "outputs": [
        {
          "output_type": "stream",
          "name": "stdout",
          "text": [
            "# conda environments:\n",
            "#\n",
            "base                     /usr/local\n",
            "StyleHEAT             *  /usr/local/envs/StyleHEAT\n",
            "\n",
            "Looking in indexes: https://pypi.org/simple, https://us-python.pkg.dev/colab-wheels/public/simple/\n",
            "Looking in links: https://download.pytorch.org/whl/torch_stable.html\n",
            "Collecting torch==1.7.1+cu110\n",
            "  Downloading https://download.pytorch.org/whl/cu110/torch-1.7.1%2Bcu110-cp37-cp37m-linux_x86_64.whl (1156.8 MB)\n",
            "     ━━━━━━━━━━━━━━━━━━━━━━━━━━━━━━━━━━━━━━━━ 1.2/1.2 GB 1.4 MB/s eta 0:00:00\n",
            "Collecting torchvision==0.8.2+cu110\n",
            "  Downloading https://download.pytorch.org/whl/cu110/torchvision-0.8.2%2Bcu110-cp37-cp37m-linux_x86_64.whl (12.9 MB)\n",
            "     ━━━━━━━━━━━━━━━━━━━━━━━━━━━━━━━━━━━━━━━━ 12.9/12.9 MB 84.2 MB/s eta 0:00:00\n",
            "Collecting typing-extensions\n",
            "  Downloading typing_extensions-4.4.0-py3-none-any.whl (26 kB)\n",
            "Collecting numpy\n",
            "  Downloading numpy-1.21.6-cp37-cp37m-manylinux_2_12_x86_64.manylinux2010_x86_64.whl (15.7 MB)\n",
            "     ━━━━━━━━━━━━━━━━━━━━━━━━━━━━━━━━━━━━━━━━ 15.7/15.7 MB 20.0 MB/s eta 0:00:00\n",
            "Collecting pillow>=4.1.1\n",
            "  Downloading Pillow-9.3.0-cp37-cp37m-manylinux_2_17_x86_64.manylinux2014_x86_64.whl (3.2 MB)\n",
            "     ━━━━━━━━━━━━━━━━━━━━━━━━━━━━━━━━━━━━━━━━ 3.2/3.2 MB 21.5 MB/s eta 0:00:00\n",
            "Installing collected packages: typing-extensions, pillow, numpy, torch, torchvision\n",
            "Successfully installed numpy-1.21.6 pillow-9.3.0 torch-1.7.1+cu110 torchvision-0.8.2+cu110 typing-extensions-4.4.0\n",
            "Looking in indexes: https://pypi.org/simple, https://us-python.pkg.dev/colab-wheels/public/simple/\n",
            "Collecting basicsr==1.3.4.7\n",
            "  Downloading basicsr-1.3.4.7.tar.gz (160 kB)\n",
            "     ━━━━━━━━━━━━━━━━━━━━━━━━━━━━━━━━━━━━━━━ 160.2/160.2 kB 7.1 MB/s eta 0:00:00\n",
            "  Preparing metadata (setup.py): started\n",
            "  Preparing metadata (setup.py): finished with status 'done'\n",
            "Collecting certifi==2020.12.5\n",
            "  Downloading certifi-2020.12.5-py2.py3-none-any.whl (147 kB)\n",
            "     ━━━━━━━━━━━━━━━━━━━━━━━━━━━━━━━━━━━━━━ 147.5/147.5 kB 12.5 MB/s eta 0:00:00\n",
            "Collecting cffi\n",
            "  Downloading cffi-1.15.1-cp37-cp37m-manylinux_2_17_x86_64.manylinux2014_x86_64.whl (427 kB)\n",
            "     ━━━━━━━━━━━━━━━━━━━━━━━━━━━━━━━━━━━━━━ 427.9/427.9 kB 30.3 MB/s eta 0:00:00\n",
            "Collecting dlib==19.22.1\n",
            "  Downloading dlib-19.22.1.tar.gz (7.4 MB)\n",
            "     ━━━━━━━━━━━━━━━━━━━━━━━━━━━━━━━━━━━━━━━━ 7.4/7.4 MB 100.9 MB/s eta 0:00:00\n",
            "  Preparing metadata (setup.py): started\n",
            "  Preparing metadata (setup.py): finished with status 'done'\n",
            "Collecting face-alignment==1.3.5\n",
            "  Downloading face_alignment-1.3.5.tar.gz (27 kB)\n",
            "  Preparing metadata (setup.py): started\n",
            "  Preparing metadata (setup.py): finished with status 'done'\n",
            "Collecting glob2\n",
            "  Downloading glob2-0.7.tar.gz (10 kB)\n",
            "  Preparing metadata (setup.py): started\n",
            "  Preparing metadata (setup.py): finished with status 'done'\n",
            "Collecting imageio==2.9.0\n",
            "  Downloading imageio-2.9.0-py3-none-any.whl (3.3 MB)\n",
            "     ━━━━━━━━━━━━━━━━━━━━━━━━━━━━━━━━━━━━━━━━ 3.3/3.3 MB 19.1 MB/s eta 0:00:00\n",
            "Collecting imageio-ffmpeg==0.4.5\n",
            "  Downloading imageio_ffmpeg-0.4.5-py3-none-manylinux2010_x86_64.whl (26.9 MB)\n",
            "     ━━━━━━━━━━━━━━━━━━━━━━━━━━━━━━━━━━━━━━━━ 26.9/26.9 MB 37.0 MB/s eta 0:00:00\n",
            "Collecting kornia==0.5.5\n",
            "  Downloading kornia-0.5.5-py2.py3-none-any.whl (292 kB)\n",
            "     ━━━━━━━━━━━━━━━━━━━━━━━━━━━━━━━━━━━━━━ 292.4/292.4 kB 29.2 MB/s eta 0:00:00\n",
            "Collecting lmdb==1.2.1\n",
            "  Downloading lmdb-1.2.1-cp37-cp37m-manylinux2010_x86_64.whl (299 kB)\n",
            "     ━━━━━━━━━━━━━━━━━━━━━━━━━━━━━━━━━━━━━━ 299.4/299.4 kB 31.6 MB/s eta 0:00:00\n",
            "Collecting numba==0.54.1\n",
            "  Downloading numba-0.54.1-cp37-cp37m-manylinux2014_x86_64.manylinux_2_17_x86_64.whl (3.3 MB)\n",
            "     ━━━━━━━━━━━━━━━━━━━━━━━━━━━━━━━━━━━━━━━━ 3.3/3.3 MB 98.5 MB/s eta 0:00:00\n",
            "Collecting numpy==1.19.0\n",
            "  Downloading numpy-1.19.0-cp37-cp37m-manylinux2010_x86_64.whl (14.6 MB)\n",
            "     ━━━━━━━━━━━━━━━━━━━━━━━━━━━━━━━━━━━━━━━━ 14.6/14.6 MB 90.7 MB/s eta 0:00:00\n",
            "Collecting opencv-python==3.4.9.33\n",
            "  Downloading opencv_python-3.4.9.33-cp37-cp37m-manylinux1_x86_64.whl (28.2 MB)\n",
            "     ━━━━━━━━━━━━━━━━━━━━━━━━━━━━━━━━━━━━━━━━ 28.2/28.2 MB 67.1 MB/s eta 0:00:00\n",
            "Collecting pandas==1.3.4\n",
            "  Downloading pandas-1.3.4-cp37-cp37m-manylinux_2_17_x86_64.manylinux2014_x86_64.whl (11.3 MB)\n",
            "     ━━━━━━━━━━━━━━━━━━━━━━━━━━━━━━━━━━━━━━━ 11.3/11.3 MB 112.7 MB/s eta 0:00:00\n",
            "Collecting Pillow==6.2.1\n",
            "  Downloading Pillow-6.2.1-cp37-cp37m-manylinux1_x86_64.whl (2.1 MB)\n",
            "     ━━━━━━━━━━━━━━━━━━━━━━━━━━━━━━━━━━━━━━━━ 2.1/2.1 MB 85.0 MB/s eta 0:00:00\n",
            "Collecting python-dateutil==2.8.2\n",
            "  Downloading python_dateutil-2.8.2-py2.py3-none-any.whl (247 kB)\n",
            "     ━━━━━━━━━━━━━━━━━━━━━━━━━━━━━━━━━━━━━━ 247.7/247.7 kB 28.6 MB/s eta 0:00:00\n",
            "Collecting PyYAML==5.3.1\n",
            "  Downloading PyYAML-5.3.1.tar.gz (269 kB)\n",
            "     ━━━━━━━━━━━━━━━━━━━━━━━━━━━━━━━━━━━━━━ 269.4/269.4 kB 29.6 MB/s eta 0:00:00\n",
            "  Preparing metadata (setup.py): started\n",
            "  Preparing metadata (setup.py): finished with status 'done'\n",
            "Collecting scikit-image==0.16.2\n",
            "  Downloading scikit_image-0.16.2-cp37-cp37m-manylinux1_x86_64.whl (26.5 MB)\n",
            "     ━━━━━━━━━━━━━━━━━━━━━━━━━━━━━━━━━━━━━━━━ 26.5/26.5 MB 68.1 MB/s eta 0:00:00\n",
            "Collecting scipy==1.4.1\n",
            "  Downloading scipy-1.4.1-cp37-cp37m-manylinux1_x86_64.whl (26.1 MB)\n",
            "     ━━━━━━━━━━━━━━━━━━━━━━━━━━━━━━━━━━━━━━━━ 26.1/26.1 MB 73.2 MB/s eta 0:00:00\n",
            "Collecting tensorboard==2.7.0\n",
            "  Downloading tensorboard-2.7.0-py3-none-any.whl (5.8 MB)\n",
            "     ━━━━━━━━━━━━━━━━━━━━━━━━━━━━━━━━━━━━━━━━ 5.8/5.8 MB 98.2 MB/s eta 0:00:00\n",
            "Requirement already satisfied: torch==1.7.1 in /usr/local/envs/StyleHEAT/lib/python3.7/site-packages (from -r requirements.txt (line 21)) (1.7.1+cu110)\n",
            "Requirement already satisfied: torchvision==0.8.2 in /usr/local/envs/StyleHEAT/lib/python3.7/site-packages (from -r requirements.txt (line 22)) (0.8.2+cu110)\n",
            "Collecting tqdm\n",
            "  Downloading tqdm-4.64.1-py2.py3-none-any.whl (78 kB)\n",
            "     ━━━━━━━━━━━━━━━━━━━━━━━━━━━━━━━━━━━━━━━━ 78.5/78.5 kB 11.5 MB/s eta 0:00:00\n",
            "Collecting trimesh==3.9.20\n",
            "  Downloading trimesh-3.9.20-py3-none-any.whl (632 kB)\n",
            "     ━━━━━━━━━━━━━━━━━━━━━━━━━━━━━━━━━━━━━━ 632.4/632.4 kB 50.9 MB/s eta 0:00:00\n",
            "Collecting addict\n",
            "  Downloading addict-2.4.0-py3-none-any.whl (3.8 kB)\n",
            "Collecting future\n",
            "  Downloading future-0.18.2.tar.gz (829 kB)\n",
            "     ━━━━━━━━━━━━━━━━━━━━━━━━━━━━━━━━━━━━━━ 829.2/829.2 kB 56.7 MB/s eta 0:00:00\n",
            "  Preparing metadata (setup.py): started\n",
            "  Preparing metadata (setup.py): finished with status 'done'\n",
            "Collecting requests\n",
            "  Downloading requests-2.28.1-py3-none-any.whl (62 kB)\n",
            "     ━━━━━━━━━━━━━━━━━━━━━━━━━━━━━━━━━━━━━━━━ 62.8/62.8 kB 7.9 MB/s eta 0:00:00\n",
            "Collecting tb-nightly\n",
            "  Downloading tb_nightly-2.12.0a20221204-py3-none-any.whl (5.7 MB)\n",
            "     ━━━━━━━━━━━━━━━━━━━━━━━━━━━━━━━━━━━━━━━━ 5.7/5.7 MB 98.8 MB/s eta 0:00:00\n",
            "Collecting yapf\n",
            "  Downloading yapf-0.32.0-py2.py3-none-any.whl (190 kB)\n",
            "     ━━━━━━━━━━━━━━━━━━━━━━━━━━━━━━━━━━━━━━ 190.2/190.2 kB 23.6 MB/s eta 0:00:00\n",
            "Requirement already satisfied: setuptools in /usr/local/envs/StyleHEAT/lib/python3.7/site-packages (from numba==0.54.1->-r requirements.txt (line 11)) (65.5.0)\n",
            "Collecting llvmlite<0.38,>=0.37.0rc1\n",
            "  Downloading llvmlite-0.37.0-cp37-cp37m-manylinux2014_x86_64.whl (26.3 MB)\n",
            "     ━━━━━━━━━━━━━━━━━━━━━━━━━━━━━━━━━━━━━━━━ 26.3/26.3 MB 16.8 MB/s eta 0:00:00\n",
            "Collecting pytz>=2017.3\n",
            "  Downloading pytz-2022.6-py2.py3-none-any.whl (498 kB)\n",
            "     ━━━━━━━━━━━━━━━━━━━━━━━━━━━━━━━━━━━━━━ 498.1/498.1 kB 38.2 MB/s eta 0:00:00\n",
            "Collecting six>=1.5\n",
            "  Downloading six-1.16.0-py2.py3-none-any.whl (11 kB)\n",
            "Collecting matplotlib!=3.0.0,>=2.0.0\n",
            "  Downloading matplotlib-3.5.3-cp37-cp37m-manylinux_2_5_x86_64.manylinux1_x86_64.whl (11.2 MB)\n",
            "     ━━━━━━━━━━━━━━━━━━━━━━━━━━━━━━━━━━━━━━━ 11.2/11.2 MB 108.1 MB/s eta 0:00:00\n",
            "Collecting PyWavelets>=0.4.0\n",
            "  Downloading PyWavelets-1.3.0-cp37-cp37m-manylinux_2_5_x86_64.manylinux1_x86_64.manylinux_2_12_x86_64.manylinux2010_x86_64.whl (6.4 MB)\n",
            "     ━━━━━━━━━━━━━━━━━━━━━━━━━━━━━━━━━━━━━━━━ 6.4/6.4 MB 104.9 MB/s eta 0:00:00\n",
            "Collecting networkx>=2.0\n",
            "  Downloading networkx-2.6.3-py3-none-any.whl (1.9 MB)\n",
            "     ━━━━━━━━━━━━━━━━━━━━━━━━━━━━━━━━━━━━━━━━ 1.9/1.9 MB 81.5 MB/s eta 0:00:00\n",
            "Collecting tensorboard-plugin-wit>=1.6.0\n",
            "  Downloading tensorboard_plugin_wit-1.8.1-py3-none-any.whl (781 kB)\n",
            "     ━━━━━━━━━━━━━━━━━━━━━━━━━━━━━━━━━━━━━━ 781.3/781.3 kB 59.0 MB/s eta 0:00:00\n",
            "Collecting markdown>=2.6.8\n",
            "  Downloading Markdown-3.4.1-py3-none-any.whl (93 kB)\n",
            "     ━━━━━━━━━━━━━━━━━━━━━━━━━━━━━━━━━━━━━━━━ 93.3/93.3 kB 12.6 MB/s eta 0:00:00\n",
            "Collecting grpcio>=1.24.3\n",
            "  Downloading grpcio-1.51.1-cp37-cp37m-manylinux_2_17_x86_64.manylinux2014_x86_64.whl (4.8 MB)\n",
            "     ━━━━━━━━━━━━━━━━━━━━━━━━━━━━━━━━━━━━━━━━ 4.8/4.8 MB 103.1 MB/s eta 0:00:00\n",
            "Collecting protobuf>=3.6.0\n",
            "  Downloading protobuf-4.21.10-cp37-abi3-manylinux2014_x86_64.whl (408 kB)\n",
            "     ━━━━━━━━━━━━━━━━━━━━━━━━━━━━━━━━━━━━━━ 408.4/408.4 kB 44.6 MB/s eta 0:00:00\n",
            "Requirement already satisfied: wheel>=0.26 in /usr/local/envs/StyleHEAT/lib/python3.7/site-packages (from tensorboard==2.7.0->-r requirements.txt (line 20)) (0.37.1)\n",
            "Collecting werkzeug>=0.11.15\n",
            "  Downloading Werkzeug-2.2.2-py3-none-any.whl (232 kB)\n",
            "     ━━━━━━━━━━━━━━━━━━━━━━━━━━━━━━━━━━━━━━ 232.7/232.7 kB 28.5 MB/s eta 0:00:00\n",
            "Collecting absl-py>=0.4\n",
            "  Downloading absl_py-1.3.0-py3-none-any.whl (124 kB)\n",
            "     ━━━━━━━━━━━━━━━━━━━━━━━━━━━━━━━━━━━━━━ 124.6/124.6 kB 14.4 MB/s eta 0:00:00\n",
            "Collecting google-auth-oauthlib<0.5,>=0.4.1\n",
            "  Downloading google_auth_oauthlib-0.4.6-py2.py3-none-any.whl (18 kB)\n",
            "Collecting google-auth<3,>=1.6.3\n",
            "  Downloading google_auth-2.15.0-py2.py3-none-any.whl (177 kB)\n",
            "     ━━━━━━━━━━━━━━━━━━━━━━━━━━━━━━━━━━━━━━ 177.0/177.0 kB 23.8 MB/s eta 0:00:00\n",
            "Collecting tensorboard-data-server<0.7.0,>=0.6.0\n",
            "  Downloading tensorboard_data_server-0.6.1-py3-none-manylinux2010_x86_64.whl (4.9 MB)\n",
            "     ━━━━━━━━━━━━━━━━━━━━━━━━━━━━━━━━━━━━━━━━ 4.9/4.9 MB 110.0 MB/s eta 0:00:00\n",
            "Requirement already satisfied: typing-extensions in /usr/local/envs/StyleHEAT/lib/python3.7/site-packages (from torch==1.7.1->-r requirements.txt (line 21)) (4.4.0)\n",
            "Collecting pycparser\n",
            "  Downloading pycparser-2.21-py2.py3-none-any.whl (118 kB)\n",
            "     ━━━━━━━━━━━━━━━━━━━━━━━━━━━━━━━━━━━━━━ 118.7/118.7 kB 15.9 MB/s eta 0:00:00\n",
            "Collecting cachetools<6.0,>=2.0.0\n",
            "  Downloading cachetools-5.2.0-py3-none-any.whl (9.3 kB)\n",
            "Collecting pyasn1-modules>=0.2.1\n",
            "  Downloading pyasn1_modules-0.2.8-py2.py3-none-any.whl (155 kB)\n",
            "     ━━━━━━━━━━━━━━━━━━━━━━━━━━━━━━━━━━━━━━ 155.3/155.3 kB 16.9 MB/s eta 0:00:00\n",
            "Collecting rsa<5,>=3.1.4\n",
            "  Downloading rsa-4.9-py3-none-any.whl (34 kB)\n",
            "Collecting requests-oauthlib>=0.7.0\n",
            "  Downloading requests_oauthlib-1.3.1-py2.py3-none-any.whl (23 kB)\n",
            "Collecting importlib-metadata>=4.4\n",
            "  Downloading importlib_metadata-5.1.0-py3-none-any.whl (21 kB)\n",
            "Collecting packaging>=20.0\n",
            "  Downloading packaging-21.3-py3-none-any.whl (40 kB)\n",
            "     ━━━━━━━━━━━━━━━━━━━━━━━━━━━━━━━━━━━━━━━━ 40.8/40.8 kB 5.2 MB/s eta 0:00:00\n",
            "Collecting fonttools>=4.22.0\n",
            "  Downloading fonttools-4.38.0-py3-none-any.whl (965 kB)\n",
            "     ━━━━━━━━━━━━━━━━━━━━━━━━━━━━━━━━━━━━━━ 965.4/965.4 kB 50.3 MB/s eta 0:00:00\n",
            "Collecting kiwisolver>=1.0.1\n",
            "  Downloading kiwisolver-1.4.4-cp37-cp37m-manylinux_2_5_x86_64.manylinux1_x86_64.whl (1.1 MB)\n",
            "     ━━━━━━━━━━━━━━━━━━━━━━━━━━━━━━━━━━━━━━━━ 1.1/1.1 MB 71.5 MB/s eta 0:00:00\n",
            "Collecting pyparsing>=2.2.1\n",
            "  Downloading pyparsing-3.0.9-py3-none-any.whl (98 kB)\n",
            "     ━━━━━━━━━━━━━━━━━━━━━━━━━━━━━━━━━━━━━━━━ 98.3/98.3 kB 14.5 MB/s eta 0:00:00\n",
            "Collecting cycler>=0.10\n",
            "  Downloading cycler-0.11.0-py3-none-any.whl (6.4 kB)\n",
            "Collecting charset-normalizer<3,>=2\n",
            "  Downloading charset_normalizer-2.1.1-py3-none-any.whl (39 kB)\n",
            "Collecting idna<4,>=2.5\n",
            "  Downloading idna-3.4-py3-none-any.whl (61 kB)\n",
            "     ━━━━━━━━━━━━━━━━━━━━━━━━━━━━━━━━━━━━━━━━ 61.5/61.5 kB 9.3 MB/s eta 0:00:00\n",
            "Collecting urllib3<1.27,>=1.21.1\n",
            "  Downloading urllib3-1.26.13-py2.py3-none-any.whl (140 kB)\n",
            "     ━━━━━━━━━━━━━━━━━━━━━━━━━━━━━━━━━━━━━━ 140.6/140.6 kB 19.8 MB/s eta 0:00:00\n",
            "Collecting MarkupSafe>=2.1.1\n",
            "  Downloading MarkupSafe-2.1.1-cp37-cp37m-manylinux_2_17_x86_64.manylinux2014_x86_64.whl (25 kB)\n",
            "Collecting protobuf>=3.6.0\n",
            "  Downloading protobuf-3.20.3-cp37-cp37m-manylinux_2_5_x86_64.manylinux1_x86_64.whl (1.0 MB)\n",
            "     ━━━━━━━━━━━━━━━━━━━━━━━━━━━━━━━━━━━━━━━━ 1.0/1.0 MB 58.9 MB/s eta 0:00:00\n",
            "Collecting zipp>=0.5\n",
            "  Downloading zipp-3.11.0-py3-none-any.whl (6.6 kB)\n",
            "Collecting pyasn1<0.5.0,>=0.4.6\n",
            "  Downloading pyasn1-0.4.8-py2.py3-none-any.whl (77 kB)\n",
            "     ━━━━━━━━━━━━━━━━━━━━━━━━━━━━━━━━━━━━━━━━ 77.1/77.1 kB 10.6 MB/s eta 0:00:00\n",
            "Collecting oauthlib>=3.0.0\n",
            "  Downloading oauthlib-3.2.2-py3-none-any.whl (151 kB)\n",
            "     ━━━━━━━━━━━━━━━━━━━━━━━━━━━━━━━━━━━━━━ 151.7/151.7 kB 18.3 MB/s eta 0:00:00\n",
            "Building wheels for collected packages: basicsr, dlib, face-alignment, PyYAML, glob2, future\n",
            "  Building wheel for basicsr (setup.py): started\n",
            "  Building wheel for basicsr (setup.py): finished with status 'done'\n",
            "  Created wheel for basicsr: filename=basicsr-1.3.4.7-py3-none-any.whl size=193443 sha256=5b1672752ceac59806fa86c1c58081e4ccfe3e24eacd9db740d683e715914f2e\n",
            "  Stored in directory: /root/.cache/pip/wheels/7a/30/22/c340b05efe3d8911035989d1e5db3d623ce3457d70a7060854\n",
            "  Building wheel for dlib (setup.py): started\n",
            "  Building wheel for dlib (setup.py): finished with status 'done'\n",
            "  Created wheel for dlib: filename=dlib-19.22.1-cp37-cp37m-linux_x86_64.whl size=4203514 sha256=5e1b01925e0b8f3f19b50a6edfba5576d3b331b62ab4b271a92632c08c75aecc\n",
            "  Stored in directory: /root/.cache/pip/wheels/10/6f/db/ef0380a66d955f9caa81cff6027fb77c0b556568e0daace292\n",
            "  Building wheel for face-alignment (setup.py): started\n",
            "  Building wheel for face-alignment (setup.py): finished with status 'done'\n",
            "  Created wheel for face-alignment: filename=face_alignment-1.3.5-py2.py3-none-any.whl size=28226 sha256=b72abf6aa616290f766f5457ef806a37075764863e7aa638062e2a7fe3206491\n",
            "  Stored in directory: /root/.cache/pip/wheels/c9/ba/4d/2d368f55e5f929f9472da59e356fbdf1483f885de80a5bc620\n",
            "  Building wheel for PyYAML (setup.py): started\n",
            "  Building wheel for PyYAML (setup.py): finished with status 'done'\n",
            "  Created wheel for PyYAML: filename=PyYAML-5.3.1-cp37-cp37m-linux_x86_64.whl size=393555 sha256=15c14cef103d4d790410f8bbcf7cb1fc7e22657bdba92982b2ab357a2d68b994\n",
            "  Stored in directory: /root/.cache/pip/wheels/5e/03/1e/e1e954795d6f35dfc7b637fe2277bff021303bd9570ecea653\n",
            "  Building wheel for glob2 (setup.py): started\n",
            "  Building wheel for glob2 (setup.py): finished with status 'done'\n",
            "  Created wheel for glob2: filename=glob2-0.7-py2.py3-none-any.whl size=9302 sha256=ee9c5f4f71dcb02c10cf0ebdc25c6254b9bcf97b67c081e96825f4e05a750aa6\n",
            "  Stored in directory: /root/.cache/pip/wheels/d7/3c/72/5300602ba1269ffce8cff5dcf7b525fee756b57455903c37ba\n",
            "  Building wheel for future (setup.py): started\n",
            "  Building wheel for future (setup.py): finished with status 'done'\n",
            "  Created wheel for future: filename=future-0.18.2-py3-none-any.whl size=491058 sha256=d7952bf1116158ccb62ebd66ed5649984a7aa96df851f5171388693d023069d7\n",
            "  Stored in directory: /root/.cache/pip/wheels/56/b0/fe/4410d17b32f1f0c3cf54cdfb2bc04d7b4b8f4ae377e2229ba0\n",
            "Successfully built basicsr dlib face-alignment PyYAML glob2 future\n",
            "Installing collected packages: yapf, tensorboard-plugin-wit, pytz, pyasn1, lmdb, glob2, dlib, certifi, addict, zipp, urllib3, tqdm, tensorboard-data-server, six, rsa, PyYAML, pyparsing, pycparser, pyasn1-modules, protobuf, Pillow, oauthlib, numpy, networkx, MarkupSafe, llvmlite, kiwisolver, imageio-ffmpeg, idna, grpcio, future, fonttools, cycler, charset-normalizer, cachetools, absl-py, werkzeug, trimesh, scipy, requests, PyWavelets, python-dateutil, packaging, opencv-python, numba, importlib-metadata, imageio, google-auth, cffi, requests-oauthlib, pandas, matplotlib, markdown, kornia, scikit-image, google-auth-oauthlib, tensorboard, tb-nightly, face-alignment, basicsr\n",
            "  Attempting uninstall: certifi\n",
            "    Found existing installation: certifi 2022.9.24\n",
            "    Uninstalling certifi-2022.9.24:\n",
            "      Successfully uninstalled certifi-2022.9.24\n",
            "  Attempting uninstall: Pillow\n",
            "    Found existing installation: Pillow 9.3.0\n",
            "    Uninstalling Pillow-9.3.0:\n",
            "      Successfully uninstalled Pillow-9.3.0\n",
            "  Attempting uninstall: numpy\n",
            "    Found existing installation: numpy 1.21.6\n",
            "    Uninstalling numpy-1.21.6:\n",
            "      Successfully uninstalled numpy-1.21.6\n",
            "Successfully installed MarkupSafe-2.1.1 Pillow-6.2.1 PyWavelets-1.3.0 PyYAML-5.3.1 absl-py-1.3.0 addict-2.4.0 basicsr-1.3.4.7 cachetools-5.2.0 certifi-2020.12.5 cffi-1.15.1 charset-normalizer-2.1.1 cycler-0.11.0 dlib-19.22.1 face-alignment-1.3.5 fonttools-4.38.0 future-0.18.2 glob2-0.7 google-auth-2.15.0 google-auth-oauthlib-0.4.6 grpcio-1.51.1 idna-3.4 imageio-2.9.0 imageio-ffmpeg-0.4.5 importlib-metadata-5.1.0 kiwisolver-1.4.4 kornia-0.5.5 llvmlite-0.37.0 lmdb-1.2.1 markdown-3.4.1 matplotlib-3.5.3 networkx-2.6.3 numba-0.54.1 numpy-1.19.0 oauthlib-3.2.2 opencv-python-3.4.9.33 packaging-21.3 pandas-1.3.4 protobuf-3.20.3 pyasn1-0.4.8 pyasn1-modules-0.2.8 pycparser-2.21 pyparsing-3.0.9 python-dateutil-2.8.2 pytz-2022.6 requests-2.28.1 requests-oauthlib-1.3.1 rsa-4.9 scikit-image-0.16.2 scipy-1.4.1 six-1.16.0 tb-nightly-2.12.0a20221204 tensorboard-2.7.0 tensorboard-data-server-0.6.1 tensorboard-plugin-wit-1.8.1 tqdm-4.64.1 trimesh-3.9.20 urllib3-1.26.13 werkzeug-2.2.2 yapf-0.32.0 zipp-3.11.0\n"
          ]
        },
        {
          "output_type": "stream",
          "name": "stderr",
          "text": [
            "tcmalloc: large alloc 1156751360 bytes == 0x3894000 @  0x7eff2ecf81e7 0x49bf51 0x4aa7f4 0x4eda9c 0x581e28 0x5299c4 0x4c6dbc 0x4ba316 0x4b310b 0x4b1411 0x4c50ec 0x4ba23f 0x4b310b 0x4b1411 0x4c50ec 0x4ba23f 0x4b310b 0x4b1411 0x4c50ec 0x4ba23f 0x4b310b 0x4b1411 0x4c50ec 0x4ba23f 0x4b310b 0x4b1411 0x4c50ec 0x4ba23f 0x4b310b 0x4c4f56 0x4ba23f\n",
            "tcmalloc: large alloc 1445945344 bytes == 0x487be000 @  0x7eff2ecf9615 0x4eda9c 0x581e28 0x5299c4 0x4c6dbc 0x4ba316 0x4b310b 0x4b1411 0x4c50ec 0x4ba23f 0x4b310b 0x4b1411 0x4c50ec 0x4ba23f 0x4b310b 0x4b1411 0x4c50ec 0x4ba23f 0x4b310b 0x4b1411 0x4c50ec 0x4ba23f 0x4b310b 0x4b1411 0x4c50ec 0x4ba23f 0x4b310b 0x4c4f56 0x4ba23f 0x4b310b 0x4b1411\n",
            "WARNING: Running pip as the 'root' user can result in broken permissions and conflicting behaviour with the system package manager. It is recommended to use a virtual environment instead: https://pip.pypa.io/warnings/venv\n",
            "WARNING: Running pip as the 'root' user can result in broken permissions and conflicting behaviour with the system package manager. It is recommended to use a virtual environment instead: https://pip.pypa.io/warnings/venv\n"
          ]
        }
      ]
    },
    {
      "cell_type": "code",
      "source": [
        "ls  "
      ],
      "metadata": {
        "colab": {
          "base_uri": "https://localhost:8080/"
        },
        "id": "sZn41zjCMPv1",
        "outputId": "6890de02-09f2-4cd2-ea27-4ae19f02e8bb"
      },
      "execution_count": 5,
      "outputs": [
        {
          "output_type": "stream",
          "name": "stdout",
          "text": [
            "\u001b[0m\u001b[01;34mbash\u001b[0m/     \u001b[01;34mdocs\u001b[0m/         \u001b[01;32mMiniconda3-latest-Linux-x86_64.sh\u001b[0m*  \u001b[01;34mthird_part\u001b[0m/\n",
            "\u001b[01;34mconfigs\u001b[0m/  inference.py  \u001b[01;34mmodels\u001b[0m/                             \u001b[01;34mtrainers\u001b[0m/\n",
            "\u001b[01;34mdata\u001b[0m/     LICENSE       README.md                           train.py\n",
            "\u001b[01;34mdnnlib\u001b[0m/   \u001b[01;34mloss\u001b[0m/         requirements.txt                    \u001b[01;34mutils\u001b[0m/\n"
          ]
        }
      ]
    },
    {
      "cell_type": "code",
      "source": [
        "!mkdir /content/StyleHEAT/checkpoints"
      ],
      "metadata": {
        "id": "8UizAH5F2hdM"
      },
      "execution_count": 6,
      "outputs": []
    },
    {
      "cell_type": "code",
      "source": [
        "from google.colab import drive\n",
        "drive.mount('/content/drive') "
      ],
      "metadata": {
        "colab": {
          "base_uri": "https://localhost:8080/"
        },
        "id": "drcW9rdpfAQr",
        "outputId": "6f458a65-3dce-4dd2-a3c7-17945454b8e7"
      },
      "execution_count": 7,
      "outputs": [
        {
          "output_type": "stream",
          "name": "stdout",
          "text": [
            "Mounted at /content/drive\n"
          ]
        }
      ]
    },
    {
      "cell_type": "code",
      "source": [
        "!cp -r /content/drive/MyDrive/StyleHEAT/checkpoints/*   /content/StyleHEAT/checkpoints"
      ],
      "metadata": {
        "id": "YLWpGRr1aTXk"
      },
      "execution_count": 8,
      "outputs": []
    },
    {
      "cell_type": "code",
      "source": [
        "# from google.colab import drive\n",
        "# drive.mount('/content/drive')"
      ],
      "metadata": {
        "id": "tO9v28EBe-Z9"
      },
      "execution_count": null,
      "outputs": []
    },
    {
      "cell_type": "code",
      "source": [
        "!mv /content/StyleHEAT/checkpoints/videos.zip   /content/StyleHEAT/docs/demo/"
      ],
      "metadata": {
        "id": "DJ6y--1AbCgg"
      },
      "execution_count": 9,
      "outputs": []
    },
    {
      "cell_type": "code",
      "source": [
        "!unzip /content/StyleHEAT/docs/demo/videos.zip -d /content/StyleHEAT/docs/demo/"
      ],
      "metadata": {
        "colab": {
          "base_uri": "https://localhost:8080/"
        },
        "id": "HGTC8yXXcFXG",
        "outputId": "a58d889b-e8f9-4e9a-f214-a1aea0f63278"
      },
      "execution_count": 10,
      "outputs": [
        {
          "output_type": "stream",
          "name": "stdout",
          "text": [
            "Archive:  /content/StyleHEAT/docs/demo/videos.zip\n",
            "   creating: /content/StyleHEAT/docs/demo/videos/\n",
            "  inflating: /content/StyleHEAT/docs/demo/videos/WRA_RogerWicker2_000.mp4  \n",
            "  inflating: /content/StyleHEAT/docs/demo/videos/RD_Radio34_003.mp4  \n",
            "  inflating: /content/StyleHEAT/docs/demo/videos/WRA_BobCorker_000.mp4  \n",
            "  inflating: /content/StyleHEAT/docs/demo/videos/RD_Radio34_003_512.mp4  \n",
            "  inflating: /content/StyleHEAT/docs/demo/videos/RD_Radio34_007.mp4  \n",
            "  inflating: /content/StyleHEAT/docs/demo/videos/WRA_CandiceMiller0_000.mp4  \n",
            "  inflating: /content/StyleHEAT/docs/demo/videos/WRA_RandPaul1_000.mp4  \n",
            "  inflating: /content/StyleHEAT/docs/demo/videos/WRA_AustinScott0_000.mp4  \n",
            "  inflating: /content/StyleHEAT/docs/demo/videos/WRA_PeterRoskam1_000.mp4  \n",
            "  inflating: /content/StyleHEAT/docs/demo/videos/WRA_RichardShelby_000.mp4  \n",
            "  inflating: /content/StyleHEAT/docs/demo/videos/RD_Radio34_009.mp4  \n",
            "  inflating: /content/StyleHEAT/docs/demo/videos/WRA_ReneeEllmers_000.mp4  \n",
            "  inflating: /content/StyleHEAT/docs/demo/videos/WRA_KevinMcCarthy0_000.mp4  \n",
            "   creating: /content/StyleHEAT/docs/demo/videos/3dmm/\n",
            "  inflating: /content/StyleHEAT/docs/demo/videos/3dmm/3dmm_WRA_AustinScott0_000.npy  \n",
            "  inflating: /content/StyleHEAT/docs/demo/videos/3dmm/3dmm_WRA_ReneeEllmers_000.npy  \n",
            "  inflating: /content/StyleHEAT/docs/demo/videos/3dmm/3dmm_WRA_JohnnyIsakson_000.npy  \n",
            "  inflating: /content/StyleHEAT/docs/demo/videos/3dmm/3dmm_WRA_SteveDaines_000.npy  \n",
            "  inflating: /content/StyleHEAT/docs/demo/videos/3dmm/3dmm_RD_Radio34_003_512.npy  \n",
            "  inflating: /content/StyleHEAT/docs/demo/videos/3dmm/3dmm_RD_Radio34_003.npy  \n",
            "  inflating: /content/StyleHEAT/docs/demo/videos/3dmm/3dmm_WRA_RandPaul1_000.npy  \n",
            "  inflating: /content/StyleHEAT/docs/demo/videos/3dmm/3dmm_RD_Radio34_009.npy  \n",
            "  inflating: /content/StyleHEAT/docs/demo/videos/3dmm/3dmm_WRA_RichardShelby_000.npy  \n",
            "  inflating: /content/StyleHEAT/docs/demo/videos/3dmm/3dmm_RD_Radio34_007.npy  \n",
            "  inflating: /content/StyleHEAT/docs/demo/videos/3dmm/3dmm_WRA_BobCorker_000.npy  \n",
            "  inflating: /content/StyleHEAT/docs/demo/videos/3dmm/3dmm_WRA_CandiceMiller0_000.npy  \n",
            "  inflating: /content/StyleHEAT/docs/demo/videos/3dmm/3dmm_WRA_PeterRoskam1_000.npy  \n",
            "  inflating: /content/StyleHEAT/docs/demo/videos/3dmm/3dmm_WRA_RogerWicker2_000.npy  \n",
            "  inflating: /content/StyleHEAT/docs/demo/videos/3dmm/3dmm_WRA_KevinMcCarthy0_000.npy  \n",
            "  inflating: /content/StyleHEAT/docs/demo/videos/WRA_JohnnyIsakson_000.mp4  \n",
            "  inflating: /content/StyleHEAT/docs/demo/videos/WRA_SteveDaines_000.mp4  \n"
          ]
        }
      ]
    },
    {
      "cell_type": "code",
      "source": [
        "!mkdir /content/StyleHEAT/checkpoints/Deep3D/"
      ],
      "metadata": {
        "id": "zyaZRHlnfasf"
      },
      "execution_count": 11,
      "outputs": []
    },
    {
      "cell_type": "code",
      "source": [
        "!mv /content/StyleHEAT/checkpoints/epoch_20.pth  /content/StyleHEAT/checkpoints/Deep3D/"
      ],
      "metadata": {
        "id": "mN1ONTAs3nwh"
      },
      "execution_count": 12,
      "outputs": []
    },
    {
      "cell_type": "code",
      "source": [
        "# with open('/gdrive/My Drive/foo.txt', 'w') as f:\n",
        "#   f.write('Hello Google Drive!')\n",
        "# !cat '/gdrive/My Drive/foo.txt'"
      ],
      "metadata": {
        "id": "uxmWxKWtVuin"
      },
      "execution_count": null,
      "outputs": []
    },
    {
      "cell_type": "code",
      "source": [],
      "metadata": {
        "id": "RB5T8QuRfe17"
      },
      "execution_count": null,
      "outputs": []
    },
    {
      "cell_type": "code",
      "source": [],
      "metadata": {
        "id": "I__wO2jpfeyp"
      },
      "execution_count": null,
      "outputs": []
    },
    {
      "cell_type": "code",
      "source": [],
      "metadata": {
        "id": "N0de-cfWfeva"
      },
      "execution_count": null,
      "outputs": []
    },
    {
      "cell_type": "code",
      "source": [],
      "metadata": {
        "id": "LfUXsUR0feql"
      },
      "execution_count": null,
      "outputs": []
    },
    {
      "cell_type": "code",
      "source": [
        "# cd StyleHEAT"
      ],
      "metadata": {
        "id": "o9jhg6XZfhFC"
      },
      "execution_count": null,
      "outputs": []
    },
    {
      "cell_type": "code",
      "source": [
        "# !pip install -r requirements.txt"
      ],
      "metadata": {
        "id": "b8nZP-gNgI3Y"
      },
      "execution_count": 13,
      "outputs": []
    },
    {
      "cell_type": "code",
      "source": [
        "pwd"
      ],
      "metadata": {
        "colab": {
          "base_uri": "https://localhost:8080/",
          "height": 35
        },
        "id": "fwjF_xcggM9D",
        "outputId": "94efcfb2-e7c1-4df2-90b3-cc74e19670c4"
      },
      "execution_count": 16,
      "outputs": [
        {
          "output_type": "execute_result",
          "data": {
            "text/plain": [
              "'/content/StyleHEAT'"
            ],
            "application/vnd.google.colaboratory.intrinsic+json": {
              "type": "string"
            }
          },
          "metadata": {},
          "execution_count": 16
        }
      ]
    },
    {
      "cell_type": "code",
      "source": [
        "%%bash\n",
        "source activate StyleHEAT \n",
        "conda env list \n",
        "pip install dominate\n",
        "pip install Ninja"
      ],
      "metadata": {
        "colab": {
          "base_uri": "https://localhost:8080/"
        },
        "id": "Art4d0K7jIyq",
        "outputId": "fffc901b-b914-45a7-e765-8798f089a129"
      },
      "execution_count": 15,
      "outputs": [
        {
          "output_type": "stream",
          "name": "stdout",
          "text": [
            "# conda environments:\n",
            "#\n",
            "base                     /usr/local\n",
            "StyleHEAT             *  /usr/local/envs/StyleHEAT\n",
            "\n",
            "Looking in indexes: https://pypi.org/simple, https://us-python.pkg.dev/colab-wheels/public/simple/\n",
            "Collecting dominate\n",
            "  Downloading dominate-2.7.0-py2.py3-none-any.whl (29 kB)\n",
            "Installing collected packages: dominate\n",
            "Successfully installed dominate-2.7.0\n",
            "Looking in indexes: https://pypi.org/simple, https://us-python.pkg.dev/colab-wheels/public/simple/\n",
            "Collecting Ninja\n",
            "  Downloading ninja-1.11.1-py2.py3-none-manylinux_2_12_x86_64.manylinux2010_x86_64.whl (145 kB)\n",
            "     ━━━━━━━━━━━━━━━━━━━━━━━━━━━━━━━━━━━━━━━ 146.0/146.0 kB 5.8 MB/s eta 0:00:00\n",
            "Installing collected packages: Ninja\n",
            "Successfully installed Ninja-1.11.1\n"
          ]
        },
        {
          "output_type": "stream",
          "name": "stderr",
          "text": [
            "WARNING: Running pip as the 'root' user can result in broken permissions and conflicting behaviour with the system package manager. It is recommended to use a virtual environment instead: https://pip.pypa.io/warnings/venv\n",
            "WARNING: Running pip as the 'root' user can result in broken permissions and conflicting behaviour with the system package manager. It is recommended to use a virtual environment instead: https://pip.pypa.io/warnings/venv\n"
          ]
        }
      ]
    },
    {
      "cell_type": "code",
      "source": [],
      "metadata": {
        "id": "EvG4qhabjUg0"
      },
      "execution_count": null,
      "outputs": []
    },
    {
      "cell_type": "code",
      "source": [
        "# pip install face_alignment==1.3.5"
      ],
      "metadata": {
        "id": "aJzgTOTqY203"
      },
      "execution_count": null,
      "outputs": []
    },
    {
      "cell_type": "code",
      "source": [
        "# pip install kornia"
      ],
      "metadata": {
        "id": "O0kQoOYlZN3R"
      },
      "execution_count": null,
      "outputs": []
    },
    {
      "cell_type": "code",
      "source": [
        "# pip install trimesh"
      ],
      "metadata": {
        "id": "EECBfXWIe12t"
      },
      "execution_count": null,
      "outputs": []
    },
    {
      "cell_type": "code",
      "source": [
        "# python inference.py --config configs/inference.yaml --video_source=./docs/demo/videos/RD_Radio34_003_512.mp4 --output_dir=./docs/demo/output   --if_extract "
      ],
      "metadata": {
        "id": "9HHBLDM4gq-y"
      },
      "execution_count": null,
      "outputs": []
    },
    {
      "cell_type": "code",
      "source": [
        "%%bash\n",
        "source activate StyleHEAT \n",
        "conda env list \n",
        "python inference.py \\\n",
        " --config configs/inference.yaml \\\n",
        " --video_source=./docs/demo/videos/RD_Radio34_003_512.mp4 \\\n",
        " --output_dir=./docs/demo/output  --if_extract \n",
        "#  --edit_expression_only"
      ],
      "metadata": {
        "id": "UoNVAPCxgOYB",
        "colab": {
          "base_uri": "https://localhost:8080/"
        },
        "outputId": "5a5c73fc-5a59-4534-8ad5-a216834dc8d4"
      },
      "execution_count": 17,
      "outputs": [
        {
          "output_type": "stream",
          "name": "stdout",
          "text": [
            "Process is interrupted.\n"
          ]
        }
      ]
    },
    {
      "cell_type": "code",
      "source": [
        "%%bash\n",
        "source activate StyleHEAT \n",
        "conda env list \n",
        "python inference.py   \\\n",
        "  --config configs/inference.yaml \\\n",
        "  --video_source=./docs/demo/videos/RD_Radio34_003_512.mp4 \\\n",
        "  --image_source=./docs/demo/images/212.jpeg \\\n",
        "  --cross_id  \\\n",
        "  --output_dir=./docs/demo/output --if_extract"
      ],
      "metadata": {
        "id": "pimnjWXdjJI9",
        "colab": {
          "base_uri": "https://localhost:8080/"
        },
        "outputId": "93cfaf91-0533-48b8-e55c-5e8456438e89"
      },
      "execution_count": 21,
      "outputs": [
        {
          "output_type": "stream",
          "name": "stdout",
          "text": [
            "# conda environments:\n",
            "#\n",
            "base                     /usr/local\n",
            "StyleHEAT             *  /usr/local/envs/StyleHEAT\n",
            "\n",
            "Cross-id testing\n",
            "Load pre-trained e4e Encoder from checkpoints/Encoder_e4e.pth done.\n",
            "Load pre-trained hfgi encoder from checkpoints/hfgi.pth done.\n",
            "Load pre-trained StyleGAN2 from checkpoints/StyleGAN_e4e.pth done.\n",
            "Stage: inference\n",
            "Load pre-trained StyleHEAT [net_G_ema] from checkpoints/StyleHEAT_visual.pt done\n",
            "----------------- Options ---------------\n",
            "                add_image: True                          \n",
            "               bfm_folder: checkpoints/BFM               \t[default: BFM]\n",
            "                bfm_model: BFM_model_front.mat           \n",
            "                 camera_d: 10.0                          \n",
            "                   center: 112.0                         \n",
            "          checkpoints_dir: checkpoints                   \t[default: ./checkpoints]\n",
            "             dataset_mode: None                          \n",
            "                 ddp_port: 12355                         \n",
            "        display_per_batch: True                          \n",
            "                    epoch: 20                            \t[default: latest]\n",
            "          eval_batch_nums: inf                           \n",
            "                    focal: 1015.0                        \n",
            "                  gpu_ids: 0                             \n",
            "               img_folder: temp                          \t[default: examples]\n",
            "                init_path: checkpoints/init_model/resnet50-0676ba61.pth\n",
            "                  isTrain: False                         \t[default: None]\n",
            "                    model: facerecon                     \n",
            "                     name: Deep3D                        \t[default: face_recon]\n",
            "                net_recon: resnet50                      \n",
            "                    phase: test                          \n",
            "                   suffix:                               \n",
            "                  use_ddp: False                         \t[default: True]\n",
            "              use_last_fc: False                         \n",
            "                  verbose: False                         \n",
            "           vis_batch_nums: 1                             \n",
            "               world_size: 1                             \n",
            "                    z_far: 15.0                          \n",
            "                   z_near: 5.0                           \n",
            "----------------- End -------------------\n",
            "model [FaceReconModel] was created\n",
            "loading the model from checkpoints/Deep3D/epoch_20.pth\n",
            "Save video in ./docs/demo/output/RD_Radio34_003_512_212.mp4\n"
          ]
        },
        {
          "output_type": "stream",
          "name": "stderr",
          "text": [
            "/usr/local/envs/StyleHEAT/lib/python3.7/site-packages/kornia/augmentation/augmentation.py:1875: DeprecationWarning: GaussianBlur is no longer maintained and will be removed from the future versions. Please use RandomGaussianBlur instead.\n",
            "  category=DeprecationWarning,\n",
            "/usr/local/envs/StyleHEAT/lib/python3.7/site-packages/torch/utils/tensorboard/__init__.py:3: DeprecationWarning: distutils Version classes are deprecated. Use packaging.version instead.\n",
            "  if not hasattr(tensorboard, '__version__') or LooseVersion(tensorboard.__version__) < LooseVersion('1.15'):\n",
            "/usr/local/envs/StyleHEAT/lib/python3.7/site-packages/torch/utils/tensorboard/__init__.py:3: DeprecationWarning: distutils Version classes are deprecated. Use packaging.version instead.\n",
            "  if not hasattr(tensorboard, '__version__') or LooseVersion(tensorboard.__version__) < LooseVersion('1.15'):\n",
            "/usr/local/envs/StyleHEAT/lib/python3.7/site-packages/torch/utils/cpp_extension.py:3: DeprecationWarning: the imp module is deprecated in favour of importlib; see the module's documentation for alternative uses\n",
            "  import imp\n",
            "\r  0%|          | 0/1 [00:00<?, ?it/s]/usr/local/envs/StyleHEAT/lib/python3.7/site-packages/torch/nn/functional.py:3063: UserWarning: Default upsampling behavior when mode=bilinear is changed to align_corners=False since 0.4.0. Please specify align_corners=True if the old behavior is desired. See the documentation of nn.Upsample for details.\n",
            "  \"See the documentation of nn.Upsample for details.\".format(mode))\n",
            "/usr/local/envs/StyleHEAT/lib/python3.7/site-packages/torch/nn/functional.py:3385: UserWarning: Default grid_sample and affine_grid behavior has changed to align_corners=False since 1.3.0. Please specify align_corners=True if the old behavior is desired. See the documentation of grid_sample for details.\n",
            "  warnings.warn(\"Default grid_sample and affine_grid behavior has changed \"\n",
            "\r100%|██████████| 1/1 [00:33<00:00, 33.25s/it]\r100%|██████████| 1/1 [00:33<00:00, 33.25s/it]\n"
          ]
        }
      ]
    },
    {
      "cell_type": "code",
      "source": [
        "%%bash\n",
        "source activate StyleHEAT \n",
        "conda env list \n",
        "python inference.py \\\n",
        " --config configs/inference.yaml \\\n",
        " --image_source=./docs/demo/images/40.jpg \\\n",
        " --inversion_option=optimize \\\n",
        " --intuitive_edit \\\n",
        " --output_dir=./docs/demo/output \\\n",
        " --if_extract"
      ],
      "metadata": {
        "id": "Gja2ReA-o2aO"
      },
      "execution_count": null,
      "outputs": []
    },
    {
      "cell_type": "code",
      "source": [
        "%%bash\n",
        "source activate StyleHEAT \n",
        "conda env list \n",
        "python inference.py \\\n",
        " --config configs/inference.yaml \\\n",
        " --video_source=./docs/demo/videos/RD_Radio34_003_512.mp4 \\\n",
        " --image_source=./docs/demo/images/40.jpg \\\n",
        " --attribute_edit --attribute=young \\\n",
        " --cross_id \\\n",
        " --output_dir=./docs/demo/output --if_extract"
      ],
      "metadata": {
        "id": "dHdPVyLXhAiu"
      },
      "execution_count": null,
      "outputs": []
    },
    {
      "cell_type": "code",
      "source": [],
      "metadata": {
        "id": "-dax1vl4hAZM"
      },
      "execution_count": null,
      "outputs": []
    },
    {
      "cell_type": "code",
      "source": [],
      "metadata": {
        "id": "DhtRS4zKi1uC"
      },
      "execution_count": null,
      "outputs": []
    },
    {
      "cell_type": "code",
      "source": [],
      "metadata": {
        "id": "rxjTEJmZi1jx"
      },
      "execution_count": null,
      "outputs": []
    },
    {
      "cell_type": "code",
      "source": [],
      "metadata": {
        "id": "MJz8foULi1gr"
      },
      "execution_count": null,
      "outputs": []
    },
    {
      "cell_type": "code",
      "source": [],
      "metadata": {
        "id": "cwwt82WC78cr"
      },
      "execution_count": null,
      "outputs": []
    },
    {
      "cell_type": "code",
      "source": [],
      "metadata": {
        "id": "JAi1u93778Qt"
      },
      "execution_count": null,
      "outputs": []
    },
    {
      "cell_type": "code",
      "source": [],
      "metadata": {
        "id": "CjcUsGrY78Id"
      },
      "execution_count": null,
      "outputs": []
    },
    {
      "cell_type": "code",
      "source": [],
      "metadata": {
        "id": "OnUp243_pkQF"
      },
      "execution_count": null,
      "outputs": []
    }
  ]
}