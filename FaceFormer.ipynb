{
  "nbformat": 4,
  "nbformat_minor": 0,
  "metadata": {
    "colab": {
      "provenance": [],
      "include_colab_link": true
    },
    "kernelspec": {
      "name": "python3",
      "display_name": "Python 3"
    },
    "language_info": {
      "name": "python"
    },
    "accelerator": "GPU",
    "gpuClass": "standard"
  },
  "cells": [
    {
      "cell_type": "markdown",
      "metadata": {
        "id": "view-in-github",
        "colab_type": "text"
      },
      "source": [
        "<a href=\"https://colab.research.google.com/github/SadafShafi/Sadaf-Avatar/blob/main/FaceFormer.ipynb\" target=\"_parent\"><img src=\"https://colab.research.google.com/assets/colab-badge.svg\" alt=\"Open In Colab\"/></a>"
      ]
    },
    {
      "cell_type": "code",
      "source": [
        "# !ubuntu --version"
      ],
      "metadata": {
        "colab": {
          "base_uri": "https://localhost:8080/"
        },
        "id": "WMX0E_e7XOfx",
        "outputId": "a4221bbc-fd38-404e-d5a3-9efe28067f9a"
      },
      "execution_count": null,
      "outputs": [
        {
          "output_type": "stream",
          "name": "stdout",
          "text": [
            "/bin/bash: ubuntu: command not found\n"
          ]
        }
      ]
    },
    {
      "cell_type": "code",
      "source": [
        "! wget https://repo.anaconda.com/miniconda/Miniconda3-latest-Linux-x86_64.sh\n",
        "! chmod +x Miniconda3-latest-Linux-x86_64.sh\n",
        "! bash ./Miniconda3-latest-Linux-x86_64.sh -b -f -p /usr/local\n",
        "import sys \n",
        "sys.path.append('/usr/local/lib/python3.7/site-packages/')\n",
        "     "
      ],
      "metadata": {
        "id": "s-mWzYEGXOb_"
      },
      "execution_count": null,
      "outputs": []
    },
    {
      "cell_type": "code",
      "source": [
        "!conda create -n facer python=3.7"
      ],
      "metadata": {
        "colab": {
          "base_uri": "https://localhost:8080/"
        },
        "id": "bgXMAx9T0-jQ",
        "outputId": "ef677db0-89a8-4723-cd0c-678e6e2bcc49"
      },
      "execution_count": 2,
      "outputs": [
        {
          "output_type": "stream",
          "name": "stdout",
          "text": [
            "Collecting package metadata (current_repodata.json): - \b\b\\ \b\b| \b\b/ \b\b- \b\b\\ \b\b| \b\b/ \b\b- \b\b\\ \b\b| \b\b/ \b\b- \b\b\\ \b\b| \b\b/ \b\b- \b\b\\ \b\b| \b\b/ \b\b- \b\b\\ \b\b| \b\b/ \b\bdone\n",
            "Solving environment: \\ \b\bdone\n",
            "\n",
            "\n",
            "==> WARNING: A newer version of conda exists. <==\n",
            "  current version: 4.12.0\n",
            "  latest version: 22.11.0\n",
            "\n",
            "Please update conda by running\n",
            "\n",
            "    $ conda update -n base -c defaults conda\n",
            "\n",
            "\n",
            "\n",
            "## Package Plan ##\n",
            "\n",
            "  environment location: /usr/local/envs/facer\n",
            "\n",
            "  added / updated specs:\n",
            "    - python=3.7\n",
            "\n",
            "\n",
            "The following packages will be downloaded:\n",
            "\n",
            "    package                    |            build\n",
            "    ---------------------------|-----------------\n",
            "    _openmp_mutex-5.1          |            1_gnu          21 KB\n",
            "    ca-certificates-2022.10.11 |       h06a4308_0         124 KB\n",
            "    certifi-2022.9.24          |   py37h06a4308_0         154 KB\n",
            "    ld_impl_linux-64-2.38      |       h1181459_1         654 KB\n",
            "    libffi-3.4.2               |       h6a678d5_6         136 KB\n",
            "    libgcc-ng-11.2.0           |       h1234567_1         5.3 MB\n",
            "    libgomp-11.2.0             |       h1234567_1         474 KB\n",
            "    libstdcxx-ng-11.2.0        |       h1234567_1         4.7 MB\n",
            "    ncurses-6.3                |       h5eee18b_3         781 KB\n",
            "    openssl-1.1.1s             |       h7f8727e_0         3.6 MB\n",
            "    pip-22.2.2                 |   py37h06a4308_0         2.3 MB\n",
            "    python-3.7.15              |       h7a1cb2a_1        40.7 MB\n",
            "    readline-8.2               |       h5eee18b_0         357 KB\n",
            "    setuptools-65.5.0          |   py37h06a4308_0         1.1 MB\n",
            "    sqlite-3.40.0              |       h5082296_0         1.2 MB\n",
            "    tk-8.6.12                  |       h1ccaba5_0         3.0 MB\n",
            "    xz-5.2.8                   |       h5eee18b_0         429 KB\n",
            "    zlib-1.2.13                |       h5eee18b_0         103 KB\n",
            "    ------------------------------------------------------------\n",
            "                                           Total:        65.1 MB\n",
            "\n",
            "The following NEW packages will be INSTALLED:\n",
            "\n",
            "  _libgcc_mutex      pkgs/main/linux-64::_libgcc_mutex-0.1-main\n",
            "  _openmp_mutex      pkgs/main/linux-64::_openmp_mutex-5.1-1_gnu\n",
            "  ca-certificates    pkgs/main/linux-64::ca-certificates-2022.10.11-h06a4308_0\n",
            "  certifi            pkgs/main/linux-64::certifi-2022.9.24-py37h06a4308_0\n",
            "  ld_impl_linux-64   pkgs/main/linux-64::ld_impl_linux-64-2.38-h1181459_1\n",
            "  libffi             pkgs/main/linux-64::libffi-3.4.2-h6a678d5_6\n",
            "  libgcc-ng          pkgs/main/linux-64::libgcc-ng-11.2.0-h1234567_1\n",
            "  libgomp            pkgs/main/linux-64::libgomp-11.2.0-h1234567_1\n",
            "  libstdcxx-ng       pkgs/main/linux-64::libstdcxx-ng-11.2.0-h1234567_1\n",
            "  ncurses            pkgs/main/linux-64::ncurses-6.3-h5eee18b_3\n",
            "  openssl            pkgs/main/linux-64::openssl-1.1.1s-h7f8727e_0\n",
            "  pip                pkgs/main/linux-64::pip-22.2.2-py37h06a4308_0\n",
            "  python             pkgs/main/linux-64::python-3.7.15-h7a1cb2a_1\n",
            "  readline           pkgs/main/linux-64::readline-8.2-h5eee18b_0\n",
            "  setuptools         pkgs/main/linux-64::setuptools-65.5.0-py37h06a4308_0\n",
            "  sqlite             pkgs/main/linux-64::sqlite-3.40.0-h5082296_0\n",
            "  tk                 pkgs/main/linux-64::tk-8.6.12-h1ccaba5_0\n",
            "  wheel              pkgs/main/noarch::wheel-0.37.1-pyhd3eb1b0_0\n",
            "  xz                 pkgs/main/linux-64::xz-5.2.8-h5eee18b_0\n",
            "  zlib               pkgs/main/linux-64::zlib-1.2.13-h5eee18b_0\n",
            "\n",
            "\n",
            "Proceed ([y]/n)? y\n",
            "\n",
            "\n",
            "Downloading and Extracting Packages\n",
            "ncurses-6.3          | 781 KB    | : 100% 1.0/1 [00:00<00:00,  3.37it/s]\n",
            "libgomp-11.2.0       | 474 KB    | : 100% 1.0/1 [00:00<00:00, 13.47it/s]\n",
            "libgcc-ng-11.2.0     | 5.3 MB    | : 100% 1.0/1 [00:00<00:00,  3.05it/s]               \n",
            "zlib-1.2.13          | 103 KB    | : 100% 1.0/1 [00:00<00:00, 22.64it/s]\n",
            "openssl-1.1.1s       | 3.6 MB    | : 100% 1.0/1 [00:00<00:00,  8.58it/s]\n",
            "_openmp_mutex-5.1    | 21 KB     | : 100% 1.0/1 [00:00<00:00, 21.30it/s]\n",
            "python-3.7.15        | 40.7 MB   | : 100% 1.0/1 [00:00<00:00,  1.06it/s]               \n",
            "xz-5.2.8             | 429 KB    | : 100% 1.0/1 [00:00<00:00, 11.49it/s]\n",
            "libstdcxx-ng-11.2.0  | 4.7 MB    | : 100% 1.0/1 [00:00<00:00,  5.75it/s]\n",
            "tk-8.6.12            | 3.0 MB    | : 100% 1.0/1 [00:00<00:00,  7.01it/s]\n",
            "certifi-2022.9.24    | 154 KB    | : 100% 1.0/1 [00:00<00:00, 21.20it/s]\n",
            "setuptools-65.5.0    | 1.1 MB    | : 100% 1.0/1 [00:00<00:00,  9.63it/s]\n",
            "readline-8.2         | 357 KB    | : 100% 1.0/1 [00:00<00:00, 17.87it/s]\n",
            "ld_impl_linux-64-2.3 | 654 KB    | : 100% 1.0/1 [00:00<00:00, 15.78it/s]\n",
            "ca-certificates-2022 | 124 KB    | : 100% 1.0/1 [00:00<00:00, 21.03it/s]\n",
            "sqlite-3.40.0        | 1.2 MB    | : 100% 1.0/1 [00:00<00:00, 15.68it/s]\n",
            "pip-22.2.2           | 2.3 MB    | : 100% 1.0/1 [00:00<00:00,  5.58it/s]\n",
            "libffi-3.4.2         | 136 KB    | : 100% 1.0/1 [00:00<00:00, 16.93it/s]\n",
            "Preparing transaction: / \b\b- \b\b\\ \b\bdone\n",
            "Verifying transaction: / \b\b- \b\b\\ \b\b| \b\b/ \b\b- \b\b\\ \b\b| \b\b/ \b\b- \b\bdone\n",
            "Executing transaction: | \b\b/ \b\b- \b\b\\ \b\b| \b\b/ \b\b- \b\b\\ \b\b| \b\b/ \b\b- \b\b\\ \b\b| \b\b/ \b\bdone\n",
            "#\n",
            "# To activate this environment, use\n",
            "#\n",
            "#     $ conda activate facer\n",
            "#\n",
            "# To deactivate an active environment, use\n",
            "#\n",
            "#     $ conda deactivate\n",
            "\n"
          ]
        }
      ]
    },
    {
      "cell_type": "code",
      "source": [
        "%%bash\n",
        "source activate facer \n",
        "conda env list \n",
        "# pip install torch==1.7.1+cu110 torchvision==0.8.2+cu110 -f https://download.pytorch.org/whl/torch_stable.html\n",
        "pip install torch==1.9.0\n",
        "pip install ffmpeg "
      ],
      "metadata": {
        "colab": {
          "base_uri": "https://localhost:8080/"
        },
        "id": "2m1g8pFm1EbK",
        "outputId": "4da85123-2382-48c9-a199-4cc5927abf85"
      },
      "execution_count": 4,
      "outputs": [
        {
          "output_type": "stream",
          "name": "stdout",
          "text": [
            "# conda environments:\n",
            "#\n",
            "base                     /usr/local\n",
            "facer                 *  /usr/local/envs/facer\n",
            "\n",
            "Looking in indexes: https://pypi.org/simple, https://us-python.pkg.dev/colab-wheels/public/simple/\n",
            "Collecting torch==1.9.0\n",
            "  Downloading torch-1.9.0-cp37-cp37m-manylinux1_x86_64.whl (831.4 MB)\n",
            "     ━━━━━━━━━━━━━━━━━━━━━━━━━━━━━━━━━━━━━━━ 831.4/831.4 MB 1.9 MB/s eta 0:00:00\n",
            "Collecting typing-extensions\n",
            "  Downloading typing_extensions-4.4.0-py3-none-any.whl (26 kB)\n",
            "Installing collected packages: typing-extensions, torch\n",
            "Successfully installed torch-1.9.0 typing-extensions-4.4.0\n",
            "Looking in indexes: https://pypi.org/simple, https://us-python.pkg.dev/colab-wheels/public/simple/\n",
            "Requirement already satisfied: ffmpeg in /usr/local/envs/facer/lib/python3.7/site-packages (1.4)\n"
          ]
        },
        {
          "output_type": "stream",
          "name": "stderr",
          "text": [
            "WARNING: Running pip as the 'root' user can result in broken permissions and conflicting behaviour with the system package manager. It is recommended to use a virtual environment instead: https://pip.pypa.io/warnings/venv\n",
            "WARNING: Running pip as the 'root' user can result in broken permissions and conflicting behaviour with the system package manager. It is recommended to use a virtual environment instead: https://pip.pypa.io/warnings/venv\n"
          ]
        }
      ]
    },
    {
      "cell_type": "code",
      "source": [
        "# ## Start clean  \n",
        "# !sudo apt purge nvidia*\n",
        "# !sudo apt remove nvidia-*\n",
        "# !sudo rm /etc/apt/sources.list.d/cuda*\n",
        "# !sudo apt autoremove && apt autoclean\n",
        "# !sudo rm -rf /usr/local/cuda*  \n",
        "\n",
        "# ## Install some dependencies  \n",
        "# !sudo apt install -y g++ freeglut3-dev build-essential libx11-dev libxmu-dev libxi-dev libglu1-mesa libglu1-mesa-dev  \n",
        "\n",
        "# ## Add CUDA repository  \n",
        "# !sudo add-apt-repository ppa:graphics-drivers/ppa\n",
        "# !sudo apt-key adv --fetch-keys http://developer.download.nvidia.com/compute/cuda/repos/ubuntu1804/x86_64/7fa2af80.pub\n",
        "# !echo \"deb https://developer.download.nvidia.com/compute/cuda/repos/ubuntu1804/x86_64 /\" | sudo tee /etc/apt/sources.list.d/cuda.list  \n",
        "\n",
        "# ## Run update  \n",
        "# !sudo apt update  \n",
        "\n",
        "# ## Install Nvidia Driver 440  \n",
        "# !sudo apt install -y nvidia-driver-440 \n",
        "\n",
        "# ## Install CUDA-10.1  \n",
        "# !sudo apt-get -o Dpkg::Options::=\"--force-overwrite\" install cuda-10-1 cuda-drivers  \n",
        "\n",
        "# ## Set CUDA paths  \n",
        "# !echo 'export PATH=/usr/local/cuda-10.1/bin:$PATH' >> ~/.bashrc\n",
        "# !echo 'export LD_LIBRARY_PATH=/usr/local/cuda-10.1/lib64:$LD_LIBRARY_PATH' >> ~/.bashrc\n",
        "# !source ~/.bashrc\n",
        "# !sudo ldconfig  \n",
        "\n",
        "# !## Download Cudnn 7.6.5 for CUDa 10.1  \n",
        "#   # - Go to https://developer.nvidia.com/cudnn  \n",
        "#   # - Create an account  \n",
        "#   # - Download the suitable version of Cudnn from https://developer.nvidia.com/rdp/cudnn-download  \n",
        "#   # - Extract the downloaded file `tar -xzvf <filename>`  \n",
        "#   # - Copy the following files into the CUDA directory  \n",
        "# !sudo cp -P cuda/include/cudnn.h /usr/local/cuda-10.1/include\n",
        "# !sudo cp -P cuda/lib64/libcudnn* /usr/local/cuda-10.1/lib64/\n",
        "# !sudo chmod a+r /usr/local/cuda-10.1/lib64/libcudnn*\n",
        "\n",
        "# ## Restart the PC  \n",
        "# # !Restart your PC to apply the changes\n",
        "\n",
        "# !## Check that everything went the right way  \n",
        "# !nvidia-smi\n",
        "# !nvcc -V"
      ],
      "metadata": {
        "id": "thIyLmM-30Qr"
      },
      "execution_count": null,
      "outputs": []
    },
    {
      "cell_type": "code",
      "source": [
        "%%bash\n",
        "source activate facer \n",
        "conda env list \n",
        "\n",
        "git clone https://github.com/EvelynFan/FaceFormer.git"
      ],
      "metadata": {
        "id": "UeBqipHdhgVG",
        "colab": {
          "base_uri": "https://localhost:8080/"
        },
        "outputId": "fae57a20-01a8-444e-91d8-9e5a382cc0af"
      },
      "execution_count": 5,
      "outputs": [
        {
          "output_type": "stream",
          "name": "stdout",
          "text": [
            "# conda environments:\n",
            "#\n",
            "base                     /usr/local\n",
            "facer                 *  /usr/local/envs/facer\n",
            "\n"
          ]
        },
        {
          "output_type": "stream",
          "name": "stderr",
          "text": [
            "Cloning into 'FaceFormer'...\n"
          ]
        }
      ]
    },
    {
      "cell_type": "code",
      "source": [
        "ls"
      ],
      "metadata": {
        "colab": {
          "base_uri": "https://localhost:8080/"
        },
        "id": "APXdTmDb27s6",
        "outputId": "dab69b81-5776-4989-a866-214c8b7fb0c2"
      },
      "execution_count": null,
      "outputs": [
        {
          "output_type": "stream",
          "name": "stdout",
          "text": [
            "\u001b[0m\u001b[01;34mFaceFormer\u001b[0m/  \u001b[01;32mMiniconda3-latest-Linux-x86_64.sh\u001b[0m*  \u001b[01;34msample_data\u001b[0m/\n"
          ]
        }
      ]
    },
    {
      "cell_type": "code",
      "source": [
        "%%bash \n",
        "source activate facer  \n",
        "conda env list \n",
        "cd FaceFormer \n",
        "pip install -r requirements.txt "
      ],
      "metadata": {
        "colab": {
          "base_uri": "https://localhost:8080/"
        },
        "id": "iNyLtlOd22Xz",
        "outputId": "7867b411-0d0a-4c65-ad54-d6f34a6133e8"
      },
      "execution_count": 7,
      "outputs": [
        {
          "output_type": "stream",
          "name": "stdout",
          "text": [
            "# conda environments:\n",
            "#\n",
            "base                     /usr/local\n",
            "facer                 *  /usr/local/envs/facer\n",
            "\n",
            "Looking in indexes: https://pypi.org/simple, https://us-python.pkg.dev/colab-wheels/public/simple/\n",
            "Collecting numpy\n",
            "  Using cached numpy-1.21.6-cp37-cp37m-manylinux_2_12_x86_64.manylinux2010_x86_64.whl (15.7 MB)\n",
            "Collecting scipy==1.7.1\n",
            "  Using cached scipy-1.7.1-cp37-cp37m-manylinux_2_5_x86_64.manylinux1_x86_64.whl (28.5 MB)\n",
            "Collecting librosa==0.8.1\n",
            "  Using cached librosa-0.8.1-py3-none-any.whl (203 kB)\n",
            "Collecting tqdm\n",
            "  Using cached tqdm-4.64.1-py2.py3-none-any.whl (78 kB)\n",
            "Requirement already satisfied: torch==1.9.0 in /usr/local/envs/facer/lib/python3.7/site-packages (from -r requirements.txt (line 5)) (1.9.0)\n",
            "Collecting torchvision==0.10.0\n",
            "  Downloading torchvision-0.10.0-cp37-cp37m-manylinux1_x86_64.whl (22.1 MB)\n",
            "     ━━━━━━━━━━━━━━━━━━━━━━━━━━━━━━━━━━━━━━━━ 22.1/22.1 MB 33.7 MB/s eta 0:00:00\n",
            "Collecting torchaudio==0.9.0\n",
            "  Downloading torchaudio-0.9.0-cp37-cp37m-manylinux1_x86_64.whl (1.9 MB)\n",
            "     ━━━━━━━━━━━━━━━━━━━━━━━━━━━━━━━━━━━━━━━━ 1.9/1.9 MB 81.5 MB/s eta 0:00:00\n",
            "Collecting transformers==4.6.1\n",
            "  Downloading transformers-4.6.1-py3-none-any.whl (2.2 MB)\n",
            "     ━━━━━━━━━━━━━━━━━━━━━━━━━━━━━━━━━━━━━━━━ 2.2/2.2 MB 73.3 MB/s eta 0:00:00\n",
            "Collecting trimesh==3.9.27\n",
            "  Downloading trimesh-3.9.27-py3-none-any.whl (635 kB)\n",
            "     ━━━━━━━━━━━━━━━━━━━━━━━━━━━━━━━━━━━━━━ 635.5/635.5 kB 43.2 MB/s eta 0:00:00\n",
            "Collecting pyrender==0.1.45\n",
            "  Downloading pyrender-0.1.45-py3-none-any.whl (1.2 MB)\n",
            "     ━━━━━━━━━━━━━━━━━━━━━━━━━━━━━━━━━━━━━━━━ 1.2/1.2 MB 63.4 MB/s eta 0:00:00\n",
            "Collecting opencv-python\n",
            "  Downloading opencv_python-4.6.0.66-cp36-abi3-manylinux_2_17_x86_64.manylinux2014_x86_64.whl (60.9 MB)\n",
            "     ━━━━━━━━━━━━━━━━━━━━━━━━━━━━━━━━━━━━━━━━ 60.9/60.9 MB 12.8 MB/s eta 0:00:00\n",
            "Collecting numba>=0.43.0\n",
            "  Downloading numba-0.56.4-cp37-cp37m-manylinux2014_x86_64.manylinux_2_17_x86_64.whl (3.5 MB)\n",
            "     ━━━━━━━━━━━━━━━━━━━━━━━━━━━━━━━━━━━━━━━━ 3.5/3.5 MB 91.5 MB/s eta 0:00:00\n",
            "Collecting decorator>=3.0.0\n",
            "  Downloading decorator-5.1.1-py3-none-any.whl (9.1 kB)\n",
            "Collecting resampy>=0.2.2\n",
            "  Downloading resampy-0.4.2-py3-none-any.whl (3.1 MB)\n",
            "     ━━━━━━━━━━━━━━━━━━━━━━━━━━━━━━━━━━━━━━━━ 3.1/3.1 MB 35.7 MB/s eta 0:00:00\n",
            "Collecting soundfile>=0.10.2\n",
            "  Downloading soundfile-0.11.0-py2.py3-none-any.whl (23 kB)\n",
            "Collecting audioread>=2.0.0\n",
            "  Downloading audioread-3.0.0.tar.gz (377 kB)\n",
            "     ━━━━━━━━━━━━━━━━━━━━━━━━━━━━━━━━━━━━━━ 377.0/377.0 kB 34.2 MB/s eta 0:00:00\n",
            "  Preparing metadata (setup.py): started\n",
            "  Preparing metadata (setup.py): finished with status 'done'\n",
            "Collecting pooch>=1.0\n",
            "  Downloading pooch-1.6.0-py3-none-any.whl (56 kB)\n",
            "     ━━━━━━━━━━━━━━━━━━━━━━━━━━━━━━━━━━━━━━━━ 56.3/56.3 kB 8.0 MB/s eta 0:00:00\n",
            "Collecting packaging>=20.0\n",
            "  Downloading packaging-21.3-py3-none-any.whl (40 kB)\n",
            "     ━━━━━━━━━━━━━━━━━━━━━━━━━━━━━━━━━━━━━━━━ 40.8/40.8 kB 5.4 MB/s eta 0:00:00\n",
            "Collecting joblib>=0.14\n",
            "  Downloading joblib-1.2.0-py3-none-any.whl (297 kB)\n",
            "     ━━━━━━━━━━━━━━━━━━━━━━━━━━━━━━━━━━━━━━ 298.0/298.0 kB 25.1 MB/s eta 0:00:00\n",
            "Collecting scikit-learn!=0.19.0,>=0.14.0\n",
            "  Downloading scikit_learn-1.0.2-cp37-cp37m-manylinux_2_17_x86_64.manylinux2014_x86_64.whl (24.8 MB)\n",
            "     ━━━━━━━━━━━━━━━━━━━━━━━━━━━━━━━━━━━━━━━━ 24.8/24.8 MB 70.8 MB/s eta 0:00:00\n",
            "Requirement already satisfied: typing-extensions in /usr/local/envs/facer/lib/python3.7/site-packages (from torch==1.9.0->-r requirements.txt (line 5)) (4.4.0)\n",
            "Collecting pillow>=5.3.0\n",
            "  Downloading Pillow-9.3.0-cp37-cp37m-manylinux_2_17_x86_64.manylinux2014_x86_64.whl (3.2 MB)\n",
            "     ━━━━━━━━━━━━━━━━━━━━━━━━━━━━━━━━━━━━━━━━ 3.2/3.2 MB 91.8 MB/s eta 0:00:00\n",
            "Collecting regex!=2019.12.17\n",
            "  Downloading regex-2022.10.31-cp37-cp37m-manylinux_2_17_x86_64.manylinux2014_x86_64.whl (757 kB)\n",
            "     ━━━━━━━━━━━━━━━━━━━━━━━━━━━━━━━━━━━━━━ 757.1/757.1 kB 47.9 MB/s eta 0:00:00\n",
            "Collecting requests\n",
            "  Downloading requests-2.28.1-py3-none-any.whl (62 kB)\n",
            "     ━━━━━━━━━━━━━━━━━━━━━━━━━━━━━━━━━━━━━━━━ 62.8/62.8 kB 9.9 MB/s eta 0:00:00\n",
            "Collecting huggingface-hub==0.0.8\n",
            "  Downloading huggingface_hub-0.0.8-py3-none-any.whl (34 kB)\n",
            "Collecting tokenizers<0.11,>=0.10.1\n",
            "  Downloading tokenizers-0.10.3-cp37-cp37m-manylinux_2_5_x86_64.manylinux1_x86_64.manylinux_2_12_x86_64.manylinux2010_x86_64.whl (3.3 MB)\n",
            "     ━━━━━━━━━━━━━━━━━━━━━━━━━━━━━━━━━━━━━━━━ 3.3/3.3 MB 93.2 MB/s eta 0:00:00\n",
            "Collecting importlib-metadata\n",
            "  Downloading importlib_metadata-5.1.0-py3-none-any.whl (21 kB)\n",
            "Collecting sacremoses\n",
            "  Downloading sacremoses-0.0.53.tar.gz (880 kB)\n",
            "     ━━━━━━━━━━━━━━━━━━━━━━━━━━━━━━━━━━━━━━ 880.6/880.6 kB 58.9 MB/s eta 0:00:00\n",
            "  Preparing metadata (setup.py): started\n",
            "  Preparing metadata (setup.py): finished with status 'done'\n",
            "Collecting filelock\n",
            "  Downloading filelock-3.8.2-py3-none-any.whl (10 kB)\n",
            "Requirement already satisfied: setuptools in /usr/local/envs/facer/lib/python3.7/site-packages (from trimesh==3.9.27->-r requirements.txt (line 9)) (65.5.0)\n",
            "Collecting freetype-py\n",
            "  Downloading freetype_py-2.3.0-py3-none-manylinux_2_5_x86_64.manylinux1_x86_64.manylinux_2_12_x86_64.manylinux2010_x86_64.whl (978 kB)\n",
            "     ━━━━━━━━━━━━━━━━━━━━━━━━━━━━━━━━━━━━━━ 978.9/978.9 kB 43.1 MB/s eta 0:00:00\n",
            "Collecting pyglet>=1.4.10\n",
            "  Downloading pyglet-2.0.1-py3-none-any.whl (964 kB)\n",
            "     ━━━━━━━━━━━━━━━━━━━━━━━━━━━━━━━━━━━━━━ 964.3/964.3 kB 63.3 MB/s eta 0:00:00\n",
            "Collecting networkx\n",
            "  Downloading networkx-2.6.3-py3-none-any.whl (1.9 MB)\n",
            "     ━━━━━━━━━━━━━━━━━━━━━━━━━━━━━━━━━━━━━━━━ 1.9/1.9 MB 79.6 MB/s eta 0:00:00\n",
            "Collecting PyOpenGL==3.1.0\n",
            "  Downloading PyOpenGL-3.1.0.zip (2.2 MB)\n",
            "     ━━━━━━━━━━━━━━━━━━━━━━━━━━━━━━━━━━━━━━━━ 2.2/2.2 MB 83.8 MB/s eta 0:00:00\n",
            "  Preparing metadata (setup.py): started\n",
            "  Preparing metadata (setup.py): finished with status 'done'\n",
            "Collecting imageio\n",
            "  Downloading imageio-2.22.4-py3-none-any.whl (3.4 MB)\n",
            "     ━━━━━━━━━━━━━━━━━━━━━━━━━━━━━━━━━━━━━━━━ 3.4/3.4 MB 62.1 MB/s eta 0:00:00\n",
            "Collecting six\n",
            "  Downloading six-1.16.0-py2.py3-none-any.whl (11 kB)\n",
            "Collecting llvmlite<0.40,>=0.39.0dev0\n",
            "  Downloading llvmlite-0.39.1-cp37-cp37m-manylinux_2_17_x86_64.manylinux2014_x86_64.whl (34.6 MB)\n",
            "     ━━━━━━━━━━━━━━━━━━━━━━━━━━━━━━━━━━━━━━━━ 34.6/34.6 MB 18.0 MB/s eta 0:00:00\n",
            "Collecting pyparsing!=3.0.5,>=2.0.2\n",
            "  Downloading pyparsing-3.0.9-py3-none-any.whl (98 kB)\n",
            "     ━━━━━━━━━━━━━━━━━━━━━━━━━━━━━━━━━━━━━━━━ 98.3/98.3 kB 10.3 MB/s eta 0:00:00\n",
            "Collecting appdirs>=1.3.0\n",
            "  Downloading appdirs-1.4.4-py2.py3-none-any.whl (9.6 kB)\n",
            "Collecting urllib3<1.27,>=1.21.1\n",
            "  Downloading urllib3-1.26.13-py2.py3-none-any.whl (140 kB)\n",
            "     ━━━━━━━━━━━━━━━━━━━━━━━━━━━━━━━━━━━━━━ 140.6/140.6 kB 20.5 MB/s eta 0:00:00\n",
            "Collecting idna<4,>=2.5\n",
            "  Downloading idna-3.4-py3-none-any.whl (61 kB)\n",
            "     ━━━━━━━━━━━━━━━━━━━━━━━━━━━━━━━━━━━━━━━━ 61.5/61.5 kB 9.8 MB/s eta 0:00:00\n",
            "Requirement already satisfied: certifi>=2017.4.17 in /usr/local/envs/facer/lib/python3.7/site-packages (from requests->transformers==4.6.1->-r requirements.txt (line 8)) (2022.9.24)\n",
            "Collecting charset-normalizer<3,>=2\n",
            "  Downloading charset_normalizer-2.1.1-py3-none-any.whl (39 kB)\n",
            "Collecting threadpoolctl>=2.0.0\n",
            "  Downloading threadpoolctl-3.1.0-py3-none-any.whl (14 kB)\n",
            "Collecting cffi>=1.0\n",
            "  Downloading cffi-1.15.1-cp37-cp37m-manylinux_2_17_x86_64.manylinux2014_x86_64.whl (427 kB)\n",
            "     ━━━━━━━━━━━━━━━━━━━━━━━━━━━━━━━━━━━━━━ 427.9/427.9 kB 16.9 MB/s eta 0:00:00\n",
            "Collecting zipp>=0.5\n",
            "  Downloading zipp-3.11.0-py3-none-any.whl (6.6 kB)\n",
            "Collecting click\n",
            "  Downloading click-8.1.3-py3-none-any.whl (96 kB)\n",
            "     ━━━━━━━━━━━━━━━━━━━━━━━━━━━━━━━━━━━━━━━━ 96.6/96.6 kB 11.4 MB/s eta 0:00:00\n",
            "Collecting pycparser\n",
            "  Downloading pycparser-2.21-py2.py3-none-any.whl (118 kB)\n",
            "     ━━━━━━━━━━━━━━━━━━━━━━━━━━━━━━━━━━━━━━ 118.7/118.7 kB 17.1 MB/s eta 0:00:00\n",
            "Building wheels for collected packages: PyOpenGL, audioread, sacremoses\n",
            "  Building wheel for PyOpenGL (setup.py): started\n",
            "  Building wheel for PyOpenGL (setup.py): finished with status 'done'\n",
            "  Created wheel for PyOpenGL: filename=PyOpenGL-3.1.0-py3-none-any.whl size=1745192 sha256=67ccbaf88132146c0921092e94976ae03bdc13684f6c3f8d5e09eef6c0e065f0\n",
            "  Stored in directory: /root/.cache/pip/wheels/c6/83/cb/af51a0c06c33d08537b941bbfc87469e8a3c68d05f77a6a212\n",
            "  Building wheel for audioread (setup.py): started\n",
            "  Building wheel for audioread (setup.py): finished with status 'done'\n",
            "  Created wheel for audioread: filename=audioread-3.0.0-py3-none-any.whl size=23703 sha256=88bda0f34a5dc9102ba33eea36eaefae18718976de4fd35b2beeb9a25d43c25c\n",
            "  Stored in directory: /root/.cache/pip/wheels/71/a4/fa/24175dada88ca37d7fd22ffec10b33cb0a4909d7d07f04101f\n",
            "  Building wheel for sacremoses (setup.py): started\n",
            "  Building wheel for sacremoses (setup.py): finished with status 'done'\n",
            "  Created wheel for sacremoses: filename=sacremoses-0.0.53-py3-none-any.whl size=895241 sha256=4a2b49f9decefea07df0bb693b52392d6e26f5255338be1fcc5c035bbde32126\n",
            "  Stored in directory: /root/.cache/pip/wheels/87/39/dd/a83eeef36d0bf98e7a4d1933a4ad2d660295a40613079bafc9\n",
            "Successfully built PyOpenGL audioread sacremoses\n",
            "Installing collected packages: tokenizers, PyOpenGL, pyglet, appdirs, zipp, urllib3, tqdm, threadpoolctl, six, regex, pyparsing, pycparser, pillow, numpy, networkx, llvmlite, joblib, idna, freetype-py, filelock, decorator, charset-normalizer, audioread, trimesh, torchvision, torchaudio, scipy, requests, packaging, opencv-python, importlib-metadata, imageio, cffi, soundfile, scikit-learn, pyrender, pooch, numba, huggingface-hub, click, sacremoses, resampy, transformers, librosa\n",
            "Successfully installed PyOpenGL-3.1.0 appdirs-1.4.4 audioread-3.0.0 cffi-1.15.1 charset-normalizer-2.1.1 click-8.1.3 decorator-5.1.1 filelock-3.8.2 freetype-py-2.3.0 huggingface-hub-0.0.8 idna-3.4 imageio-2.22.4 importlib-metadata-5.1.0 joblib-1.2.0 librosa-0.8.1 llvmlite-0.39.1 networkx-2.6.3 numba-0.56.4 numpy-1.21.6 opencv-python-4.6.0.66 packaging-21.3 pillow-9.3.0 pooch-1.6.0 pycparser-2.21 pyglet-2.0.1 pyparsing-3.0.9 pyrender-0.1.45 regex-2022.10.31 requests-2.28.1 resampy-0.4.2 sacremoses-0.0.53 scikit-learn-1.0.2 scipy-1.7.1 six-1.16.0 soundfile-0.11.0 threadpoolctl-3.1.0 tokenizers-0.10.3 torchaudio-0.9.0 torchvision-0.10.0 tqdm-4.64.1 transformers-4.6.1 trimesh-3.9.27 urllib3-1.26.13 zipp-3.11.0\n"
          ]
        },
        {
          "output_type": "stream",
          "name": "stderr",
          "text": [
            "WARNING: Running pip as the 'root' user can result in broken permissions and conflicting behaviour with the system package manager. It is recommended to use a virtual environment instead: https://pip.pypa.io/warnings/venv\n"
          ]
        }
      ]
    },
    {
      "cell_type": "code",
      "source": [
        "%%bash\n",
        "source activate facer \n",
        "conda env list \n",
        "pip install git+https://github.com/MPI-IS/mesh.git"
      ],
      "metadata": {
        "id": "PEeUKJKMsdiT"
      },
      "execution_count": null,
      "outputs": []
    },
    {
      "cell_type": "code",
      "source": [
        "# !sudo apt-get update -y\n",
        "# !sudo apt-get install python 3.7\n",
        "# !sudo update-alternatives --install /usr/bin/python3 python3 /usr/bin/python 3.7\n",
        "\n",
        "# !update-alternatives --install /usr/bin/python python /usr/bin/python 3.7\n",
        "# !update-alternatives --list python\n",
        "# !sudo update-alternatives --config python\n",
        "# !sudo update-alternatives --set python /usr/bin/python 3.7\n",
        "# !python3 --version"
      ],
      "metadata": {
        "id": "fTiy_HpEXOXO"
      },
      "execution_count": null,
      "outputs": []
    },
    {
      "cell_type": "code",
      "source": [
        "# pip install torchtext"
      ],
      "metadata": {
        "id": "V7T8jUsoWF6J"
      },
      "execution_count": null,
      "outputs": []
    },
    {
      "cell_type": "code",
      "source": [],
      "metadata": {
        "id": "3j1BLF8ZidCN"
      },
      "execution_count": null,
      "outputs": []
    },
    {
      "cell_type": "code",
      "source": [
        "ls"
      ],
      "metadata": {
        "id": "3lbXQQE8jcdW"
      },
      "execution_count": null,
      "outputs": []
    },
    {
      "cell_type": "code",
      "source": [
        "# !pip install \"torch>=1.1.0,<=1.7.1\" torchvision==0.8.2 "
      ],
      "metadata": {
        "id": "OQke-TZ3jdmQ"
      },
      "execution_count": null,
      "outputs": []
    },
    {
      "cell_type": "code",
      "source": [],
      "metadata": {
        "id": "s1ukkGsC3-LO"
      },
      "execution_count": null,
      "outputs": []
    },
    {
      "cell_type": "code",
      "source": [
        "# %%bash\n",
        "# source activate facer \n",
        "# conda env list \n",
        "# cd FaceFormer\n",
        "#  python demo.py --model_name biwi --wav_path \"demo/wav/test.wav\" --dataset BIWI --vertice_dim 70110  --feature_dim 128 --period 25 --fps 25 --train_subjects \"F2 F3 F4 M3 M4 M5\" --test_subjects \"F1 F5 F6 F7 F8 M1 M2 M6\" --condition M3 --subject M1"
      ],
      "metadata": {
        "id": "BrQAxnzbi-u8"
      },
      "execution_count": null,
      "outputs": []
    },
    {
      "cell_type": "code",
      "source": [
        "# %%bash\n",
        "# source activate facer \n",
        "# conda env list \n",
        "# pip install PyOpenGL PyOpenGL_accelerate"
      ],
      "metadata": {
        "id": "N8ozUl9ljb1k"
      },
      "execution_count": null,
      "outputs": []
    },
    {
      "cell_type": "code",
      "source": [
        "%%bash\n",
        "source activate facer \n",
        "conda env list \n",
        "sudo apt update\n",
        "sudo wget https://github.com/mmatl/travis_debs/raw/master/xenial/mesa_18.3.3-0.deb\n",
        "sudo dpkg -i ./mesa_18.3.3-0.deb || true\n",
        "sudo apt install -f"
      ],
      "metadata": {
        "id": "ah5EmMk9kcz6",
        "colab": {
          "base_uri": "https://localhost:8080/"
        },
        "outputId": "41f5a789-1d92-4067-84c2-ceb518e07684"
      },
      "execution_count": 9,
      "outputs": [
        {
          "output_type": "stream",
          "name": "stdout",
          "text": [
            "# conda environments:\n",
            "#\n",
            "base                     /usr/local\n",
            "facer                 *  /usr/local/envs/facer\n",
            "\n",
            "Get:1 http://security.ubuntu.com/ubuntu bionic-security InRelease [88.7 kB]\n",
            "Hit:2 http://archive.ubuntu.com/ubuntu bionic InRelease\n",
            "Get:3 http://archive.ubuntu.com/ubuntu bionic-updates InRelease [88.7 kB]\n",
            "Get:4 https://cloud.r-project.org/bin/linux/ubuntu bionic-cran40/ InRelease [3,626 B]\n",
            "Get:5 http://archive.ubuntu.com/ubuntu bionic-backports InRelease [83.3 kB]\n",
            "Ign:6 https://developer.download.nvidia.com/compute/machine-learning/repos/ubuntu1804/x86_64  InRelease\n",
            "Get:7 https://developer.download.nvidia.com/compute/cuda/repos/ubuntu1804/x86_64  InRelease [1,581 B]\n",
            "Hit:8 https://developer.download.nvidia.com/compute/machine-learning/repos/ubuntu1804/x86_64  Release\n",
            "Get:9 http://security.ubuntu.com/ubuntu bionic-security/universe amd64 Packages [1,567 kB]\n",
            "Get:10 http://ppa.launchpad.net/c2d4u.team/c2d4u4.0+/ubuntu bionic InRelease [15.9 kB]\n",
            "Get:11 http://security.ubuntu.com/ubuntu bionic-security/main amd64 Packages [3,095 kB]\n",
            "Get:12 http://archive.ubuntu.com/ubuntu bionic-updates/universe amd64 Packages [2,342 kB]\n",
            "Get:13 http://archive.ubuntu.com/ubuntu bionic-updates/main amd64 Packages [3,519 kB]\n",
            "Get:14 https://developer.download.nvidia.com/compute/cuda/repos/ubuntu1804/x86_64  Packages [1,056 kB]\n",
            "Hit:15 http://ppa.launchpad.net/cran/libgit2/ubuntu bionic InRelease\n",
            "Get:17 http://ppa.launchpad.net/deadsnakes/ppa/ubuntu bionic InRelease [15.9 kB]\n",
            "Hit:18 http://ppa.launchpad.net/graphics-drivers/ppa/ubuntu bionic InRelease\n",
            "Get:19 http://ppa.launchpad.net/c2d4u.team/c2d4u4.0+/ubuntu bionic/main Sources [2,234 kB]\n",
            "Get:20 http://ppa.launchpad.net/c2d4u.team/c2d4u4.0+/ubuntu bionic/main amd64 Packages [1,143 kB]\n",
            "Get:21 http://ppa.launchpad.net/deadsnakes/ppa/ubuntu bionic/main amd64 Packages [46.4 kB]\n",
            "Fetched 15.3 MB in 4s (3,655 kB/s)\n",
            "Reading package lists...\n",
            "Building dependency tree...\n",
            "Reading state information...\n",
            "23 packages can be upgraded. Run 'apt list --upgradable' to see them.\n",
            "Selecting previously unselected package mesa.\n",
            "(Reading database ... 124015 files and directories currently installed.)\n",
            "Preparing to unpack ./mesa_18.3.3-0.deb ...\n",
            "Unpacking mesa (18.3.3-0) ...\n",
            "Reading package lists...\n",
            "Building dependency tree...\n",
            "Reading state information...\n",
            "Correcting dependencies... Done\n",
            "The following package was automatically installed and is no longer required:\n",
            "  libnvidia-common-460\n",
            "Use 'sudo apt autoremove' to remove it.\n",
            "The following additional packages will be installed:\n",
            "  binfmt-support freeglut3 freeglut3-dev libffi-dev llvm-6.0 llvm-6.0-dev\n",
            "  llvm-6.0-runtime llvm-6.0-tools\n",
            "Suggested packages:\n",
            "  llvm-6.0-doc\n",
            "The following NEW packages will be installed:\n",
            "  binfmt-support freeglut3 freeglut3-dev libffi-dev llvm-6.0 llvm-6.0-dev\n",
            "  llvm-6.0-runtime llvm-6.0-tools\n",
            "0 upgraded, 8 newly installed, 0 to remove and 23 not upgraded.\n",
            "1 not fully installed or removed.\n",
            "Need to get 28.7 MB of archives.\n",
            "After this operation, 180 MB of additional disk space will be used.\n",
            "Get:1 http://archive.ubuntu.com/ubuntu bionic/main amd64 binfmt-support amd64 2.1.8-2 [51.6 kB]\n",
            "Get:2 http://archive.ubuntu.com/ubuntu bionic/main amd64 llvm-6.0-runtime amd64 1:6.0-1ubuntu2 [200 kB]\n",
            "Get:3 http://archive.ubuntu.com/ubuntu bionic/main amd64 llvm-6.0 amd64 1:6.0-1ubuntu2 [4,838 kB]\n",
            "Get:4 http://archive.ubuntu.com/ubuntu bionic/main amd64 libffi-dev amd64 3.2.1-8 [156 kB]\n",
            "Get:5 http://archive.ubuntu.com/ubuntu bionic/main amd64 llvm-6.0-dev amd64 1:6.0-1ubuntu2 [23.0 MB]\n",
            "Get:6 http://archive.ubuntu.com/ubuntu bionic/universe amd64 llvm-6.0-tools amd64 1:6.0-1ubuntu2 [210 kB]\n",
            "Get:7 http://archive.ubuntu.com/ubuntu bionic/universe amd64 freeglut3 amd64 2.8.1-3 [73.6 kB]\n",
            "Get:8 http://archive.ubuntu.com/ubuntu bionic/universe amd64 freeglut3-dev amd64 2.8.1-3 [124 kB]\n",
            "Fetched 28.7 MB in 0s (66.6 MB/s)\n",
            "Selecting previously unselected package binfmt-support.\r\n",
            "(Reading database ... \r(Reading database ... 5%\r(Reading database ... 10%\r(Reading database ... 15%\r(Reading database ... 20%\r(Reading database ... 25%\r(Reading database ... 30%\r(Reading database ... 35%\r(Reading database ... 40%\r(Reading database ... 45%\r(Reading database ... 50%\r(Reading database ... 55%\r(Reading database ... 60%\r(Reading database ... 65%\r(Reading database ... 70%\r(Reading database ... 75%\r(Reading database ... 80%\r(Reading database ... 85%\r(Reading database ... 90%\r(Reading database ... 95%\r(Reading database ... 100%\r(Reading database ... 124046 files and directories currently installed.)\r\n",
            "Preparing to unpack .../0-binfmt-support_2.1.8-2_amd64.deb ...\r\n",
            "Unpacking binfmt-support (2.1.8-2) ...\r\n",
            "Selecting previously unselected package llvm-6.0-runtime.\r\n",
            "Preparing to unpack .../1-llvm-6.0-runtime_1%3a6.0-1ubuntu2_amd64.deb ...\r\n",
            "Unpacking llvm-6.0-runtime (1:6.0-1ubuntu2) ...\r\n",
            "Selecting previously unselected package llvm-6.0.\r\n",
            "Preparing to unpack .../2-llvm-6.0_1%3a6.0-1ubuntu2_amd64.deb ...\r\n",
            "Unpacking llvm-6.0 (1:6.0-1ubuntu2) ...\r\n",
            "Selecting previously unselected package libffi-dev:amd64.\r\n",
            "Preparing to unpack .../3-libffi-dev_3.2.1-8_amd64.deb ...\r\n",
            "Unpacking libffi-dev:amd64 (3.2.1-8) ...\r\n",
            "Selecting previously unselected package llvm-6.0-dev.\r\n",
            "Preparing to unpack .../4-llvm-6.0-dev_1%3a6.0-1ubuntu2_amd64.deb ...\r\n",
            "Unpacking llvm-6.0-dev (1:6.0-1ubuntu2) ...\r\n",
            "Selecting previously unselected package llvm-6.0-tools.\r\n",
            "Preparing to unpack .../5-llvm-6.0-tools_1%3a6.0-1ubuntu2_amd64.deb ...\r\n",
            "Unpacking llvm-6.0-tools (1:6.0-1ubuntu2) ...\r\n",
            "Selecting previously unselected package freeglut3:amd64.\r\n",
            "Preparing to unpack .../6-freeglut3_2.8.1-3_amd64.deb ...\r\n",
            "Unpacking freeglut3:amd64 (2.8.1-3) ...\r\n",
            "Selecting previously unselected package freeglut3-dev:amd64.\r\n",
            "Preparing to unpack .../7-freeglut3-dev_2.8.1-3_amd64.deb ...\r\n",
            "Unpacking freeglut3-dev:amd64 (2.8.1-3) ...\r\n",
            "Setting up binfmt-support (2.1.8-2) ...\r\n",
            "Created symlink /etc/systemd/system/multi-user.target.wants/binfmt-support.service → /lib/systemd/system/binfmt-support.service.\r\n",
            "invoke-rc.d: could not determine current runlevel\r\n",
            "invoke-rc.d: policy-rc.d denied execution of start.\r\n",
            "Setting up freeglut3:amd64 (2.8.1-3) ...\r\n",
            "Setting up libffi-dev:amd64 (3.2.1-8) ...\r\n",
            "Setting up llvm-6.0-runtime (1:6.0-1ubuntu2) ...\r\n",
            "Setting up llvm-6.0 (1:6.0-1ubuntu2) ...\r\n",
            "Setting up freeglut3-dev:amd64 (2.8.1-3) ...\r\n",
            "Setting up llvm-6.0-dev (1:6.0-1ubuntu2) ...\r\n",
            "Setting up llvm-6.0-tools (1:6.0-1ubuntu2) ...\r\n",
            "Setting up mesa (18.3.3-0) ...\r\n",
            "Processing triggers for systemd (237-3ubuntu10.56) ...\r\n",
            "Processing triggers for man-db (2.8.3-2ubuntu0.1) ...\r\n",
            "Processing triggers for libc-bin (2.27-3ubuntu1.6) ...\r\n"
          ]
        },
        {
          "output_type": "stream",
          "name": "stderr",
          "text": [
            "\n",
            "WARNING: apt does not have a stable CLI interface. Use with caution in scripts.\n",
            "\n",
            "--2022-12-07 10:09:36--  https://github.com/mmatl/travis_debs/raw/master/xenial/mesa_18.3.3-0.deb\n",
            "Resolving github.com (github.com)... 140.82.114.4\n",
            "Connecting to github.com (github.com)|140.82.114.4|:443... connected.\n",
            "HTTP request sent, awaiting response... 302 Found\n",
            "Location: https://raw.githubusercontent.com/mmatl/travis_debs/master/xenial/mesa_18.3.3-0.deb [following]\n",
            "--2022-12-07 10:09:36--  https://raw.githubusercontent.com/mmatl/travis_debs/master/xenial/mesa_18.3.3-0.deb\n",
            "Resolving raw.githubusercontent.com (raw.githubusercontent.com)... 185.199.108.133, 185.199.109.133, 185.199.110.133, ...\n",
            "Connecting to raw.githubusercontent.com (raw.githubusercontent.com)|185.199.108.133|:443... connected.\n",
            "HTTP request sent, awaiting response... 200 OK\n",
            "Length: 31776942 (30M) [application/octet-stream]\n",
            "Saving to: ‘mesa_18.3.3-0.deb’\n",
            "\n",
            "     0K .......... .......... .......... .......... ..........  0% 64.6M 0s\n",
            "    50K .......... .......... .......... .......... ..........  0% 49.4M 1s\n",
            "   100K .......... .......... .......... .......... ..........  0%  170M 0s\n",
            "   150K .......... .......... .......... .......... ..........  0% 65.3M 0s\n",
            "   200K .......... .......... .......... .......... ..........  0%  154M 0s\n",
            "   250K .......... .......... .......... .......... ..........  0%  195M 0s\n",
            "   300K .......... .......... .......... .......... ..........  1%  271M 0s\n",
            "   350K .......... .......... .......... .......... ..........  1%  190M 0s\n",
            "   400K .......... .......... .......... .......... ..........  1%  120M 0s\n",
            "   450K .......... .......... .......... .......... ..........  1%  225M 0s\n",
            "   500K .......... .......... .......... .......... ..........  1%  284M 0s\n",
            "   550K .......... .......... .......... .......... ..........  1%  178M 0s\n",
            "   600K .......... .......... .......... .......... ..........  2%  116M 0s\n",
            "   650K .......... .......... .......... .......... ..........  2%  118M 0s\n",
            "   700K .......... .......... .......... .......... ..........  2%  152M 0s\n",
            "   750K .......... .......... .......... .......... ..........  2%  141M 0s\n",
            "   800K .......... .......... .......... .......... ..........  2%  140M 0s\n",
            "   850K .......... .......... .......... .......... ..........  2%  102M 0s\n",
            "   900K .......... .......... .......... .......... ..........  3%  151M 0s\n",
            "   950K .......... .......... .......... .......... ..........  3%  163M 0s\n",
            "  1000K .......... .......... .......... .......... ..........  3%  122M 0s\n",
            "  1050K .......... .......... .......... .......... ..........  3%  128M 0s\n",
            "  1100K .......... .......... .......... .......... ..........  3%  150M 0s\n",
            "  1150K .......... .......... .......... .......... ..........  3%  117M 0s\n",
            "  1200K .......... .......... .......... .......... ..........  4%  161M 0s\n",
            "  1250K .......... .......... .......... .......... ..........  4%  120M 0s\n",
            "  1300K .......... .......... .......... .......... ..........  4%  129M 0s\n",
            "  1350K .......... .......... .......... .......... ..........  4%  184M 0s\n",
            "  1400K .......... .......... .......... .......... ..........  4%  260M 0s\n",
            "  1450K .......... .......... .......... .......... ..........  4%  211M 0s\n",
            "  1500K .......... .......... .......... .......... ..........  4%  192M 0s\n",
            "  1550K .......... .......... .......... .......... ..........  5%  151M 0s\n",
            "  1600K .......... .......... .......... .......... ..........  5%  193M 0s\n",
            "  1650K .......... .......... .......... .......... ..........  5%  217M 0s\n",
            "  1700K .......... .......... .......... .......... ..........  5%  223M 0s\n",
            "  1750K .......... .......... .......... .......... ..........  5%  229M 0s\n",
            "  1800K .......... .......... .......... .......... ..........  5%  127M 0s\n",
            "  1850K .......... .......... .......... .......... ..........  6%  226M 0s\n",
            "  1900K .......... .......... .......... .......... ..........  6%  253M 0s\n",
            "  1950K .......... .......... .......... .......... ..........  6%  267M 0s\n",
            "  2000K .......... .......... .......... .......... ..........  6%  192M 0s\n",
            "  2050K .......... .......... .......... .......... ..........  6%  139M 0s\n",
            "  2100K .......... .......... .......... .......... ..........  6%  204M 0s\n",
            "  2150K .......... .......... .......... .......... ..........  7%  250M 0s\n",
            "  2200K .......... .......... .......... .......... ..........  7%  198M 0s\n",
            "  2250K .......... .......... .......... .......... ..........  7%  167M 0s\n",
            "  2300K .......... .......... .......... .......... ..........  7%  165M 0s\n",
            "  2350K .......... .......... .......... .......... ..........  7%  262M 0s\n",
            "  2400K .......... .......... .......... .......... ..........  7%  201M 0s\n",
            "  2450K .......... .......... .......... .......... ..........  8%  181M 0s\n",
            "  2500K .......... .......... .......... .......... ..........  8%  233M 0s\n",
            "  2550K .......... .......... .......... .......... ..........  8%  181M 0s\n",
            "  2600K .......... .......... .......... .......... ..........  8%  213M 0s\n",
            "  2650K .......... .......... .......... .......... ..........  8%  182M 0s\n",
            "  2700K .......... .......... .......... .......... ..........  8%  197M 0s\n",
            "  2750K .......... .......... .......... .......... ..........  9%  255M 0s\n",
            "  2800K .......... .......... .......... .......... ..........  9%  215M 0s\n",
            "  2850K .......... .......... .......... .......... ..........  9%  173M 0s\n",
            "  2900K .......... .......... .......... .......... ..........  9%  212M 0s\n",
            "  2950K .......... .......... .......... .......... ..........  9%  257M 0s\n",
            "  3000K .......... .......... .......... .......... ..........  9%  263M 0s\n",
            "  3050K .......... .......... .......... .......... ..........  9%  181M 0s\n",
            "  3100K .......... .......... .......... .......... .......... 10%  184M 0s\n",
            "  3150K .......... .......... .......... .......... .......... 10%  180M 0s\n",
            "  3200K .......... .......... .......... .......... .......... 10%  214M 0s\n",
            "  3250K .......... .......... .......... .......... .......... 10%  244M 0s\n",
            "  3300K .......... .......... .......... .......... .......... 10%  149M 0s\n",
            "  3350K .......... .......... .......... .......... .......... 10%  184M 0s\n",
            "  3400K .......... .......... .......... .......... .......... 11%  243M 0s\n",
            "  3450K .......... .......... .......... .......... .......... 11%  240M 0s\n",
            "  3500K .......... .......... .......... .......... .......... 11%  222M 0s\n",
            "  3550K .......... .......... .......... .......... .......... 11%  178M 0s\n",
            "  3600K .......... .......... .......... .......... .......... 11%  203M 0s\n",
            "  3650K .......... .......... .......... .......... .......... 11%  215M 0s\n",
            "  3700K .......... .......... .......... .......... .......... 12%  158M 0s\n",
            "  3750K .......... .......... .......... .......... .......... 12%  151M 0s\n",
            "  3800K .......... .......... .......... .......... .......... 12%  130M 0s\n",
            "  3850K .......... .......... .......... .......... .......... 12%  172M 0s\n",
            "  3900K .......... .......... .......... .......... .......... 12%  216M 0s\n",
            "  3950K .......... .......... .......... .......... .......... 12%  189M 0s\n",
            "  4000K .......... .......... .......... .......... .......... 13%  224M 0s\n",
            "  4050K .......... .......... .......... .......... .......... 13%  169M 0s\n",
            "  4100K .......... .......... .......... .......... .......... 13%  212M 0s\n",
            "  4150K .......... .......... .......... .......... .......... 13%  232M 0s\n",
            "  4200K .......... .......... .......... .......... .......... 13%  214M 0s\n",
            "  4250K .......... .......... .......... .......... .......... 13%  179M 0s\n",
            "  4300K .......... .......... .......... .......... .......... 14%  204M 0s\n",
            "  4350K .......... .......... .......... .......... .......... 14%  301M 0s\n",
            "  4400K .......... .......... .......... .......... .......... 14%  316M 0s\n",
            "  4450K .......... .......... .......... .......... .......... 14%  272M 0s\n",
            "  4500K .......... .......... .......... .......... .......... 14%  190M 0s\n",
            "  4550K .......... .......... .......... .......... .......... 14%  174M 0s\n",
            "  4600K .......... .......... .......... .......... .......... 14%  282M 0s\n",
            "  4650K .......... .......... .......... .......... .......... 15%  300M 0s\n",
            "  4700K .......... .......... .......... .......... .......... 15%  282M 0s\n",
            "  4750K .......... .......... .......... .......... .......... 15%  185M 0s\n",
            "  4800K .......... .......... .......... .......... .......... 15%  178M 0s\n",
            "  4850K .......... .......... .......... .......... .......... 15%  250M 0s\n",
            "  4900K .......... .......... .......... .......... .......... 15%  256M 0s\n",
            "  4950K .......... .......... .......... .......... .......... 16%  231M 0s\n",
            "  5000K .......... .......... .......... .......... .......... 16% 79.1M 0s\n",
            "  5050K .......... .......... .......... .......... .......... 16%  280M 0s\n",
            "  5100K .......... .......... .......... .......... .......... 16%  298M 0s\n",
            "  5150K .......... .......... .......... .......... .......... 16%  191M 0s\n",
            "  5200K .......... .......... .......... .......... .......... 16%  292M 0s\n",
            "  5250K .......... .......... .......... .......... .......... 17%  185M 0s\n",
            "  5300K .......... .......... .......... .......... .......... 17%  246M 0s\n",
            "  5350K .......... .......... .......... .......... .......... 17%  267M 0s\n",
            "  5400K .......... .......... .......... .......... .......... 17%  176M 0s\n",
            "  5450K .......... .......... .......... .......... .......... 17%  197M 0s\n",
            "  5500K .......... .......... .......... .......... .......... 17%  262M 0s\n",
            "  5550K .......... .......... .......... .......... .......... 18%  291M 0s\n",
            "  5600K .......... .......... .......... .......... .......... 18%  281M 0s\n",
            "  5650K .......... .......... .......... .......... .......... 18%  162M 0s\n",
            "  5700K .......... .......... .......... .......... .......... 18%  292M 0s\n",
            "  5750K .......... .......... .......... .......... .......... 18%  177M 0s\n",
            "  5800K .......... .......... .......... .......... .......... 18%  280M 0s\n",
            "  5850K .......... .......... .......... .......... .......... 19%  185M 0s\n",
            "  5900K .......... .......... .......... .......... .......... 19%  196M 0s\n",
            "  5950K .......... .......... .......... .......... .......... 19%  267M 0s\n",
            "  6000K .......... .......... .......... .......... .......... 19%  229M 0s\n",
            "  6050K .......... .......... .......... .......... .......... 19%  248M 0s\n",
            "  6100K .......... .......... .......... .......... .......... 19%  160M 0s\n",
            "  6150K .......... .......... .......... .......... .......... 19%  185M 0s\n",
            "  6200K .......... .......... .......... .......... .......... 20%  235M 0s\n",
            "  6250K .......... .......... .......... .......... .......... 20%  260M 0s\n",
            "  6300K .......... .......... .......... .......... .......... 20%  170M 0s\n",
            "  6350K .......... .......... .......... .......... .......... 20%  194M 0s\n",
            "  6400K .......... .......... .......... .......... .......... 20%  189M 0s\n",
            "  6450K .......... .......... .......... .......... .......... 20%  254M 0s\n",
            "  6500K .......... .......... .......... .......... .......... 21%  178M 0s\n",
            "  6550K .......... .......... .......... .......... .......... 21%  190M 0s\n",
            "  6600K .......... .......... .......... .......... .......... 21%  186M 0s\n",
            "  6650K .......... .......... .......... .......... .......... 21%  258M 0s\n",
            "  6700K .......... .......... .......... .......... .......... 21% 96.1M 0s\n",
            "  6750K .......... .......... .......... .......... .......... 21%  184M 0s\n",
            "  6800K .......... .......... .......... .......... .......... 22%  296M 0s\n",
            "  6850K .......... .......... .......... .......... .......... 22%  253M 0s\n",
            "  6900K .......... .......... .......... .......... .......... 22%  256M 0s\n",
            "  6950K .......... .......... .......... .......... .......... 22%  232M 0s\n",
            "  7000K .......... .......... .......... .......... .......... 22%  212M 0s\n",
            "  7050K .......... .......... .......... .......... .......... 22%  227M 0s\n",
            "  7100K .......... .......... .......... .......... .......... 23%  233M 0s\n",
            "  7150K .......... .......... .......... .......... .......... 23%  272M 0s\n",
            "  7200K .......... .......... .......... .......... .......... 23%  234M 0s\n",
            "  7250K .......... .......... .......... .......... .......... 23%  238M 0s\n",
            "  7300K .......... .......... .......... .......... .......... 23%  204M 0s\n",
            "  7350K .......... .......... .......... .......... .......... 23%  238M 0s\n",
            "  7400K .......... .......... .......... .......... .......... 24%  276M 0s\n",
            "  7450K .......... .......... .......... .......... .......... 24%  213M 0s\n",
            "  7500K .......... .......... .......... .......... .......... 24%  231M 0s\n",
            "  7550K .......... .......... .......... .......... .......... 24%  160M 0s\n",
            "  7600K .......... .......... .......... .......... .......... 24%  242M 0s\n",
            "  7650K .......... .......... .......... .......... .......... 24%  290M 0s\n",
            "  7700K .......... .......... .......... .......... .......... 24%  224M 0s\n",
            "  7750K .......... .......... .......... .......... .......... 25%  281M 0s\n",
            "  7800K .......... .......... .......... .......... .......... 25%  136M 0s\n",
            "  7850K .......... .......... .......... .......... .......... 25%  306M 0s\n",
            "  7900K .......... .......... .......... .......... .......... 25%  301M 0s\n",
            "  7950K .......... .......... .......... .......... .......... 25%  244M 0s\n",
            "  8000K .......... .......... .......... .......... .......... 25%  153M 0s\n",
            "  8050K .......... .......... .......... .......... .......... 26%  158M 0s\n",
            "  8100K .......... .......... .......... .......... .......... 26%  243M 0s\n",
            "  8150K .......... .......... .......... .......... .......... 26%  231M 0s\n",
            "  8200K .......... .......... .......... .......... .......... 26%  195M 0s\n",
            "  8250K .......... .......... .......... .......... .......... 26%  181M 0s\n",
            "  8300K .......... .......... .......... .......... .......... 26%  175M 0s\n",
            "  8350K .......... .......... .......... .......... .......... 27%  287M 0s\n",
            "  8400K .......... .......... .......... .......... .......... 27%  284M 0s\n",
            "  8450K .......... .......... .......... .......... .......... 27%  229M 0s\n",
            "  8500K .......... .......... .......... .......... .......... 27%  164M 0s\n",
            "  8550K .......... .......... .......... .......... .......... 27%  235M 0s\n",
            "  8600K .......... .......... .......... .......... .......... 27%  248M 0s\n",
            "  8650K .......... .......... .......... .......... .......... 28%  201M 0s\n",
            "  8700K .......... .......... .......... .......... .......... 28%  225M 0s\n",
            "  8750K .......... .......... .......... .......... .......... 28%  186M 0s\n",
            "  8800K .......... .......... .......... .......... .......... 28%  210M 0s\n",
            "  8850K .......... .......... .......... .......... .......... 28%  173M 0s\n",
            "  8900K .......... .......... .......... .......... .......... 28%  160M 0s\n",
            "  8950K .......... .......... .......... .......... .......... 29%  171M 0s\n",
            "  9000K .......... .......... .......... .......... .......... 29%  235M 0s\n",
            "  9050K .......... .......... .......... .......... .......... 29%  210M 0s\n",
            "  9100K .......... .......... .......... .......... .......... 29%  162M 0s\n",
            "  9150K .......... .......... .......... .......... .......... 29%  120M 0s\n",
            "  9200K .......... .......... .......... .......... .......... 29%  239M 0s\n",
            "  9250K .......... .......... .......... .......... .......... 29%  212M 0s\n",
            "  9300K .......... .......... .......... .......... .......... 30%  221M 0s\n",
            "  9350K .......... .......... .......... .......... .......... 30%  144M 0s\n",
            "  9400K .......... .......... .......... .......... .......... 30%  233M 0s\n",
            "  9450K .......... .......... .......... .......... .......... 30%  237M 0s\n",
            "  9500K .......... .......... .......... .......... .......... 30%  210M 0s\n",
            "  9550K .......... .......... .......... .......... .......... 30%  219M 0s\n",
            "  9600K .......... .......... .......... .......... .......... 31%  160M 0s\n",
            "  9650K .......... .......... .......... .......... .......... 31%  206M 0s\n",
            "  9700K .......... .......... .......... .......... .......... 31%  245M 0s\n",
            "  9750K .......... .......... .......... .......... .......... 31%  207M 0s\n",
            "  9800K .......... .......... .......... .......... .......... 31%  219M 0s\n",
            "  9850K .......... .......... .......... .......... .......... 31%  136M 0s\n",
            "  9900K .......... .......... .......... .......... .......... 32%  222M 0s\n",
            "  9950K .......... .......... .......... .......... .......... 32%  263M 0s\n",
            " 10000K .......... .......... .......... .......... .......... 32%  214M 0s\n",
            " 10050K .......... .......... .......... .......... .......... 32%  191M 0s\n",
            " 10100K .......... .......... .......... .......... .......... 32%  184M 0s\n",
            " 10150K .......... .......... .......... .......... .......... 32%  247M 0s\n",
            " 10200K .......... .......... .......... .......... .......... 33%  264M 0s\n",
            " 10250K .......... .......... .......... .......... .......... 33%  203M 0s\n",
            " 10300K .......... .......... .......... .......... .......... 33%  119M 0s\n",
            " 10350K .......... .......... .......... .......... .......... 33%  224M 0s\n",
            " 10400K .......... .......... .......... .......... .......... 33%  187M 0s\n",
            " 10450K .......... .......... .......... .......... .......... 33% 26.0M 0s\n",
            " 10500K .......... .......... .......... .......... .......... 33%  205M 0s\n",
            " 10550K .......... .......... .......... .......... .......... 34%  203M 0s\n",
            " 10600K .......... .......... .......... .......... .......... 34%  256M 0s\n",
            " 10650K .......... .......... .......... .......... .......... 34%  248M 0s\n",
            " 10700K .......... .......... .......... .......... .......... 34%  255M 0s\n",
            " 10750K .......... .......... .......... .......... .......... 34%  197M 0s\n",
            " 10800K .......... .......... .......... .......... .......... 34%  139M 0s\n",
            " 10850K .......... .......... .......... .......... .......... 35%  239M 0s\n",
            " 10900K .......... .......... .......... .......... .......... 35%  247M 0s\n",
            " 10950K .......... .......... .......... .......... .......... 35%  250M 0s\n",
            " 11000K .......... .......... .......... .......... .......... 35%  204M 0s\n",
            " 11050K .......... .......... .......... .......... .......... 35%  255M 0s\n",
            " 11100K .......... .......... .......... .......... .......... 35%  147M 0s\n",
            " 11150K .......... .......... .......... .......... .......... 36%  232M 0s\n",
            " 11200K .......... .......... .......... .......... .......... 36% 26.6M 0s\n",
            " 11250K .......... .......... .......... .......... .......... 36%  186M 0s\n",
            " 11300K .......... .......... .......... .......... .......... 36%  255M 0s\n",
            " 11350K .......... .......... .......... .......... .......... 36%  274M 0s\n",
            " 11400K .......... .......... .......... .......... .......... 36%  222M 0s\n",
            " 11450K .......... .......... .......... .......... .......... 37%  224M 0s\n",
            " 11500K .......... .......... .......... .......... .......... 37%  137M 0s\n",
            " 11550K .......... .......... .......... .......... .......... 37%  238M 0s\n",
            " 11600K .......... .......... .......... .......... .......... 37%  243M 0s\n",
            " 11650K .......... .......... .......... .......... .......... 37%  201M 0s\n",
            " 11700K .......... .......... .......... .......... .......... 37%  147M 0s\n",
            " 11750K .......... .......... .......... .......... .......... 38%  199M 0s\n",
            " 11800K .......... .......... .......... .......... .......... 38%  255M 0s\n",
            " 11850K .......... .......... .......... .......... .......... 38%  251M 0s\n",
            " 11900K .......... .......... .......... .......... .......... 38% 34.1M 0s\n",
            " 11950K .......... .......... .......... .......... .......... 38%  224M 0s\n",
            " 12000K .......... .......... .......... .......... .......... 38%  220M 0s\n",
            " 12050K .......... .......... .......... .......... .......... 38%  227M 0s\n",
            " 12100K .......... .......... .......... .......... .......... 39% 93.6M 0s\n",
            " 12150K .......... .......... .......... .......... .......... 39% 13.6M 0s\n",
            " 12200K .......... .......... .......... .......... .......... 39%  229M 0s\n",
            " 12250K .......... .......... .......... .......... .......... 39%  233M 0s\n",
            " 12300K .......... .......... .......... .......... .......... 39%  192M 0s\n",
            " 12350K .......... .......... .......... .......... .......... 39%  241M 0s\n",
            " 12400K .......... .......... .......... .......... .......... 40%  195M 0s\n",
            " 12450K .......... .......... .......... .......... .......... 40%  243M 0s\n",
            " 12500K .......... .......... .......... .......... .......... 40%  220M 0s\n",
            " 12550K .......... .......... .......... .......... .......... 40%  134M 0s\n",
            " 12600K .......... .......... .......... .......... .......... 40%  185M 0s\n",
            " 12650K .......... .......... .......... .......... .......... 40%  263M 0s\n",
            " 12700K .......... .......... .......... .......... .......... 41%  285M 0s\n",
            " 12750K .......... .......... .......... .......... .......... 41%  176M 0s\n",
            " 12800K .......... .......... .......... .......... .......... 41%  143M 0s\n",
            " 12850K .......... .......... .......... .......... .......... 41%  225M 0s\n",
            " 12900K .......... .......... .......... .......... .......... 41%  246M 0s\n",
            " 12950K .......... .......... .......... .......... .......... 41%  239M 0s\n",
            " 13000K .......... .......... .......... .......... .......... 42%  155M 0s\n",
            " 13050K .......... .......... .......... .......... .......... 42% 3.67M 0s\n",
            " 13100K .......... .......... .......... .......... .......... 42%  148M 0s\n",
            " 13150K .......... .......... .......... .......... .......... 42%  275M 0s\n",
            " 13200K .......... .......... .......... .......... .......... 42%  229M 0s\n",
            " 13250K .......... .......... .......... .......... .......... 42%  159M 0s\n",
            " 13300K .......... .......... .......... .......... .......... 43%  182M 0s\n",
            " 13350K .......... .......... .......... .......... .......... 43%  232M 0s\n",
            " 13400K .......... .......... .......... .......... .......... 43%  229M 0s\n",
            " 13450K .......... .......... .......... .......... .......... 43%  235M 0s\n",
            " 13500K .......... .......... .......... .......... .......... 43%  203M 0s\n",
            " 13550K .......... .......... .......... .......... .......... 43%  150M 0s\n",
            " 13600K .......... .......... .......... .......... .......... 43%  230M 0s\n",
            " 13650K .......... .......... .......... .......... .......... 44%  175M 0s\n",
            " 13700K .......... .......... .......... .......... .......... 44%  149M 0s\n",
            " 13750K .......... .......... .......... .......... .......... 44%  150M 0s\n",
            " 13800K .......... .......... .......... .......... .......... 44%  166M 0s\n",
            " 13850K .......... .......... .......... .......... .......... 44%  166M 0s\n",
            " 13900K .......... .......... .......... .......... .......... 44%  159M 0s\n",
            " 13950K .......... .......... .......... .......... .......... 45%  141M 0s\n",
            " 14000K .......... .......... .......... .......... .......... 45%  150M 0s\n",
            " 14050K .......... .......... .......... .......... .......... 45%  216M 0s\n",
            " 14100K .......... .......... .......... .......... .......... 45%  184M 0s\n",
            " 14150K .......... .......... .......... .......... .......... 45%  224M 0s\n",
            " 14200K .......... .......... .......... .......... .......... 45%  174M 0s\n",
            " 14250K .......... .......... .......... .......... .......... 46%  195M 0s\n",
            " 14300K .......... .......... .......... .......... .......... 46% 93.6M 0s\n",
            " 14350K .......... .......... .......... .......... .......... 46%  196M 0s\n",
            " 14400K .......... .......... .......... .......... .......... 46%  253M 0s\n",
            " 14450K .......... .......... .......... .......... .......... 46%  204M 0s\n",
            " 14500K .......... .......... .......... .......... .......... 46%  202M 0s\n",
            " 14550K .......... .......... .......... .......... .......... 47%  161M 0s\n",
            " 14600K .......... .......... .......... .......... .......... 47%  236M 0s\n",
            " 14650K .......... .......... .......... .......... .......... 47%  155M 0s\n",
            " 14700K .......... .......... .......... .......... .......... 47% 75.0M 0s\n",
            " 14750K .......... .......... .......... .......... .......... 47%  124M 0s\n",
            " 14800K .......... .......... .......... .......... .......... 47%  232M 0s\n",
            " 14850K .......... .......... .......... .......... .......... 48%  247M 0s\n",
            " 14900K .......... .......... .......... .......... .......... 48%  218M 0s\n",
            " 14950K .......... .......... .......... .......... .......... 48%  172M 0s\n",
            " 15000K .......... .......... .......... .......... .......... 48%  227M 0s\n",
            " 15050K .......... .......... .......... .......... .......... 48%  241M 0s\n",
            " 15100K .......... .......... .......... .......... .......... 48%  257M 0s\n",
            " 15150K .......... .......... .......... .......... .......... 48%  285M 0s\n",
            " 15200K .......... .......... .......... .......... .......... 49%  217M 0s\n",
            " 15250K .......... .......... .......... .......... .......... 49%  246M 0s\n",
            " 15300K .......... .......... .......... .......... .......... 49%  199M 0s\n",
            " 15350K .......... .......... .......... .......... .......... 49%  251M 0s\n",
            " 15400K .......... .......... .......... .......... .......... 49%  278M 0s\n",
            " 15450K .......... .......... .......... .......... .......... 49%  251M 0s\n",
            " 15500K .......... .......... .......... .......... .......... 50%  299M 0s\n",
            " 15550K .......... .......... .......... .......... .......... 50%  209M 0s\n",
            " 15600K .......... .......... .......... .......... .......... 50%  258M 0s\n",
            " 15650K .......... .......... .......... .......... .......... 50%  253M 0s\n",
            " 15700K .......... .......... .......... .......... .......... 50%  273M 0s\n",
            " 15750K .......... .......... .......... .......... .......... 50%  269M 0s\n",
            " 15800K .......... .......... .......... .......... .......... 51%  197M 0s\n",
            " 15850K .......... .......... .......... .......... .......... 51%  239M 0s\n",
            " 15900K .......... .......... .......... .......... .......... 51%  269M 0s\n",
            " 15950K .......... .......... .......... .......... .......... 51%  277M 0s\n",
            " 16000K .......... .......... .......... .......... .......... 51%  262M 0s\n",
            " 16050K .......... .......... .......... .......... .......... 51%  243M 0s\n",
            " 16100K .......... .......... .......... .......... .......... 52%  274M 0s\n",
            " 16150K .......... .......... .......... .......... .......... 52%  271M 0s\n",
            " 16200K .......... .......... .......... .......... .......... 52%  289M 0s\n",
            " 16250K .......... .......... .......... .......... .......... 52%  296M 0s\n",
            " 16300K .......... .......... .......... .......... .......... 52%  269M 0s\n",
            " 16350K .......... .......... .......... .......... .......... 52%  291M 0s\n",
            " 16400K .......... .......... .......... .......... .......... 53%  263M 0s\n",
            " 16450K .......... .......... .......... .......... .......... 53%  297M 0s\n",
            " 16500K .......... .......... .......... .......... .......... 53%  281M 0s\n",
            " 16550K .......... .......... .......... .......... .......... 53%  299M 0s\n",
            " 16600K .......... .......... .......... .......... .......... 53%  237M 0s\n",
            " 16650K .......... .......... .......... .......... .......... 53%  300M 0s\n",
            " 16700K .......... .......... .......... .......... .......... 53%  293M 0s\n",
            " 16750K .......... .......... .......... .......... .......... 54%  294M 0s\n",
            " 16800K .......... .......... .......... .......... .......... 54%  254M 0s\n",
            " 16850K .......... .......... .......... .......... .......... 54%  291M 0s\n",
            " 16900K .......... .......... .......... .......... .......... 54%  276M 0s\n",
            " 16950K .......... .......... .......... .......... .......... 54%  293M 0s\n",
            " 17000K .......... .......... .......... .......... .......... 54%  270M 0s\n",
            " 17050K .......... .......... .......... .......... .......... 55%  290M 0s\n",
            " 17100K .......... .......... .......... .......... .......... 55%  289M 0s\n",
            " 17150K .......... .......... .......... .......... .......... 55%  323M 0s\n",
            " 17200K .......... .......... .......... .......... .......... 55%  284M 0s\n",
            " 17250K .......... .......... .......... .......... .......... 55%  249M 0s\n",
            " 17300K .......... .......... .......... .......... .......... 55%  308M 0s\n",
            " 17350K .......... .......... .......... .......... .......... 56%  298M 0s\n",
            " 17400K .......... .......... .......... .......... .......... 56%  277M 0s\n",
            " 17450K .......... .......... .......... .......... .......... 56%  280M 0s\n",
            " 17500K .......... .......... .......... .......... .......... 56%  301M 0s\n",
            " 17550K .......... .......... .......... .......... .......... 56%  248M 0s\n",
            " 17600K .......... .......... .......... .......... .......... 56%  285M 0s\n",
            " 17650K .......... .......... .......... .......... .......... 57%  308M 0s\n",
            " 17700K .......... .......... .......... .......... .......... 57%  294M 0s\n",
            " 17750K .......... .......... .......... .......... .......... 57%  321M 0s\n",
            " 17800K .......... .......... .......... .......... .......... 57%  269M 0s\n",
            " 17850K .......... .......... .......... .......... .......... 57%  303M 0s\n",
            " 17900K .......... .......... .......... .......... .......... 57%  313M 0s\n",
            " 17950K .......... .......... .......... .......... .......... 58%  318M 0s\n",
            " 18000K .......... .......... .......... .......... .......... 58%  302M 0s\n",
            " 18050K .......... .......... .......... .......... .......... 58%  244M 0s\n",
            " 18100K .......... .......... .......... .......... .......... 58%  290M 0s\n",
            " 18150K .......... .......... .......... .......... .......... 58%  300M 0s\n",
            " 18200K .......... .......... .......... .......... .......... 58%  305M 0s\n",
            " 18250K .......... .......... .......... .......... .......... 58%  259M 0s\n",
            " 18300K .......... .......... .......... .......... .......... 59%  298M 0s\n",
            " 18350K .......... .......... .......... .......... .......... 59%  286M 0s\n",
            " 18400K .......... .......... .......... .......... .......... 59%  295M 0s\n",
            " 18450K .......... .......... .......... .......... .......... 59%  249M 0s\n",
            " 18500K .......... .......... .......... .......... .......... 59%  305M 0s\n",
            " 18550K .......... .......... .......... .......... .......... 59%  282M 0s\n",
            " 18600K .......... .......... .......... .......... .......... 60%  277M 0s\n",
            " 18650K .......... .......... .......... .......... .......... 60%  286M 0s\n",
            " 18700K .......... .......... .......... .......... .......... 60%  285M 0s\n",
            " 18750K .......... .......... .......... .......... .......... 60%  297M 0s\n",
            " 18800K .......... .......... .......... .......... .......... 60%  303M 0s\n",
            " 18850K .......... .......... .......... .......... .......... 60%  239M 0s\n",
            " 18900K .......... .......... .......... .......... .......... 61%  302M 0s\n",
            " 18950K .......... .......... .......... .......... .......... 61%  271M 0s\n",
            " 19000K .......... .......... .......... .......... .......... 61%  291M 0s\n",
            " 19050K .......... .......... .......... .......... .......... 61%  294M 0s\n",
            " 19100K .......... .......... .......... .......... .......... 61%  245M 0s\n",
            " 19150K .......... .......... .......... .......... .......... 61%  256M 0s\n",
            " 19200K .......... .......... .......... .......... .......... 62%  185M 0s\n",
            " 19250K .......... .......... .......... .......... .......... 62%  295M 0s\n",
            " 19300K .......... .......... .......... .......... .......... 62%  283M 0s\n",
            " 19350K .......... .......... .......... .......... .......... 62%  266M 0s\n",
            " 19400K .......... .......... .......... .......... .......... 62%  282M 0s\n",
            " 19450K .......... .......... .......... .......... .......... 62%  257M 0s\n",
            " 19500K .......... .......... .......... .......... .......... 62%  184M 0s\n",
            " 19550K .......... .......... .......... .......... .......... 63%  175M 0s\n",
            " 19600K .......... .......... .......... .......... .......... 63%  118M 0s\n",
            " 19650K .......... .......... .......... .......... .......... 63%  206M 0s\n",
            " 19700K .......... .......... .......... .......... .......... 63%  175M 0s\n",
            " 19750K .......... .......... .......... .......... .......... 63%  233M 0s\n",
            " 19800K .......... .......... .......... .......... .......... 63%  243M 0s\n",
            " 19850K .......... .......... .......... .......... .......... 64% 11.1M 0s\n",
            " 19900K .......... .......... .......... .......... .......... 64%  203M 0s\n",
            " 19950K .......... .......... .......... .......... .......... 64%  253M 0s\n",
            " 20000K .......... .......... .......... .......... .......... 64% 12.9M 0s\n",
            " 20050K .......... .......... .......... .......... .......... 64%  156M 0s\n",
            " 20100K .......... .......... .......... .......... .......... 64%  220M 0s\n",
            " 20150K .......... .......... .......... .......... .......... 65%  268M 0s\n",
            " 20200K .......... .......... .......... .......... .......... 65%  256M 0s\n",
            " 20250K .......... .......... .......... .......... .......... 65%  281M 0s\n",
            " 20300K .......... .......... .......... .......... .......... 65%  216M 0s\n",
            " 20350K .......... .......... .......... .......... .......... 65%  283M 0s\n",
            " 20400K .......... .......... .......... .......... .......... 65%  254M 0s\n",
            " 20450K .......... .......... .......... .......... .......... 66%  251M 0s\n",
            " 20500K .......... .......... .......... .......... .......... 66%  262M 0s\n",
            " 20550K .......... .......... .......... .......... .......... 66%  257M 0s\n",
            " 20600K .......... .......... .......... .......... .......... 66%  215M 0s\n",
            " 20650K .......... .......... .......... .......... .......... 66%  242M 0s\n",
            " 20700K .......... .......... .......... .......... .......... 66%  246M 0s\n",
            " 20750K .......... .......... .......... .......... .......... 67%  267M 0s\n",
            " 20800K .......... .......... .......... .......... .......... 67%  249M 0s\n",
            " 20850K .......... .......... .......... .......... .......... 67%  227M 0s\n",
            " 20900K .......... .......... .......... .......... .......... 67%  237M 0s\n",
            " 20950K .......... .......... .......... .......... .......... 67%  255M 0s\n",
            " 21000K .......... .......... .......... .......... .......... 67%  269M 0s\n",
            " 21050K .......... .......... .......... .......... .......... 67%  186M 0s\n",
            " 21100K .......... .......... .......... .......... .......... 68%  187M 0s\n",
            " 21150K .......... .......... .......... .......... .......... 68%  208M 0s\n",
            " 21200K .......... .......... .......... .......... .......... 68%  210M 0s\n",
            " 21250K .......... .......... .......... .......... .......... 68%  202M 0s\n",
            " 21300K .......... .......... .......... .......... .......... 68%  174M 0s\n",
            " 21350K .......... .......... .......... .......... .......... 68% 41.2M 0s\n",
            " 21400K .......... .......... .......... .......... .......... 69% 65.0M 0s\n",
            " 21450K .......... .......... .......... .......... .......... 69%  212M 0s\n",
            " 21500K .......... .......... .......... .......... .......... 69% 83.1M 0s\n",
            " 21550K .......... .......... .......... .......... .......... 69% 41.1M 0s\n",
            " 21600K .......... .......... .......... .......... .......... 69% 73.8M 0s\n",
            " 21650K .......... .......... .......... .......... .......... 69%  209M 0s\n",
            " 21700K .......... .......... .......... .......... .......... 70%  225M 0s\n",
            " 21750K .......... .......... .......... .......... .......... 70%  194M 0s\n",
            " 21800K .......... .......... .......... .......... .......... 70%  220M 0s\n",
            " 21850K .......... .......... .......... .......... .......... 70%  200M 0s\n",
            " 21900K .......... .......... .......... .......... .......... 70%  222M 0s\n",
            " 21950K .......... .......... .......... .......... .......... 70%  185M 0s\n",
            " 22000K .......... .......... .......... .......... .......... 71%  211M 0s\n",
            " 22050K .......... .......... .......... .......... .......... 71%  213M 0s\n",
            " 22100K .......... .......... .......... .......... .......... 71%  216M 0s\n",
            " 22150K .......... .......... .......... .......... .......... 71%  226M 0s\n",
            " 22200K .......... .......... .......... .......... .......... 71%  226M 0s\n",
            " 22250K .......... .......... .......... .......... .......... 71%  201M 0s\n",
            " 22300K .......... .......... .......... .......... .......... 72%  205M 0s\n",
            " 22350K .......... .......... .......... .......... .......... 72%  220K 0s\n",
            " 22400K .......... .......... .......... .......... .......... 72%  246M 0s\n",
            " 22450K .......... .......... .......... .......... .......... 72%  243M 0s\n",
            " 22500K .......... .......... .......... .......... .......... 72%  212M 0s\n",
            " 22550K .......... .......... .......... .......... .......... 72%  261M 0s\n",
            " 22600K .......... .......... .......... .......... .......... 72%  133M 0s\n",
            " 22650K .......... .......... .......... .......... .......... 73%  171M 0s\n",
            " 22700K .......... .......... .......... .......... .......... 73%  231M 0s\n",
            " 22750K .......... .......... .......... .......... .......... 73%  188M 0s\n",
            " 22800K .......... .......... .......... .......... .......... 73%  105M 0s\n",
            " 22850K .......... .......... .......... .......... .......... 73% 54.3M 0s\n",
            " 22900K .......... .......... .......... .......... .......... 73% 53.1M 0s\n",
            " 22950K .......... .......... .......... .......... .......... 74% 56.4M 0s\n",
            " 23000K .......... .......... .......... .......... .......... 74% 4.96M 0s\n",
            " 23050K .......... .......... .......... .......... .......... 74%  251M 0s\n",
            " 23100K .......... .......... .......... .......... .......... 74%  242M 0s\n",
            " 23150K .......... .......... .......... .......... .......... 74%  252M 0s\n",
            " 23200K .......... .......... .......... .......... .......... 74%  225M 0s\n",
            " 23250K .......... .......... .......... .......... .......... 75%  135M 0s\n",
            " 23300K .......... .......... .......... .......... .......... 75%  173M 0s\n",
            " 23350K .......... .......... .......... .......... .......... 75%  213M 0s\n",
            " 23400K .......... .......... .......... .......... .......... 75%  202M 0s\n",
            " 23450K .......... .......... .......... .......... .......... 75%  124M 0s\n",
            " 23500K .......... .......... .......... .......... .......... 75%  232M 0s\n",
            " 23550K .......... .......... .......... .......... .......... 76%  172M 0s\n",
            " 23600K .......... .......... .......... .......... .......... 76%  150M 0s\n",
            " 23650K .......... .......... .......... .......... .......... 76%  160M 0s\n",
            " 23700K .......... .......... .......... .......... .......... 76%  158M 0s\n",
            " 23750K .......... .......... .......... .......... .......... 76%  149M 0s\n",
            " 23800K .......... .......... .......... .......... .......... 76% 50.2M 0s\n",
            " 23850K .......... .......... .......... .......... .......... 77% 33.7M 0s\n",
            " 23900K .......... .......... .......... .......... .......... 77% 50.8M 0s\n",
            " 23950K .......... .......... .......... .......... .......... 77% 43.3M 0s\n",
            " 24000K .......... .......... .......... .......... .......... 77%  125M 0s\n",
            " 24050K .......... .......... .......... .......... .......... 77%  250M 0s\n",
            " 24100K .......... .......... .......... .......... .......... 77% 64.2M 0s\n",
            " 24150K .......... .......... .......... .......... .......... 77% 53.0M 0s\n",
            " 24200K .......... .......... .......... .......... .......... 78% 51.4M 0s\n",
            " 24250K .......... .......... .......... .......... .......... 78%  122M 0s\n",
            " 24300K .......... .......... .......... .......... .......... 78%  228M 0s\n",
            " 24350K .......... .......... .......... .......... .......... 78%  261M 0s\n",
            " 24400K .......... .......... .......... .......... .......... 78%  205M 0s\n",
            " 24450K .......... .......... .......... .......... .......... 78%  247M 0s\n",
            " 24500K .......... .......... .......... .......... .......... 79%  273M 0s\n",
            " 24550K .......... .......... .......... .......... .......... 79% 44.1M 0s\n",
            " 24600K .......... .......... .......... .......... .......... 79% 49.5M 0s\n",
            " 24650K .......... .......... .......... .......... .......... 79% 56.8M 0s\n",
            " 24700K .......... .......... .......... .......... .......... 79% 47.6M 0s\n",
            " 24750K .......... .......... .......... .......... .......... 79% 58.0M 0s\n",
            " 24800K .......... .......... .......... .......... .......... 80% 56.6M 0s\n",
            " 24850K .......... .......... .......... .......... .......... 80% 53.3M 0s\n",
            " 24900K .......... .......... .......... .......... .......... 80% 92.8M 0s\n",
            " 24950K .......... .......... .......... .......... .......... 80%  243M 0s\n",
            " 25000K .......... .......... .......... .......... .......... 80%  270M 0s\n",
            " 25050K .......... .......... .......... .......... .......... 80%  135M 0s\n",
            " 25100K .......... .......... .......... .......... .......... 81%  109M 0s\n",
            " 25150K .......... .......... .......... .......... .......... 81% 51.3M 0s\n",
            " 25200K .......... .......... .......... .......... .......... 81% 59.3M 0s\n",
            " 25250K .......... .......... .......... .......... .......... 81% 50.8M 0s\n",
            " 25300K .......... .......... .......... .......... .......... 81% 68.8M 0s\n",
            " 25350K .......... .......... .......... .......... .......... 81% 87.1M 0s\n",
            " 25400K .......... .......... .......... .......... .......... 82%  264M 0s\n",
            " 25450K .......... .......... .......... .......... .......... 82%  271M 0s\n",
            " 25500K .......... .......... .......... .......... .......... 82%  275M 0s\n",
            " 25550K .......... .......... .......... .......... .......... 82%  204M 0s\n",
            " 25600K .......... .......... .......... .......... .......... 82%  223M 0s\n",
            " 25650K .......... .......... .......... .......... .......... 82%  281M 0s\n",
            " 25700K .......... .......... .......... .......... .......... 82%  284M 0s\n",
            " 25750K .......... .......... .......... .......... .......... 83%  282M 0s\n",
            " 25800K .......... .......... .......... .......... .......... 83%  209M 0s\n",
            " 25850K .......... .......... .......... .......... .......... 83%  159M 0s\n",
            " 25900K .......... .......... .......... .......... .......... 83%  283M 0s\n",
            " 25950K .......... .......... .......... .......... .......... 83%  282M 0s\n",
            " 26000K .......... .......... .......... .......... .......... 83%  287M 0s\n",
            " 26050K .......... .......... .......... .......... .......... 84%  212M 0s\n",
            " 26100K .......... .......... .......... .......... .......... 84%  278M 0s\n",
            " 26150K .......... .......... .......... .......... .......... 84%  278M 0s\n",
            " 26200K .......... .......... .......... .......... .......... 84%  290M 0s\n",
            " 26250K .......... .......... .......... .......... .......... 84%  263M 0s\n",
            " 26300K .......... .......... .......... .......... .......... 84%  209M 0s\n",
            " 26350K .......... .......... .......... .......... .......... 85%  270M 0s\n",
            " 26400K .......... .......... .......... .......... .......... 85%  281M 0s\n",
            " 26450K .......... .......... .......... .......... .......... 85%  289M 0s\n",
            " 26500K .......... .......... .......... .......... .......... 85%  246M 0s\n",
            " 26550K .......... .......... .......... .......... .......... 85%  274M 0s\n",
            " 26600K .......... .......... .......... .......... .......... 85% 68.9M 0s\n",
            " 26650K .......... .......... .......... .......... .......... 86% 59.7M 0s\n",
            " 26700K .......... .......... .......... .......... .......... 86% 52.1M 0s\n",
            " 26750K .......... .......... .......... .......... .......... 86% 63.1M 0s\n",
            " 26800K .......... .......... .......... .......... .......... 86% 63.6M 0s\n",
            " 26850K .......... .......... .......... .......... .......... 86% 62.7M 0s\n",
            " 26900K .......... .......... .......... .......... .......... 86% 55.6M 0s\n",
            " 26950K .......... .......... .......... .......... .......... 87% 59.5M 0s\n",
            " 27000K .......... .......... .......... .......... .......... 87% 55.5M 0s\n",
            " 27050K .......... .......... .......... .......... .......... 87% 62.8M 0s\n",
            " 27100K .......... .......... .......... .......... .......... 87% 51.0M 0s\n",
            " 27150K .......... .......... .......... .......... .......... 87% 60.0M 0s\n",
            " 27200K .......... .......... .......... .......... .......... 87% 62.5M 0s\n",
            " 27250K .......... .......... .......... .......... .......... 87% 54.6M 0s\n",
            " 27300K .......... .......... .......... .......... .......... 88% 60.8M 0s\n",
            " 27350K .......... .......... .......... .......... .......... 88% 60.8M 0s\n",
            " 27400K .......... .......... .......... .......... .......... 88% 63.6M 0s\n",
            " 27450K .......... .......... .......... .......... .......... 88% 62.7M 0s\n",
            " 27500K .......... .......... .......... .......... .......... 88% 48.4M 0s\n",
            " 27550K .......... .......... .......... .......... .......... 88% 58.0M 0s\n",
            " 27600K .......... .......... .......... .......... .......... 89% 58.4M 0s\n",
            " 27650K .......... .......... .......... .......... .......... 89% 62.9M 0s\n",
            " 27700K .......... .......... .......... .......... .......... 89%  178M 0s\n",
            " 27750K .......... .......... .......... .......... .......... 89%  271M 0s\n",
            " 27800K .......... .......... .......... .......... .......... 89%  264M 0s\n",
            " 27850K .......... .......... .......... .......... .......... 89%  273M 0s\n",
            " 27900K .......... .......... .......... .......... .......... 90% 63.6M 0s\n",
            " 27950K .......... .......... .......... .......... .......... 90% 52.6M 0s\n",
            " 28000K .......... .......... .......... .......... .......... 90% 63.4M 0s\n",
            " 28050K .......... .......... .......... .......... .......... 90% 61.9M 0s\n",
            " 28100K .......... .......... .......... .......... .......... 90%  266M 0s\n",
            " 28150K .......... .......... .......... .......... .......... 90%  241M 0s\n",
            " 28200K .......... .......... .......... .......... .......... 91%  271M 0s\n",
            " 28250K .......... .......... .......... .......... .......... 91%  285M 0s\n",
            " 28300K .......... .......... .......... .......... .......... 91%  255M 0s\n",
            " 28350K .......... .......... .......... .......... .......... 91%  251M 0s\n",
            " 28400K .......... .......... .......... .......... .......... 91%  285M 0s\n",
            " 28450K .......... .......... .......... .......... .......... 91%  280M 0s\n",
            " 28500K .......... .......... .......... .......... .......... 92%  250M 0s\n",
            " 28550K .......... .......... .......... .......... .......... 92%  112M 0s\n",
            " 28600K .......... .......... .......... .......... .......... 92% 63.9M 0s\n",
            " 28650K .......... .......... .......... .......... .......... 92% 55.8M 0s\n",
            " 28700K .......... .......... .......... .......... .......... 92% 7.59M 0s\n",
            " 28750K .......... .......... .......... .......... .......... 92% 59.6M 0s\n",
            " 28800K .......... .......... .......... .......... .......... 92% 58.7M 0s\n",
            " 28850K .......... .......... .......... .......... .......... 93% 53.8M 0s\n",
            " 28900K .......... .......... .......... .......... .......... 93% 59.2M 0s\n",
            " 28950K .......... .......... .......... .......... .......... 93% 61.0M 0s\n",
            " 29000K .......... .......... .......... .......... .......... 93% 62.7M 0s\n",
            " 29050K .......... .......... .......... .......... .......... 93%  232M 0s\n",
            " 29100K .......... .......... .......... .......... .......... 93%  213M 0s\n",
            " 29150K .......... .......... .......... .......... .......... 94%  255M 0s\n",
            " 29200K .......... .......... .......... .......... .......... 94% 72.6M 0s\n",
            " 29250K .......... .......... .......... .......... .......... 94% 56.5M 0s\n",
            " 29300K .......... .......... .......... .......... .......... 94% 59.9M 0s\n",
            " 29350K .......... .......... .......... .......... .......... 94% 57.3M 0s\n",
            " 29400K .......... .......... .......... .......... .......... 94%  276M 0s\n",
            " 29450K .......... .......... .......... .......... .......... 95%  288M 0s\n",
            " 29500K .......... .......... .......... .......... .......... 95%  278M 0s\n",
            " 29550K .......... .......... .......... .......... .......... 95%  303M 0s\n",
            " 29600K .......... .......... .......... .......... .......... 95%  115M 0s\n",
            " 29650K .......... .......... .......... .......... .......... 95% 64.0M 0s\n",
            " 29700K .......... .......... .......... .......... .......... 95% 59.8M 0s\n",
            " 29750K .......... .......... .......... .......... .......... 96% 64.4M 0s\n",
            " 29800K .......... .......... .......... .......... .......... 96% 61.9M 0s\n",
            " 29850K .......... .......... .......... .......... .......... 96% 71.6M 0s\n",
            " 29900K .......... .......... .......... .......... .......... 96%  277M 0s\n",
            " 29950K .......... .......... .......... .......... .......... 96%  280M 0s\n",
            " 30000K .......... .......... .......... .......... .......... 96%  274M 0s\n",
            " 30050K .......... .......... .......... .......... .......... 96%  225M 0s\n",
            " 30100K .......... .......... .......... .......... .......... 97% 90.6M 0s\n",
            " 30150K .......... .......... .......... .......... .......... 97% 62.2M 0s\n",
            " 30200K .......... .......... .......... .......... .......... 97% 63.5M 0s\n",
            " 30250K .......... .......... .......... .......... .......... 97% 59.3M 0s\n",
            " 30300K .......... .......... .......... .......... .......... 97% 61.0M 0s\n",
            " 30350K .......... .......... .......... .......... .......... 97% 51.8M 0s\n",
            " 30400K .......... .......... .......... .......... .......... 98%  176M 0s\n",
            " 30450K .......... .......... .......... .......... .......... 98%  256M 0s\n",
            " 30500K .......... .......... .......... .......... .......... 98%  264M 0s\n",
            " 30550K .......... .......... .......... .......... .......... 98%  262M 0s\n",
            " 30600K .......... .......... .......... .......... .......... 98%  230M 0s\n",
            " 30650K .......... .......... .......... .......... .......... 98%  273M 0s\n",
            " 30700K .......... .......... .......... .......... .......... 99%  278M 0s\n",
            " 30750K .......... .......... .......... .......... .......... 99%  263M 0s\n",
            " 30800K .......... .......... .......... .......... .......... 99%  234M 0s\n",
            " 30850K .......... .......... .......... .......... .......... 99%  279M 0s\n",
            " 30900K .......... .......... .......... .......... .......... 99%  267M 0s\n",
            " 30950K .......... .......... .......... .......... .......... 99%  277M 0s\n",
            " 31000K .......... .......... .......... ..                   100%  260M=0.5s\n",
            "\n",
            "2022-12-07 10:09:37 (65.2 MB/s) - ‘mesa_18.3.3-0.deb’ saved [31776942/31776942]\n",
            "\n",
            "dpkg: dependency problems prevent configuration of mesa:\n",
            " mesa depends on llvm-6.0; however:\n",
            "  Package llvm-6.0 is not installed.\n",
            " mesa depends on llvm-6.0-tools; however:\n",
            "  Package llvm-6.0-tools is not installed.\n",
            " mesa depends on freeglut3; however:\n",
            "  Package freeglut3 is not installed.\n",
            " mesa depends on freeglut3-dev; however:\n",
            "  Package freeglut3-dev is not installed.\n",
            "\n",
            "dpkg: error processing package mesa (--install):\n",
            " dependency problems - leaving unconfigured\n",
            "Errors were encountered while processing:\n",
            " mesa\n",
            "\n",
            "WARNING: apt does not have a stable CLI interface. Use with caution in scripts.\n",
            "\n",
            "debconf: unable to initialize frontend: Dialog\n",
            "debconf: (No usable dialog-like program is installed, so the dialog based frontend cannot be used. at /usr/share/perl5/Debconf/FrontEnd/Dialog.pm line 76, <> line 8.)\n",
            "debconf: falling back to frontend: Readline\n",
            "debconf: unable to initialize frontend: Readline\n",
            "debconf: (This frontend requires a controlling tty.)\n",
            "debconf: falling back to frontend: Teletype\n",
            "dpkg-preconfigure: unable to re-open stdin: \n"
          ]
        }
      ]
    },
    {
      "cell_type": "code",
      "source": [
        "%%bash\n",
        "source activate facer \n",
        "conda env list \n",
        "conda install future"
      ],
      "metadata": {
        "colab": {
          "base_uri": "https://localhost:8080/"
        },
        "id": "hGkdBBis6NY0",
        "outputId": "caa57e60-e7a2-4029-f061-cc379b9140f3"
      },
      "execution_count": 10,
      "outputs": [
        {
          "output_type": "stream",
          "name": "stdout",
          "text": [
            "# conda environments:\n",
            "#\n",
            "base                     /usr/local\n",
            "facer                 *  /usr/local/envs/facer\n",
            "\n",
            "Collecting package metadata (current_repodata.json): ...working... done\n",
            "Solving environment: ...working... done\n",
            "\n",
            "## Package Plan ##\n",
            "\n",
            "  environment location: /usr/local/envs/facer\n",
            "\n",
            "  added / updated specs:\n",
            "    - future\n",
            "\n",
            "\n",
            "The following packages will be downloaded:\n",
            "\n",
            "    package                    |            build\n",
            "    ---------------------------|-----------------\n",
            "    future-0.18.2              |           py37_1         631 KB\n",
            "    ------------------------------------------------------------\n",
            "                                           Total:         631 KB\n",
            "\n",
            "The following NEW packages will be INSTALLED:\n",
            "\n",
            "  future             pkgs/main/linux-64::future-0.18.2-py37_1\n",
            "\n",
            "\n",
            "Proceed ([y]/n)? \n",
            "\n",
            "Downloading and Extracting Packages\n",
            "\rfuture-0.18.2        | 631 KB    |            |   0% \rfuture-0.18.2        | 631 KB    | ########## | 100% \rfuture-0.18.2        | 631 KB    | ########## | 100% \n",
            "Preparing transaction: ...working... done\n",
            "Verifying transaction: ...working... done\n",
            "Executing transaction: ...working... done\n"
          ]
        },
        {
          "output_type": "stream",
          "name": "stderr",
          "text": [
            "\n",
            "\n",
            "==> WARNING: A newer version of conda exists. <==\n",
            "  current version: 4.12.0\n",
            "  latest version: 22.11.0\n",
            "\n",
            "Please update conda by running\n",
            "\n",
            "    $ conda update -n base -c defaults conda\n",
            "\n",
            "\n"
          ]
        }
      ]
    },
    {
      "cell_type": "code",
      "source": [
        "!gdown --id \"1GUQBk9FqUimoT6UNgU0gyQnjGv-2_Lyp&confirm=t\""
      ],
      "metadata": {
        "colab": {
          "base_uri": "https://localhost:8080/"
        },
        "id": "uq5DiQxt8SZX",
        "outputId": "0839fe09-e48b-46ab-b7f8-aa441a43edea"
      },
      "execution_count": 11,
      "outputs": [
        {
          "output_type": "stream",
          "name": "stdout",
          "text": [
            "/usr/local/lib/python3.8/dist-packages/gdown/cli.py:127: FutureWarning: Option `--id` was deprecated in version 4.3.1 and will be removed in 5.0. You don't need to pass it anymore to use a file ID.\n",
            "  warnings.warn(\n",
            "Downloading...\n",
            "From: https://drive.google.com/uc?id=1GUQBk9FqUimoT6UNgU0gyQnjGv-2_Lyp&confirm=t\n",
            "To: /content/vocaset.pth\n",
            "100% 386M/386M [00:06<00:00, 57.0MB/s]\n"
          ]
        }
      ]
    },
    {
      "cell_type": "code",
      "source": [
        "!mv vocaset.pth /content/FaceFormer/vocaset/"
      ],
      "metadata": {
        "id": "f9XaPLlv9RGK"
      },
      "execution_count": 12,
      "outputs": []
    },
    {
      "cell_type": "code",
      "source": [
        "!gdown --id \"1WR1P25EE7Aj1nDZ4MeRsqdyGnGzmkbPX&confirm=t\""
      ],
      "metadata": {
        "colab": {
          "base_uri": "https://localhost:8080/"
        },
        "id": "GXOHEF7H8URG",
        "outputId": "ebba45c6-e60f-4325-8db2-196e2ac1fdf1"
      },
      "execution_count": 13,
      "outputs": [
        {
          "output_type": "stream",
          "name": "stdout",
          "text": [
            "/usr/local/lib/python3.8/dist-packages/gdown/cli.py:127: FutureWarning: Option `--id` was deprecated in version 4.3.1 and will be removed in 5.0. You don't need to pass it anymore to use a file ID.\n",
            "  warnings.warn(\n",
            "Downloading...\n",
            "From: https://drive.google.com/uc?id=1WR1P25EE7Aj1nDZ4MeRsqdyGnGzmkbPX&confirm=t\n",
            "To: /content/biwi.pth\n",
            "100% 451M/451M [00:07<00:00, 57.0MB/s]\n"
          ]
        }
      ]
    },
    {
      "cell_type": "code",
      "source": [
        "!mv biwi.pth /content/FaceFormer/BIWI/"
      ],
      "metadata": {
        "id": "-ceGx_iW9p30"
      },
      "execution_count": 14,
      "outputs": []
    },
    {
      "cell_type": "code",
      "source": [
        "!gdown --id \"1H4G7Pufw598xRLYDujqzOyGPXiNQQwZO&confirm=t\""
      ],
      "metadata": {
        "id": "I1R2PT6bF6SO",
        "colab": {
          "base_uri": "https://localhost:8080/"
        },
        "outputId": "2c315ea0-344f-4680-a98a-017190039bef"
      },
      "execution_count": 15,
      "outputs": [
        {
          "output_type": "stream",
          "name": "stdout",
          "text": [
            "/usr/local/lib/python3.8/dist-packages/gdown/cli.py:127: FutureWarning: Option `--id` was deprecated in version 4.3.1 and will be removed in 5.0. You don't need to pass it anymore to use a file ID.\n",
            "  warnings.warn(\n",
            "Downloading...\n",
            "From: https://drive.google.com/uc?id=1H4G7Pufw598xRLYDujqzOyGPXiNQQwZO&confirm=t\n",
            "To: /content/trainingdata.zip\n",
            "100% 7.97G/7.97G [02:10<00:00, 61.1MB/s]\n"
          ]
        }
      ]
    },
    {
      "cell_type": "code",
      "source": [
        "!mkdir trainingdata"
      ],
      "metadata": {
        "id": "JCfieE02pvdI"
      },
      "execution_count": 16,
      "outputs": []
    },
    {
      "cell_type": "code",
      "source": [
        "!unzip trainingdata.zip -d trainingdata"
      ],
      "metadata": {
        "colab": {
          "base_uri": "https://localhost:8080/"
        },
        "id": "mjS5oCheGa7f",
        "outputId": "e070176b-8000-4abe-ab29-4f89e2febed4"
      },
      "execution_count": 17,
      "outputs": [
        {
          "output_type": "stream",
          "name": "stdout",
          "text": [
            "Archive:  trainingdata.zip\n",
            "  inflating: trainingdata/data_verts.npy  \n",
            "  inflating: trainingdata/init_expression_basis.npy  \n",
            "  inflating: trainingdata/processed_audio_deepspeech.pkl  \n",
            "  inflating: trainingdata/raw_audio_fixed.pkl  \n",
            "  inflating: trainingdata/readme.pdf  \n",
            "  inflating: trainingdata/subj_seq_to_idx.pkl  \n",
            "  inflating: trainingdata/templates.pkl  \n"
          ]
        }
      ]
    },
    {
      "cell_type": "code",
      "source": [
        "!mv /content/trainingdata/* /content/FaceFormer/vocaset/"
      ],
      "metadata": {
        "id": "_NYoUc42oc5K"
      },
      "execution_count": 18,
      "outputs": []
    },
    {
      "cell_type": "code",
      "source": [
        "# %%bash\n",
        "# source activate facer \n",
        "# conda env list \n",
        "# pip install psutil"
      ],
      "metadata": {
        "colab": {
          "base_uri": "https://localhost:8080/"
        },
        "id": "q8CWtjaVAJ_o",
        "outputId": "6539e50a-2acc-473c-ba87-ed9ea64b2597"
      },
      "execution_count": null,
      "outputs": [
        {
          "output_type": "stream",
          "name": "stdout",
          "text": [
            "# conda environments:\n",
            "#\n",
            "base                     /usr/local\n",
            "facer                 *  /usr/local/envs/facer\n",
            "\n",
            "Looking in indexes: https://pypi.org/simple, https://us-python.pkg.dev/colab-wheels/public/simple/\n",
            "Collecting psutil\n",
            "  Downloading psutil-5.9.4-cp36-abi3-manylinux_2_12_x86_64.manylinux2010_x86_64.manylinux_2_17_x86_64.manylinux2014_x86_64.whl (280 kB)\n",
            "     ━━━━━━━━━━━━━━━━━━━━━━━━━━━━━━━━━━━━━━ 280.2/280.2 kB 24.0 MB/s eta 0:00:00\n",
            "Installing collected packages: psutil\n",
            "Successfully installed psutil-5.9.4\n"
          ]
        },
        {
          "output_type": "stream",
          "name": "stderr",
          "text": [
            "WARNING: Running pip as the 'root' user can result in broken permissions and conflicting behaviour with the system package manager. It is recommended to use a virtual environment instead: https://pip.pypa.io/warnings/venv\n"
          ]
        }
      ]
    },
    {
      "cell_type": "code",
      "source": [
        "%%bash\n",
        "source activate facer \n",
        "conda env list \n",
        "cd FaceFormer\n",
        "# pip install -r requirements.txt\n",
        "pip install pyglet==1.4.10"
      ],
      "metadata": {
        "colab": {
          "base_uri": "https://localhost:8080/"
        },
        "id": "Xv58fuz9u2Ic",
        "outputId": "05f947b9-2d7f-4c40-c6d8-13cebca94b18"
      },
      "execution_count": 19,
      "outputs": [
        {
          "output_type": "stream",
          "name": "stdout",
          "text": [
            "# conda environments:\n",
            "#\n",
            "base                     /usr/local\n",
            "facer                 *  /usr/local/envs/facer\n",
            "\n",
            "Looking in indexes: https://pypi.org/simple, https://us-python.pkg.dev/colab-wheels/public/simple/\n",
            "Collecting pyglet==1.4.10\n",
            "  Downloading pyglet-1.4.10-py2.py3-none-any.whl (1.0 MB)\n",
            "     ━━━━━━━━━━━━━━━━━━━━━━━━━━━━━━━━━━━━━━━━ 1.0/1.0 MB 50.0 MB/s eta 0:00:00\n",
            "Requirement already satisfied: future in /usr/local/envs/facer/lib/python3.7/site-packages (from pyglet==1.4.10) (0.18.2)\n",
            "Installing collected packages: pyglet\n",
            "  Attempting uninstall: pyglet\n",
            "    Found existing installation: pyglet 2.0.1\n",
            "    Uninstalling pyglet-2.0.1:\n",
            "      Successfully uninstalled pyglet-2.0.1\n",
            "Successfully installed pyglet-1.4.10\n"
          ]
        },
        {
          "output_type": "stream",
          "name": "stderr",
          "text": [
            "WARNING: Running pip as the 'root' user can result in broken permissions and conflicting behaviour with the system package manager. It is recommended to use a virtual environment instead: https://pip.pypa.io/warnings/venv\n"
          ]
        }
      ]
    },
    {
      "cell_type": "code",
      "source": [
        "# data_verts.npy, raw_audio_fixed.pkl, templates.pkl and subj_seq_to_idx.pkl in the folder VOCASET. \n",
        "# \"FLAME_sample.ply\" from voca and put it in VOCASET/templates."
      ],
      "metadata": {
        "id": "738DlHxPYdMZ"
      },
      "execution_count": null,
      "outputs": []
    },
    {
      "cell_type": "code",
      "source": [
        "%%bash\n",
        "source activate facer \n",
        "conda env list\n",
        "pip uninstall pyopengl\n",
        "y\n",
        "git clone --recursive https://github.com/mmatl/pyopengl.git\n",
        "pip install ./pyopengl"
      ],
      "metadata": {
        "colab": {
          "base_uri": "https://localhost:8080/"
        },
        "id": "dxNxrFb8F2nQ",
        "outputId": "0621fdfd-4f42-418b-8a50-fd5821523dc2"
      },
      "execution_count": 24,
      "outputs": [
        {
          "output_type": "stream",
          "name": "stdout",
          "text": [
            "# conda environments:\n",
            "#\n",
            "base                     /usr/local\n",
            "facer                 *  /usr/local/envs/facer\n",
            "\n",
            "Looking in indexes: https://pypi.org/simple, https://us-python.pkg.dev/colab-wheels/public/simple/\n",
            "Processing ./pyopengl\n",
            "  Preparing metadata (setup.py): started\n",
            "  Preparing metadata (setup.py): finished with status 'done'\n",
            "Building wheels for collected packages: PyOpenGL\n",
            "  Building wheel for PyOpenGL (setup.py): started\n",
            "  Building wheel for PyOpenGL (setup.py): finished with status 'done'\n",
            "  Created wheel for PyOpenGL: filename=PyOpenGL-3.1.0-py3-none-any.whl size=2349634 sha256=4188aa4033715786eb893322af15fc27583c05b6cd2b2ac6c7dedcb85ad2420f\n",
            "  Stored in directory: /tmp/pip-ephem-wheel-cache-wjzgzkoo/wheels/b9/95/f0/446ab1a3a98e9c9bf63d0103533b573b38449e08d52879c352\n",
            "Successfully built PyOpenGL\n",
            "Installing collected packages: PyOpenGL\n",
            "Successfully installed PyOpenGL-3.1.0\n"
          ]
        },
        {
          "output_type": "stream",
          "name": "stderr",
          "text": [
            "Cloning into 'pyopengl'...\n",
            "WARNING: Running pip as the 'root' user can result in broken permissions and conflicting behaviour with the system package manager. It is recommended to use a virtual environment instead: https://pip.pypa.io/warnings/venv\n"
          ]
        }
      ]
    },
    {
      "cell_type": "code",
      "source": [
        "# %%bash\n",
        "# source activate facer \n",
        "# conda env list\n",
        "# apt-get install \\\n",
        "#     libeigen3-dev \\\n",
        "#     libgmp-dev \\\n",
        "#     libgmpxx4ldbl \\\n",
        "#     libmpfr-dev \\\n",
        "#     libboost-dev \\\n",
        "#     libboost-thread-dev \\\n",
        "#     libtbb-dev \\\n",
        "#     python3-dev"
      ],
      "metadata": {
        "id": "OwRz592BPaQS"
      },
      "execution_count": null,
      "outputs": []
    },
    {
      "cell_type": "code",
      "source": [
        "# %%bash\n",
        "# source activate facer \n",
        "# conda env list\n",
        "# git clone https://github.com/PyMesh/PyMesh.git\n",
        "# cd PyMesh\n",
        "# git submodule update --init\n",
        "# export PYMESH_PATH=`pwd`"
      ],
      "metadata": {
        "colab": {
          "base_uri": "https://localhost:8080/"
        },
        "id": "7Y-HiwjqQ5_8",
        "outputId": "a43d6b07-8578-4fca-e3d8-2b976420e466"
      },
      "execution_count": 43,
      "outputs": [
        {
          "output_type": "stream",
          "name": "stdout",
          "text": [
            "# conda environments:\n",
            "#\n",
            "base                     /usr/local\n",
            "facer                 *  /usr/local/envs/facer\n",
            "\n",
            "Submodule path 'third_party/Clipper': checked out '3fd3457741d275b887ad16abacccbd01eda2175c'\n",
            "Submodule path 'third_party/TetWild': checked out '5b0f81552fbd66c1ed66168fd7bbf222e3391816'\n",
            "Submodule path 'third_party/WindingNumber': checked out 'e011b7bc9fa1e2570651097936ccf2314fdcbe86'\n",
            "Submodule path 'third_party/carve': checked out 'd328ad2136a4fa6413db8ad264ed219095bb6744'\n",
            "Submodule path 'third_party/cgal': checked out '1ce145a3c611df5f3a71fb20275b755fdbfca21e'\n",
            "Submodule path 'third_party/cork': checked out '360820dd981fa72117f255ddaa68367419f7526c'\n",
            "Submodule path 'third_party/draco': checked out '063994c362871d6f149c24c669122e4ef3fa8196'\n",
            "Submodule path 'third_party/eigen': checked out 'ed3db99ec3caff039f72645b7c5feb68717c8655'\n",
            "Submodule path 'third_party/fmt': checked out '355eb6d29ad7dbcb017420442af237e3cf6d8054'\n",
            "Submodule path 'third_party/geogram': checked out '25228ad2a88b793fc8de651ecf6ca7ee76819d5a'\n",
            "Submodule path 'third_party/jigsaw': checked out '9c677b58234c64e2586e361d53bf60ce7e4ed3bb'\n",
            "Submodule path 'third_party/json': checked out 'e7452d87783fbf6e9d320d515675e26dfd1271c5'\n",
            "Submodule path 'third_party/libigl': checked out 'f6b406427400ed7ddb56cfc2577b6af571827c8c'\n",
            "Submodule path 'third_party/mmg': checked out '8a93fc29e8ea61299c6c415aaf2c57cb5cd2f779'\n",
            "Submodule path 'third_party/pybind11': checked out '80d452484c5409444b0ec19383faa84bb7a4d351'\n",
            "Submodule path 'third_party/qhull': checked out 'd901974562b76b89947eea320423130851b2f164'\n",
            "Submodule path 'third_party/quartet': checked out '7d789031d2f154e015f70a06eb2a1c01461e3cfc'\n",
            "Submodule path 'third_party/spdlog': checked out 'b6b9d835c588c35227410a9830e7a4586f90777a'\n",
            "Submodule path 'third_party/tbb': checked out 'ed6f6f15cece26ae4ab0816eab220c5e0691093f'\n",
            "Submodule path 'third_party/tetgen': checked out '54e1149a1af5b586706b3d87a0152e77e76ade22'\n",
            "Submodule path 'third_party/triangle': checked out 'a092f98815a38ee1d2f29341838947b3849fa2d0'\n"
          ]
        },
        {
          "output_type": "stream",
          "name": "stderr",
          "text": [
            "Cloning into 'PyMesh'...\n",
            "Submodule 'third_party/Clipper' (https://github.com/PyMesh/Clipper.git) registered for path 'third_party/Clipper'\n",
            "Submodule 'third_party/TetWild' (https://github.com/PyMesh/TetWild.git) registered for path 'third_party/TetWild'\n",
            "Submodule 'third_party/WindingNumber' (https://github.com/PyMesh/WindingNumber.git) registered for path 'third_party/WindingNumber'\n",
            "Submodule 'third_party/carve' (https://github.com/PyMesh/carve.git) registered for path 'third_party/carve'\n",
            "Submodule 'third_party/cgal' (https://github.com/PyMesh/cgal.git) registered for path 'third_party/cgal'\n",
            "Submodule 'third_party/cork' (https://github.com/PyMesh/cork.git) registered for path 'third_party/cork'\n",
            "Submodule 'third_party/draco' (https://github.com/PyMesh/draco.git) registered for path 'third_party/draco'\n",
            "Submodule 'third_party/eigen' (https://github.com/PyMesh/eigen.git) registered for path 'third_party/eigen'\n",
            "Submodule 'third_party/fmt' (https://github.com/fmtlib/fmt.git) registered for path 'third_party/fmt'\n",
            "Submodule 'third_party/geogram' (https://github.com/PyMesh/geogram.git) registered for path 'third_party/geogram'\n",
            "Submodule 'third_party/jigsaw' (https://github.com/PyMesh/jigsaw.git) registered for path 'third_party/jigsaw'\n",
            "Submodule 'third_party/json' (https://github.com/nlohmann/json.git) registered for path 'third_party/json'\n",
            "Submodule 'libigl' (https://github.com/PyMesh/libigl.git) registered for path 'third_party/libigl'\n",
            "Submodule 'third_party/mmg' (https://github.com/PyMesh/mmg.git) registered for path 'third_party/mmg'\n",
            "Submodule 'third_party/pybind11' (https://github.com/PyMesh/pybind11.git) registered for path 'third_party/pybind11'\n",
            "Submodule 'third_party/qhull' (https://github.com/PyMesh/qhull.git) registered for path 'third_party/qhull'\n",
            "Submodule 'third_party/quartet' (https://github.com/PyMesh/quartet.git) registered for path 'third_party/quartet'\n",
            "Submodule 'third_party/spdlog' (https://github.com/gabime/spdlog.git) registered for path 'third_party/spdlog'\n",
            "Submodule 'third_party/tbb' (https://github.com/PyMesh/tbb.git) registered for path 'third_party/tbb'\n",
            "Submodule 'third_party/tetgen' (https://github.com/PyMesh/tetgen.git) registered for path 'third_party/tetgen'\n",
            "Submodule 'third_party/triangle' (https://github.com/PyMesh/triangle.git) registered for path 'third_party/triangle'\n",
            "Cloning into '/content/PyMesh/third_party/Clipper'...\n",
            "Cloning into '/content/PyMesh/third_party/TetWild'...\n",
            "Cloning into '/content/PyMesh/third_party/WindingNumber'...\n",
            "Cloning into '/content/PyMesh/third_party/carve'...\n",
            "Cloning into '/content/PyMesh/third_party/cgal'...\n",
            "Cloning into '/content/PyMesh/third_party/cork'...\n",
            "Cloning into '/content/PyMesh/third_party/draco'...\n",
            "Cloning into '/content/PyMesh/third_party/eigen'...\n",
            "Cloning into '/content/PyMesh/third_party/fmt'...\n",
            "Cloning into '/content/PyMesh/third_party/geogram'...\n",
            "Cloning into '/content/PyMesh/third_party/jigsaw'...\n",
            "Cloning into '/content/PyMesh/third_party/json'...\n",
            "Cloning into '/content/PyMesh/third_party/libigl'...\n",
            "Cloning into '/content/PyMesh/third_party/mmg'...\n",
            "Cloning into '/content/PyMesh/third_party/pybind11'...\n",
            "Cloning into '/content/PyMesh/third_party/qhull'...\n",
            "Cloning into '/content/PyMesh/third_party/quartet'...\n",
            "Cloning into '/content/PyMesh/third_party/spdlog'...\n",
            "Cloning into '/content/PyMesh/third_party/tbb'...\n",
            "Cloning into '/content/PyMesh/third_party/tetgen'...\n",
            "Cloning into '/content/PyMesh/third_party/triangle'...\n",
            "From https://github.com/PyMesh/triangle\n",
            " * branch            a092f98815a38ee1d2f29341838947b3849fa2d0 -> FETCH_HEAD\n"
          ]
        }
      ]
    },
    {
      "cell_type": "code",
      "source": [
        "%%bash\n",
        "source activate facer \n",
        "conda env list\n",
        "cd FaceFormer \n",
        "python demo.py  --model_name biwi --wav_path \"demo/wav/test.wav\" \\\n",
        " --dataset BIWI --vertice_dim 70110  --feature_dim 128 --period 25 --fps 25 --train_subjects \"F2 F3 F4 M3 M4 M5\" \\\n",
        " --test_subjects \"F1 F5 F6 F7 F8 M1 M2 M6\" --condition M3 --subject M1 \n",
        "y"
      ],
      "metadata": {
        "id": "3X49etIsQIFp"
      },
      "execution_count": null,
      "outputs": []
    },
    {
      "cell_type": "code",
      "source": [
        "# %%bash\n",
        "# source activate facer \n",
        "# conda env list\n",
        "# cd FaceFormer \n",
        "\n",
        "# python demo.py  \\\n",
        "# --model_name vocaset --wav_path \"demo/wav/test.wav\" --dataset vocaset \\\n",
        "# --vertice_dim 15069 --feature_dim 64 --period 30  --fps 30  \\\n",
        "# --train_subjects \"FaceTalk_170728_03272_TA FaceTalk_170904_00128_TA FaceTalk_170725_00137_TA FaceTalk_170915_00223_TA FaceTalk_170811_03274_TA FaceTalk_170913_03279_TA FaceTalk_170904_03276_TA FaceTalk_170912_03278_TA\" \\\n",
        "# --test_subjects \"FaceTalk_170809_00138_TA FaceTalk_170731_00024_TA\" --condition FaceTalk_170913_03279_TA \\\n",
        "# --subject FaceTalk_170809_00138_TA "
      ],
      "metadata": {
        "id": "uwDcsYvT4ao0"
      },
      "execution_count": null,
      "outputs": []
    },
    {
      "cell_type": "code",
      "source": [
        "# %rm  FaceTalk_170725_00137_TA_sentence11.npy"
      ],
      "metadata": {
        "id": "oglKKgpxOIFJ"
      },
      "execution_count": null,
      "outputs": []
    },
    {
      "cell_type": "code",
      "source": [
        "# cd ../../.."
      ],
      "metadata": {
        "colab": {
          "base_uri": "https://localhost:8080/"
        },
        "id": "NXYhc8ixPWM8",
        "outputId": "ac5a4f3e-4099-457e-b081-6bd8cc6ad2e2"
      },
      "execution_count": null,
      "outputs": [
        {
          "output_type": "stream",
          "name": "stdout",
          "text": [
            "/content\n"
          ]
        }
      ]
    },
    {
      "cell_type": "code",
      "source": [
        "pwd"
      ],
      "metadata": {
        "colab": {
          "base_uri": "https://localhost:8080/",
          "height": 35
        },
        "id": "VS2AyFAjPf6s",
        "outputId": "03d13fdf-130e-4f03-9795-86f56876b2e5"
      },
      "execution_count": null,
      "outputs": [
        {
          "output_type": "execute_result",
          "data": {
            "text/plain": [
              "'/content'"
            ],
            "application/vnd.google.colaboratory.intrinsic+json": {
              "type": "string"
            }
          },
          "metadata": {},
          "execution_count": 58
        }
      ]
    },
    {
      "cell_type": "code",
      "source": [
        "\n",
        "%%bash\n",
        "source activate facer \n",
        "conda env list \n",
        "cd FaceFormer/vocaset\n",
        "python process_voca_data.py"
      ],
      "metadata": {
        "colab": {
          "base_uri": "https://localhost:8080/"
        },
        "id": "Ywr7H7F_KOn9",
        "outputId": "105e895b-d3c0-4cca-912d-f753c5d460e8"
      },
      "execution_count": 21,
      "outputs": [
        {
          "output_type": "stream",
          "name": "stdout",
          "text": [
            "# conda environments:\n",
            "#\n",
            "base                     /usr/local\n",
            "facer                 *  /usr/local/envs/facer\n",
            "\n"
          ]
        }
      ]
    },
    {
      "cell_type": "code",
      "source": [
        "# import os\n",
        "# files = os.listdir('FaceFormer/vocaset/vertices_npy')\n",
        "# for file in files[13:]:\n",
        "#     try:\n",
        "#       # print(file)\n",
        "#       os.remove('FaceFormer/vocaset/vertices_npy/'+file)\n",
        "#     except:\n",
        "#       pass"
      ],
      "metadata": {
        "id": "Lu24eivxOJm5"
      },
      "execution_count": 23,
      "outputs": []
    },
    {
      "cell_type": "code",
      "source": [
        "ls  FaceFormer/vocaset/vertices_npy"
      ],
      "metadata": {
        "id": "TghwVjvaNh3k"
      },
      "execution_count": null,
      "outputs": []
    },
    {
      "cell_type": "code",
      "source": [
        "%%bash\n",
        "source activate facer \n",
        "conda env list \n",
        "cd FaceFormer\n",
        "python main.py --dataset vocaset --vertice_dim 15069 --feature_dim 64 \\\n",
        "--period 30 \\\n",
        "--train_subjects \"FaceTalk_170728_03272_TA FaceTalk_170904_00128_TA FaceTalk_170725_00137_TA FaceTalk_170915_00223_TA FaceTalk_170811_03274_TA FaceTalk_170913_03279_TA FaceTalk_170904_03276_TA FaceTalk_170912_03278_TA\" \\\n",
        "--val_subjects \"FaceTalk_170811_03275_TA FaceTalk_170908_03277_TA\" \\\n",
        "--test_subjects \"FaceTalk_170809_00138_TA FaceTalk_170731_00024_TA\""
      ],
      "metadata": {
        "id": "AIQbJcG25hJg"
      },
      "execution_count": null,
      "outputs": []
    },
    {
      "cell_type": "code",
      "source": [
        "%%bash\n",
        "source activate facer \n",
        "conda env list \n",
        "cd FaceFormer\n",
        "python render.py --dataset vocaset --vertice_dim 15069 --fps 30\n"
      ],
      "metadata": {
        "id": "zRqCPIGT50nq",
        "colab": {
          "base_uri": "https://localhost:8080/",
          "height": 921
        },
        "outputId": "3fcdec3e-5e3c-4f97-a7de-c425b00d4d27"
      },
      "execution_count": 34,
      "outputs": [
        {
          "output_type": "stream",
          "name": "stdout",
          "text": [
            "# conda environments:\n",
            "#\n",
            "base                     /usr/local\n",
            "facer                 *  /usr/local/envs/facer\n",
            "\n",
            "rendering:  FaceTalk_170731_00024_TA_sentence23_condition_FaceTalk_170904_00128_TA.npy\n"
          ]
        },
        {
          "output_type": "stream",
          "name": "stderr",
          "text": [
            "Traceback (most recent call last):\n",
            "  File \"/usr/local/envs/facer/lib/python3.7/site-packages/psbody/mesh/serialization/serialization.py\", line 433, in load_from_ply\n",
            "    res = plyutils.read(filename)\n",
            "plyutils.error: Failed to open PLY file.\n",
            "\n",
            "During handling of the above exception, another exception occurred:\n",
            "\n",
            "Traceback (most recent call last):\n",
            "  File \"render.py\", line 165, in <module>\n",
            "    main()\n",
            "  File \"render.py\", line 155, in main\n",
            "    template = Mesh(filename=template_file)\n",
            "  File \"/usr/local/envs/facer/lib/python3.7/site-packages/psbody/mesh/mesh.py\", line 67, in __init__\n",
            "    self.load_from_file(filename)\n",
            "  File \"/usr/local/envs/facer/lib/python3.7/site-packages/psbody/mesh/mesh.py\", line 461, in load_from_file\n",
            "    serialization.load_from_file(self, filename)\n",
            "  File \"/usr/local/envs/facer/lib/python3.7/site-packages/psbody/mesh/serialization/serialization.py\", line 412, in load_from_file\n",
            "    self.load_from_ply(filename)\n",
            "  File \"/usr/local/envs/facer/lib/python3.7/site-packages/psbody/mesh/mesh.py\", line 464, in load_from_ply\n",
            "    serialization.load_from_ply(self, filename)\n",
            "  File \"/usr/local/envs/facer/lib/python3.7/site-packages/psbody/mesh/serialization/serialization.py\", line 435, in load_from_ply\n",
            "    raise SerializationError(e)\n",
            "psbody.mesh.errors.SerializationError: Failed to open PLY file.\n"
          ]
        },
        {
          "output_type": "error",
          "ename": "CalledProcessError",
          "evalue": "ignored",
          "traceback": [
            "\u001b[0;31m---------------------------------------------------------------------------\u001b[0m",
            "\u001b[0;31mCalledProcessError\u001b[0m                        Traceback (most recent call last)",
            "\u001b[0;32m<ipython-input-34-b2b7999185d9>\u001b[0m in \u001b[0;36m<module>\u001b[0;34m\u001b[0m\n\u001b[0;32m----> 1\u001b[0;31m \u001b[0mget_ipython\u001b[0m\u001b[0;34m(\u001b[0m\u001b[0;34m)\u001b[0m\u001b[0;34m.\u001b[0m\u001b[0mrun_cell_magic\u001b[0m\u001b[0;34m(\u001b[0m\u001b[0;34m'bash'\u001b[0m\u001b[0;34m,\u001b[0m \u001b[0;34m''\u001b[0m\u001b[0;34m,\u001b[0m \u001b[0;34m'source activate facer \\nconda env list \\ncd FaceFormer\\npython render.py --dataset vocaset --vertice_dim 15069 --fps 30\\n'\u001b[0m\u001b[0;34m)\u001b[0m\u001b[0;34m\u001b[0m\u001b[0;34m\u001b[0m\u001b[0m\n\u001b[0m",
            "\u001b[0;32m/usr/local/lib/python3.8/dist-packages/IPython/core/interactiveshell.py\u001b[0m in \u001b[0;36mrun_cell_magic\u001b[0;34m(self, magic_name, line, cell)\u001b[0m\n\u001b[1;32m   2357\u001b[0m             \u001b[0;32mwith\u001b[0m \u001b[0mself\u001b[0m\u001b[0;34m.\u001b[0m\u001b[0mbuiltin_trap\u001b[0m\u001b[0;34m:\u001b[0m\u001b[0;34m\u001b[0m\u001b[0;34m\u001b[0m\u001b[0m\n\u001b[1;32m   2358\u001b[0m                 \u001b[0margs\u001b[0m \u001b[0;34m=\u001b[0m \u001b[0;34m(\u001b[0m\u001b[0mmagic_arg_s\u001b[0m\u001b[0;34m,\u001b[0m \u001b[0mcell\u001b[0m\u001b[0;34m)\u001b[0m\u001b[0;34m\u001b[0m\u001b[0;34m\u001b[0m\u001b[0m\n\u001b[0;32m-> 2359\u001b[0;31m                 \u001b[0mresult\u001b[0m \u001b[0;34m=\u001b[0m \u001b[0mfn\u001b[0m\u001b[0;34m(\u001b[0m\u001b[0;34m*\u001b[0m\u001b[0margs\u001b[0m\u001b[0;34m,\u001b[0m \u001b[0;34m**\u001b[0m\u001b[0mkwargs\u001b[0m\u001b[0;34m)\u001b[0m\u001b[0;34m\u001b[0m\u001b[0;34m\u001b[0m\u001b[0m\n\u001b[0m\u001b[1;32m   2360\u001b[0m             \u001b[0;32mreturn\u001b[0m \u001b[0mresult\u001b[0m\u001b[0;34m\u001b[0m\u001b[0;34m\u001b[0m\u001b[0m\n\u001b[1;32m   2361\u001b[0m \u001b[0;34m\u001b[0m\u001b[0m\n",
            "\u001b[0;32m/usr/local/lib/python3.8/dist-packages/IPython/core/magics/script.py\u001b[0m in \u001b[0;36mnamed_script_magic\u001b[0;34m(line, cell)\u001b[0m\n\u001b[1;32m    140\u001b[0m             \u001b[0;32melse\u001b[0m\u001b[0;34m:\u001b[0m\u001b[0;34m\u001b[0m\u001b[0;34m\u001b[0m\u001b[0m\n\u001b[1;32m    141\u001b[0m                 \u001b[0mline\u001b[0m \u001b[0;34m=\u001b[0m \u001b[0mscript\u001b[0m\u001b[0;34m\u001b[0m\u001b[0;34m\u001b[0m\u001b[0m\n\u001b[0;32m--> 142\u001b[0;31m             \u001b[0;32mreturn\u001b[0m \u001b[0mself\u001b[0m\u001b[0;34m.\u001b[0m\u001b[0mshebang\u001b[0m\u001b[0;34m(\u001b[0m\u001b[0mline\u001b[0m\u001b[0;34m,\u001b[0m \u001b[0mcell\u001b[0m\u001b[0;34m)\u001b[0m\u001b[0;34m\u001b[0m\u001b[0;34m\u001b[0m\u001b[0m\n\u001b[0m\u001b[1;32m    143\u001b[0m \u001b[0;34m\u001b[0m\u001b[0m\n\u001b[1;32m    144\u001b[0m         \u001b[0;31m# write a basic docstring:\u001b[0m\u001b[0;34m\u001b[0m\u001b[0;34m\u001b[0m\u001b[0;34m\u001b[0m\u001b[0m\n",
            "\u001b[0;32m<decorator-gen-103>\u001b[0m in \u001b[0;36mshebang\u001b[0;34m(self, line, cell)\u001b[0m\n",
            "\u001b[0;32m/usr/local/lib/python3.8/dist-packages/IPython/core/magic.py\u001b[0m in \u001b[0;36m<lambda>\u001b[0;34m(f, *a, **k)\u001b[0m\n\u001b[1;32m    185\u001b[0m     \u001b[0;31m# but it's overkill for just that one bit of state.\u001b[0m\u001b[0;34m\u001b[0m\u001b[0;34m\u001b[0m\u001b[0;34m\u001b[0m\u001b[0m\n\u001b[1;32m    186\u001b[0m     \u001b[0;32mdef\u001b[0m \u001b[0mmagic_deco\u001b[0m\u001b[0;34m(\u001b[0m\u001b[0marg\u001b[0m\u001b[0;34m)\u001b[0m\u001b[0;34m:\u001b[0m\u001b[0;34m\u001b[0m\u001b[0;34m\u001b[0m\u001b[0m\n\u001b[0;32m--> 187\u001b[0;31m         \u001b[0mcall\u001b[0m \u001b[0;34m=\u001b[0m \u001b[0;32mlambda\u001b[0m \u001b[0mf\u001b[0m\u001b[0;34m,\u001b[0m \u001b[0;34m*\u001b[0m\u001b[0ma\u001b[0m\u001b[0;34m,\u001b[0m \u001b[0;34m**\u001b[0m\u001b[0mk\u001b[0m\u001b[0;34m:\u001b[0m \u001b[0mf\u001b[0m\u001b[0;34m(\u001b[0m\u001b[0;34m*\u001b[0m\u001b[0ma\u001b[0m\u001b[0;34m,\u001b[0m \u001b[0;34m**\u001b[0m\u001b[0mk\u001b[0m\u001b[0;34m)\u001b[0m\u001b[0;34m\u001b[0m\u001b[0;34m\u001b[0m\u001b[0m\n\u001b[0m\u001b[1;32m    188\u001b[0m \u001b[0;34m\u001b[0m\u001b[0m\n\u001b[1;32m    189\u001b[0m         \u001b[0;32mif\u001b[0m \u001b[0mcallable\u001b[0m\u001b[0;34m(\u001b[0m\u001b[0marg\u001b[0m\u001b[0;34m)\u001b[0m\u001b[0;34m:\u001b[0m\u001b[0;34m\u001b[0m\u001b[0;34m\u001b[0m\u001b[0m\n",
            "\u001b[0;32m/usr/local/lib/python3.8/dist-packages/IPython/core/magics/script.py\u001b[0m in \u001b[0;36mshebang\u001b[0;34m(self, line, cell)\u001b[0m\n\u001b[1;32m    243\u001b[0m             \u001b[0msys\u001b[0m\u001b[0;34m.\u001b[0m\u001b[0mstderr\u001b[0m\u001b[0;34m.\u001b[0m\u001b[0mflush\u001b[0m\u001b[0;34m(\u001b[0m\u001b[0;34m)\u001b[0m\u001b[0;34m\u001b[0m\u001b[0;34m\u001b[0m\u001b[0m\n\u001b[1;32m    244\u001b[0m         \u001b[0;32mif\u001b[0m \u001b[0margs\u001b[0m\u001b[0;34m.\u001b[0m\u001b[0mraise_error\u001b[0m \u001b[0;32mand\u001b[0m \u001b[0mp\u001b[0m\u001b[0;34m.\u001b[0m\u001b[0mreturncode\u001b[0m\u001b[0;34m!=\u001b[0m\u001b[0;36m0\u001b[0m\u001b[0;34m:\u001b[0m\u001b[0;34m\u001b[0m\u001b[0;34m\u001b[0m\u001b[0m\n\u001b[0;32m--> 245\u001b[0;31m             \u001b[0;32mraise\u001b[0m \u001b[0mCalledProcessError\u001b[0m\u001b[0;34m(\u001b[0m\u001b[0mp\u001b[0m\u001b[0;34m.\u001b[0m\u001b[0mreturncode\u001b[0m\u001b[0;34m,\u001b[0m \u001b[0mcell\u001b[0m\u001b[0;34m,\u001b[0m \u001b[0moutput\u001b[0m\u001b[0;34m=\u001b[0m\u001b[0mout\u001b[0m\u001b[0;34m,\u001b[0m \u001b[0mstderr\u001b[0m\u001b[0;34m=\u001b[0m\u001b[0merr\u001b[0m\u001b[0;34m)\u001b[0m\u001b[0;34m\u001b[0m\u001b[0;34m\u001b[0m\u001b[0m\n\u001b[0m\u001b[1;32m    246\u001b[0m \u001b[0;34m\u001b[0m\u001b[0m\n\u001b[1;32m    247\u001b[0m     \u001b[0;32mdef\u001b[0m \u001b[0m_run_script\u001b[0m\u001b[0;34m(\u001b[0m\u001b[0mself\u001b[0m\u001b[0;34m,\u001b[0m \u001b[0mp\u001b[0m\u001b[0;34m,\u001b[0m \u001b[0mcell\u001b[0m\u001b[0;34m,\u001b[0m \u001b[0mto_close\u001b[0m\u001b[0;34m)\u001b[0m\u001b[0;34m:\u001b[0m\u001b[0;34m\u001b[0m\u001b[0;34m\u001b[0m\u001b[0m\n",
            "\u001b[0;31mCalledProcessError\u001b[0m: Command 'b'source activate facer \\nconda env list \\ncd FaceFormer\\npython render.py --dataset vocaset --vertice_dim 15069 --fps 30\\n'' returned non-zero exit status 1."
          ]
        }
      ]
    },
    {
      "cell_type": "code",
      "source": [
        "# %%bash\n",
        "# source activate facer \n",
        "# conda env list \n",
        "# cd FaceFormer\n",
        "# python main.py --dataset vocaset \\\n",
        "# --vertice_dim 15069 --feature_dim 64 \\\n",
        "# --period 30 \\\n",
        "# --train_subjects \"FaceTalk_170728_03272_TA FaceTalk_170904_00128_TA FaceTalk_170725_00137_TA FaceTalk_170915_00223_TA FaceTalk_170811_03274_TA FaceTalk_170913_03279_TA FaceTalk_170904_03276_TA FaceTalk_170912_03278_TA\" \\\n",
        "# --val_subjects \"FaceTalk_170811_03275_TA FaceTalk_170908_03277_TA\" \\\n",
        "# --test_subjects \"FaceTalk_170809_00138_TA FaceTalk_170731_00024_TA\"\n"
      ],
      "metadata": {
        "id": "M4W7hXK-52Nc"
      },
      "execution_count": null,
      "outputs": []
    },
    {
      "cell_type": "code",
      "source": [
        "# %%bash\n",
        "# source activate facer \n",
        "# conda env list \n",
        "# cd FaceFormer/BIWI\n",
        "# python process_voca_data.py"
      ],
      "metadata": {
        "id": "r0LcVmMTM8K6"
      },
      "execution_count": null,
      "outputs": []
    },
    {
      "cell_type": "code",
      "source": [
        " %%bash\n",
        "source activate facer \n",
        "conda env list \n",
        "cd FaceFormer\n",
        " python main.py --dataset BIWI --vertice_dim 70110 \\\n",
        " --feature_dim 128 --period 25 --train_subjects \"F2 F3 F4 M3 M4 M5\" \\\n",
        " --val_subjects \"F2 F3 F4 M3 M4 M5\" --test_subjects \"F1 F5 F6 F7 F8 M1 M2 M6\""
      ],
      "metadata": {
        "id": "MACsYhe4Mnn7"
      },
      "execution_count": null,
      "outputs": []
    },
    {
      "cell_type": "code",
      "source": [
        " python render.py --dataset BIWI --vertice_dim 70110 --fps 25"
      ],
      "metadata": {
        "id": "zFN-SUBtM3JH",
        "colab": {
          "base_uri": "https://localhost:8080/",
          "height": 130
        },
        "outputId": "40372567-50aa-47e7-a643-4292cae2d575"
      },
      "execution_count": 33,
      "outputs": [
        {
          "output_type": "error",
          "ename": "SyntaxError",
          "evalue": "ignored",
          "traceback": [
            "\u001b[0;36m  File \u001b[0;32m\"<ipython-input-33-b602e840b780>\"\u001b[0;36m, line \u001b[0;32m1\u001b[0m\n\u001b[0;31m    python render.py --dataset BIWI --vertice_dim 70110 --fps 25\u001b[0m\n\u001b[0m           ^\u001b[0m\n\u001b[0;31mSyntaxError\u001b[0m\u001b[0;31m:\u001b[0m invalid syntax\n"
          ]
        }
      ]
    },
    {
      "cell_type": "code",
      "source": [
        "import numpy as np\n",
        "\n",
        "img_array = np.load('/content/FaceFormer/vocaset/result/FaceTalk_170731_00024_TA_sentence23_condition_FaceTalk_170725_00137_TA.npy')"
      ],
      "metadata": {
        "id": "4Prn8se-cFhB"
      },
      "execution_count": 31,
      "outputs": []
    },
    {
      "cell_type": "code",
      "source": [
        "from matplotlib import pyplot as plt\n",
        "\n",
        "plt.imshow(img_array, cmap='gray')\n",
        "plt.show()"
      ],
      "metadata": {
        "colab": {
          "base_uri": "https://localhost:8080/",
          "height": 55
        },
        "id": "b2wjpiZUcDyd",
        "outputId": "7394632e-84b5-4872-b405-8801844bdbbb"
      },
      "execution_count": 32,
      "outputs": [
        {
          "output_type": "display_data",
          "data": {
            "text/plain": [
              "<Figure size 432x288 with 1 Axes>"
            ],
            "image/png": "[encoded data removed]"
          },
          "metadata": {
            "needs_background": "light"
          }
        }
      ]
    }
  ]
}