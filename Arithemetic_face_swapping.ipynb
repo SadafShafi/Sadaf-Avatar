{
  "nbformat": 4,
  "nbformat_minor": 0,
  "metadata": {
    "colab": {
      "provenance": [],
      "authorship_tag": "ABX9TyPNWkMAqmmftP1QRXreTzwl",
      "include_colab_link": true
    },
    "kernelspec": {
      "name": "python3",
      "display_name": "Python 3"
    },
    "language_info": {
      "name": "python"
    },
    "accelerator": "GPU",
    "gpuClass": "standard"
  },
  "cells": [
    {
      "cell_type": "markdown",
      "metadata": {
        "id": "view-in-github",
        "colab_type": "text"
      },
      "source": [
        "<a href=\"https://colab.research.google.com/github/SadafShafi/Sadaf-Avatar/blob/main/Arithemetic_face_swapping.ipynb\" target=\"_parent\"><img src=\"https://colab.research.google.com/assets/colab-badge.svg\" alt=\"Open In Colab\"/></a>"
      ]
    },
    {
      "cell_type": "code",
      "execution_count": 1,
      "metadata": {
        "colab": {
          "base_uri": "https://localhost:8080/"
        },
        "id": "hROREYqRtgyo",
        "outputId": "b2223434-ce44-4b51-c7dd-8cf3508ec732"
      },
      "outputs": [
        {
          "output_type": "stream",
          "name": "stdout",
          "text": [
            "Cloning into 'AFS'...\n",
            "remote: Enumerating objects: 40, done.\u001b[K\n",
            "remote: Counting objects: 100% (40/40), done.\u001b[K\n",
            "remote: Compressing objects: 100% (32/32), done.\u001b[K\n",
            "remote: Total 40 (delta 7), reused 38 (delta 5), pack-reused 0\u001b[K\n",
            "Unpacking objects: 100% (40/40), 630.73 KiB | 4.78 MiB/s, done.\n"
          ]
        }
      ],
      "source": [
        "!git clone https://github.com/truongvu2000nd/AFS.git"
      ]
    },
    {
      "cell_type": "code",
      "source": [
        "!gdown --id \"1EM87UquaoQmk17Q8d5kYIAHqu0dkYqdT&confirm=t\"\n",
        "!gdown --id \"1cUv_reLE6k3604or78EranS7XzuVMWeO&confirm=t\"\n",
        "!wget https://github.com/truongvu2000nd/AFS/releases/download/v1.0/style_extraction.pth\n",
        "!wget https://github.com/truongvu2000nd/AFS/releases/download/v1.0/face_parsing.pth"
      ],
      "metadata": {
        "id": "5jQWtAPAtsC2"
      },
      "execution_count": null,
      "outputs": []
    },
    {
      "cell_type": "code",
      "source": [
        "!mv *.pth /content/AFS/weights/\n",
        "!mv *.pt /content/AFS/weights/"
      ],
      "metadata": {
        "id": "YuVqmoDfuYS4"
      },
      "execution_count": 3,
      "outputs": []
    },
    {
      "cell_type": "code",
      "source": [
        "!pip install ninja"
      ],
      "metadata": {
        "id": "k2cSN-1SvpK8"
      },
      "execution_count": null,
      "outputs": []
    },
    {
      "cell_type": "code",
      "source": [
        "%%bash\n",
        "cd AFS\n",
        "\n",
        "python inference.py \\\n",
        "    --src_img demo/imm.jpg \\\n",
        "    --tgt_img demo/download.jpg \\\n",
        "    --save_dir demo/output.jpg"
      ],
      "metadata": {
        "colab": {
          "base_uri": "https://localhost:8080/"
        },
        "id": "Ff2cF80OuwWf",
        "outputId": "061edbf7-f90d-41fa-aae2-3a1da5959962"
      },
      "execution_count": 10,
      "outputs": [
        {
          "output_type": "stream",
          "name": "stdout",
          "text": [
            "Load e4e model: ./weights/e4e_ffhq_encode.pt\n",
            "Loading e4e over the pSp framework from checkpoint: ./weights/e4e_ffhq_encode.pt\n",
            "<All keys matched successfully>\n",
            "Load style extraction model: ./weights/style_extraction.pth\n",
            "<All keys matched successfully>\n",
            "Load generator: ./weights/stylegan2-ffhq-config-f.pt\n",
            "Load stylegan2 model from weights/stylegan2-ffhq-config-f.pt\n",
            "Load face parsing: ./weights/face_parsing.pth\n",
            "<All keys matched successfully>\n"
          ]
        },
        {
          "output_type": "stream",
          "name": "stderr",
          "text": [
            "/usr/local/lib/python3.9/dist-packages/torch/functional.py:504: UserWarning: torch.meshgrid: in an upcoming release, it will be required to pass the indexing argument. (Triggered internally at ../aten/src/ATen/native/TensorShape.cpp:3483.)\n",
            "  return _VF.meshgrid(tensors, **kwargs)  # type: ignore[attr-defined]\n"
          ]
        }
      ]
    },
    {
      "cell_type": "code",
      "source": [],
      "metadata": {
        "id": "GaFZTArSu9_Y"
      },
      "execution_count": null,
      "outputs": []
    }
  ]
}